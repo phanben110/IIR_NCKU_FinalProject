{
 "cells": [
  {
   "cell_type": "code",
   "execution_count": 64,
   "metadata": {},
   "outputs": [],
   "source": [
    "import torch\n",
    "from tqdm import tqdm\n",
    "from transformers import BertTokenizer, BertModel\n",
    "import os\n",
    "from datetime import datetime\n",
    "import torch.nn as nn\n",
    "from torch.utils.data import Dataset, DataLoader\n",
    "import warnings\n",
    "warnings.filterwarnings(\"ignore\")"
   ]
  },
  {
   "cell_type": "code",
   "execution_count": 80,
   "metadata": {},
   "outputs": [],
   "source": [
    "# Tokenize and encode the sentences\n",
    "class MyDataset(Dataset):\n",
    "    def __init__(self, e1, e2, sentence , tokenizer, max_len):\n",
    "        self.e1 = e1\n",
    "        self.e2 = e2 \n",
    "        self.sentence = sentence \n",
    "        self.tokenizer = tokenizer \n",
    "        self.max_len = max_len\n",
    "\n",
    "    def __len__(self):\n",
    "          return 1 \n",
    "\n",
    "    def __getitem__(self, index):\n",
    "        if self.sentence == None: \n",
    "            input_text = f\"{self.e1} [SEP] {self.e2}\"\n",
    "        else:\n",
    "            input_text = f\"{self.sentence} [SEP] {self.e1} [SEP] {self.e2}\"\n",
    "\n",
    "        encoding = self.tokenizer.encode_plus(\n",
    "            input_text,\n",
    "            add_special_tokens=True,\n",
    "            truncation=True,\n",
    "            max_length=self.max_len,\n",
    "            return_token_type_ids=False,\n",
    "            padding='max_length',\n",
    "            return_attention_mask=True,\n",
    "            return_tensors='pt',\n",
    "        )\n",
    "\n",
    "        return {\n",
    "            'text': input_text,\n",
    "            'input_ids': encoding['input_ids'].flatten(),\n",
    "            'attention_mask': encoding['attention_mask'].flatten()\n",
    "        }"
   ]
  },
  {
   "cell_type": "code",
   "execution_count": 81,
   "metadata": {},
   "outputs": [],
   "source": [
    "test_dataset = MyDataset( e1 = \"Barack Obama\", e2 = \"Michelle Obama\", sentence = \"Barack Obama is married to Michelle Obama.\", tokenizer = tokenizer, max_len = 128)\n",
    "test_loader = DataLoader(test_dataset, batch_size=1, shuffle=True )"
   ]
  },
  {
   "cell_type": "code",
   "execution_count": 82,
   "metadata": {},
   "outputs": [],
   "source": [
    "class BertSentimentClassifier(nn.Module):\n",
    "    def __init__(self, bert_model_name, num_classes):\n",
    "        super(BertSentimentClassifier, self).__init__()\n",
    "\n",
    "        self.bert = BertModel.from_pretrained(bert_model_name)\n",
    "        self.dropout1 = nn.Dropout(0.2)\n",
    "        self.fc1 = nn.Linear(self.bert.config.hidden_size, 256)\n",
    "        self.dropout2 = nn.Dropout(0.2)\n",
    "        self.fc2 = nn.Linear(256, num_classes)\n",
    "\n",
    "\n",
    "    def forward(self, input_ids, attention_mask):\n",
    "        outputs = self.bert(input_ids=input_ids, attention_mask=attention_mask)\n",
    "        pooled_output = outputs.pooler_output\n",
    "        pooled_output = self.dropout1(pooled_output)\n",
    "        output = self.fc1(pooled_output)\n",
    "        output = self.dropout2(output)\n",
    "        logits = self.fc2(output)\n",
    "\n",
    "        return logits"
   ]
  },
  {
   "cell_type": "code",
   "execution_count": 94,
   "metadata": {},
   "outputs": [
    {
     "name": "stderr",
     "output_type": "stream",
     "text": [
      "Some weights of BertModel were not initialized from the model checkpoint at alvaroalon2/biobert_diseases_ner and are newly initialized: ['bert.pooler.dense.bias', 'bert.pooler.dense.weight']\n",
      "You should probably TRAIN this model on a down-stream task to be able to use it for predictions and inference.\n"
     ]
    }
   ],
   "source": [
    "def load_bert_model(weight_path, bert_model_name):\n",
    "\n",
    "    num_classes = 6\n",
    "    model_predict = BertSentimentClassifier(bert_model_name, num_classes)\n",
    "    model_predict.load_state_dict(torch.load(weight_path, map_location=torch.device('cpu')))\n",
    "    tokenizer = BertTokenizer.from_pretrained(bert_model_name) \n",
    "    return model_predict, tokenizer\n",
    "\n",
    "\n",
    "weight_path = \"Model_BERT_1_270/final_model_BERT1.pt\" \n",
    "bert_model_name = \"alvaroalon2/biobert_diseases_ner\"\n",
    "# bert_model_name = \"bert-base-uncased\"\n",
    "model_predict, tokenizer = load_bert_model(weight_path, bert_model_name)"
   ]
  },
  {
   "cell_type": "code",
   "execution_count": 95,
   "metadata": {},
   "outputs": [
    {
     "name": "stderr",
     "output_type": "stream",
     "text": [
      "Some weights of BertModel were not initialized from the model checkpoint at alvaroalon2/biobert_diseases_ner and are newly initialized: ['bert.pooler.dense.bias', 'bert.pooler.dense.weight']\n",
      "You should probably TRAIN this model on a down-stream task to be able to use it for predictions and inference.\n"
     ]
    },
    {
     "ename": "TypeError",
     "evalue": "'tuple' object is not callable",
     "output_type": "error",
     "traceback": [
      "\u001b[0;31m---------------------------------------------------------------------------\u001b[0m",
      "\u001b[0;31mTypeError\u001b[0m                                 Traceback (most recent call last)",
      "\u001b[1;32m/Users/benphan/NCKU/Courses/BioMedical_Information_Retrieval/Homework5/Predict_BERT.ipynb Cell 6\u001b[0m line \u001b[0;36m<cell line: 3>\u001b[0;34m()\u001b[0m\n\u001b[1;32m      <a href='vscode-notebook-cell:/Users/benphan/NCKU/Courses/BioMedical_Information_Retrieval/Homework5/Predict_BERT.ipynb#X26sZmlsZQ%3D%3D?line=3'>4</a>\u001b[0m input_ids \u001b[39m=\u001b[39m data[\u001b[39m\"\u001b[39m\u001b[39minput_ids\u001b[39m\u001b[39m\"\u001b[39m]\n\u001b[1;32m      <a href='vscode-notebook-cell:/Users/benphan/NCKU/Courses/BioMedical_Information_Retrieval/Homework5/Predict_BERT.ipynb#X26sZmlsZQ%3D%3D?line=4'>5</a>\u001b[0m attention_mask \u001b[39m=\u001b[39m data[\u001b[39m\"\u001b[39m\u001b[39mattention_mask\u001b[39m\u001b[39m\"\u001b[39m]\n\u001b[0;32m----> <a href='vscode-notebook-cell:/Users/benphan/NCKU/Courses/BioMedical_Information_Retrieval/Homework5/Predict_BERT.ipynb#X26sZmlsZQ%3D%3D?line=5'>6</a>\u001b[0m logits \u001b[39m=\u001b[39m model_predict(input_ids, attention_mask)\n\u001b[1;32m      <a href='vscode-notebook-cell:/Users/benphan/NCKU/Courses/BioMedical_Information_Retrieval/Homework5/Predict_BERT.ipynb#X26sZmlsZQ%3D%3D?line=7'>8</a>\u001b[0m \u001b[39m# Get predicted labels and probabilities\u001b[39;00m\n\u001b[1;32m      <a href='vscode-notebook-cell:/Users/benphan/NCKU/Courses/BioMedical_Information_Retrieval/Homework5/Predict_BERT.ipynb#X26sZmlsZQ%3D%3D?line=8'>9</a>\u001b[0m predicted_labels \u001b[39m=\u001b[39m torch\u001b[39m.\u001b[39margmax(logits, dim\u001b[39m=\u001b[39m\u001b[39m1\u001b[39m)\u001b[39m.\u001b[39mtolist()[\u001b[39m0\u001b[39m]\n",
      "\u001b[0;31mTypeError\u001b[0m: 'tuple' object is not callable"
     ]
    }
   ],
   "source": [
    "model_predict = load_bert_model(weight_path, bert_model_name)\n",
    "\n",
    "for data in test_loader:\n",
    "    input_ids = data[\"input_ids\"]\n",
    "    attention_mask = data[\"attention_mask\"]\n",
    "    logits = model_predict(input_ids, attention_mask)\n",
    "\n",
    "    # Get predicted labels and probabilities\n",
    "    predicted_labels = torch.argmax(logits, dim=1).tolist()[0]\n",
    "    predicted_probs = torch.nn.functional.softmax(logits, dim=1)[0].tolist()\n",
    "\n",
    "    # Check if the prediction is false (label 5)\n",
    "    if predicted_labels == 0 :\n",
    "        # Penalize false prediction by reducing probabilities\n",
    "        predicted_probs = [(prob * 0.8) for prob in predicted_probs]\n",
    "\n",
    "        # Identify the second best class with highest probability\n",
    "        second_best_index = sorted(range(len(predicted_probs)), key=predicted_probs.get, reverse=True)[1]\n",
    "        second_best_prob = predicted_probs[second_best_index]\n",
    "\n",
    "        # Increase the probability of the second best class\n",
    "        predicted_probs[second_best_index] += 0.2\n",
    "\n",
    "        # Update the predicted label based on the adjusted probabilities\n",
    "        predicted_labels = torch.argmax(predicted_probs, dim=1).tolist()[0]"
   ]
  },
  {
   "cell_type": "code",
   "execution_count": 93,
   "metadata": {},
   "outputs": [
    {
     "name": "stdout",
     "output_type": "stream",
     "text": [
      "false\n",
      "[0.970928430557251, 0.004575161729007959, 0.01332778763025999, 0.007972477003932, 0.0031905861105769873, 5.627837253996404e-06]\n"
     ]
    },
    {
     "data": {
      "image/png": "[encoded data removed]",
      "text/plain": [
       "<Figure size 576x432 with 1 Axes>"
      ]
     },
     "metadata": {
      "needs_background": "light"
     },
     "output_type": "display_data"
    }
   ],
   "source": [
    "import matplotlib.pyplot as plt\n",
    "import seaborn as sns\n",
    "labels = [\"false\", \"effect\", \"mechanism\", \"advise\", \"int\"]  \n",
    "for data in test_loader:\n",
    "    input_ids = data[\"input_ids\"]\n",
    "    attention_mask = data[\"attention_mask\"]\n",
    "    logits = model_predict(input_ids, attention_mask)\n",
    "    # Get predicted labels\n",
    "    # predicted_labels = torch.argmax(logits, dim=1).tolist()\n",
    "    predicted_labels = torch.argmax(logits, dim=1).tolist()[0] \n",
    "    print(labels[predicted_labels]) \n",
    "    probs = torch.nn.functional.softmax(logits, dim=1)[0].tolist()\n",
    "\n",
    "    print(probs)\n",
    "# Filter out class 5\n",
    "filtered_probs = [prob for i, prob in enumerate(probs) if i != 5]\n",
    "\n",
    "# Create a list of labels excluding class 5\n",
    "filtered_labels = labels\n",
    "\n",
    "# Plot the distribution using seaborn\n",
    "plt.figure(figsize=(8, 6))\n",
    "sns.barplot(x=filtered_labels, y=filtered_probs, palette='viridis')\n",
    "plt.xlabel('Labels')\n",
    "plt.ylabel('Probability')\n",
    "plt.title('Predicted Label Distribution')\n",
    "\n",
    "# Display percentages on top of each bar\n",
    "for i, prob in enumerate(filtered_probs):\n",
    "    plt.text(i, prob + 0.01, f'{prob * 100:.2f}%', ha='center')\n",
    "\n",
    "plt.show()"
   ]
  },
  {
   "cell_type": "code",
   "execution_count": 103,
   "metadata": {},
   "outputs": [
    {
     "ename": "TypeError",
     "evalue": "'float' object is not subscriptable",
     "output_type": "error",
     "traceback": [
      "\u001b[0;31m---------------------------------------------------------------------------\u001b[0m",
      "\u001b[0;31mTypeError\u001b[0m                                 Traceback (most recent call last)",
      "\u001b[1;32m/Users/benphan/NCKU/Courses/BioMedical_Information_Retrieval/Homework5/Predict_BERT.ipynb Cell 8\u001b[0m line \u001b[0;36m<cell line: 1>\u001b[0;34m()\u001b[0m\n\u001b[0;32m----> <a href='vscode-notebook-cell:/Users/benphan/NCKU/Courses/BioMedical_Information_Retrieval/Homework5/Predict_BERT.ipynb#X30sZmlsZQ%3D%3D?line=0'>1</a>\u001b[0m probs[\u001b[39m0\u001b[39;49m][\u001b[39m0\u001b[39;49m]\n",
      "\u001b[0;31mTypeError\u001b[0m: 'float' object is not subscriptable"
     ]
    }
   ],
   "source": [
    "probs[0][0]"
   ]
  },
  {
   "cell_type": "code",
   "execution_count": 68,
   "metadata": {},
   "outputs": [
    {
     "name": "stdout",
     "output_type": "stream",
     "text": [
      "mechanism\n"
     ]
    }
   ],
   "source": [
    "# The rest of your Streamlit app code\n",
    "input_text = \"Betaseron [SEP] antipyrine [SEP] Betaseron administration to three cancer patients over a dose range of 0.025 mg to 2.2 mg led to a dose-dependent inhibition of antipyrine elimination.14 The effect of alternate-day administration of 0.25 mg of Betaseron on drug metabolism in MS patients is unknown.\"\n",
    "#input_text = \"Betaseron [SEP] antipyrine\"\n",
    "max_len = 270\n",
    "device = \"cpu\"\n",
    "labels = [\"false\", \"effect\", \"mechanism\", \"advise\", \"int\"] \n",
    "encoded_input = tokenizer.encode_plus(\n",
    "            input_text, \n",
    "            add_special_tokens=True,\n",
    "            truncation=True,\n",
    "            max_length= max_len,\n",
    "            return_token_type_ids=False,\n",
    "            padding='max_length',\n",
    "            return_attention_mask=True,\n",
    "            return_tensors='pt',\n",
    "        ).to(device)\n",
    "predict_id = torch.argmax(model_predict(**encoded_input), dim=1).item()\n",
    "print(labels[predict_id]) "
   ]
  },
  {
   "cell_type": "code",
   "execution_count": 61,
   "metadata": {},
   "outputs": [
    {
     "data": {
      "image/png": "[encoded data removed]",
      "text/plain": [
       "<Figure size 576x432 with 1 Axes>"
      ]
     },
     "metadata": {
      "needs_background": "light"
     },
     "output_type": "display_data"
    }
   ],
   "source": [
    "import matplotlib.pyplot as plt\n",
    "import seaborn as sns\n",
    "\n",
    "# The rest of your code...\n",
    "\n",
    "# Get the predicted label probabilities\n",
    "probs = torch.nn.functional.softmax(model_predict(**encoded_input), dim=1)[0].tolist()\n",
    "\n",
    "# Filter out class 5\n",
    "filtered_probs = [prob for i, prob in enumerate(probs) if i != 5]\n",
    "\n",
    "# Create a list of labels excluding class 5\n",
    "filtered_labels = labels\n",
    "\n",
    "# Plot the distribution using seaborn\n",
    "plt.figure(figsize=(8, 6))\n",
    "sns.barplot(x=filtered_labels, y=filtered_probs, palette='viridis')\n",
    "plt.xlabel('Labels')\n",
    "plt.ylabel('Probability')\n",
    "plt.title('Predicted Label Distribution')\n",
    "\n",
    "# Display percentages on top of each bar\n",
    "for i, prob in enumerate(filtered_probs):\n",
    "    plt.text(i, prob + 0.01, f'{prob * 100:.2f}%', ha='center')\n",
    "\n",
    "plt.show()\n"
   ]
  },
  {
   "cell_type": "code",
   "execution_count": null,
   "metadata": {},
   "outputs": [],
   "source": []
  }
 ],
 "metadata": {
  "kernelspec": {
   "display_name": "ai",
   "language": "python",
   "name": "python3"
  },
  "language_info": {
   "codemirror_mode": {
    "name": "ipython",
    "version": 3
   },
   "file_extension": ".py",
   "mimetype": "text/x-python",
   "name": "python",
   "nbconvert_exporter": "python",
   "pygments_lexer": "ipython3",
   "version": "3.9.12"
  }
 },
 "nbformat": 4,
 "nbformat_minor": 2
}
