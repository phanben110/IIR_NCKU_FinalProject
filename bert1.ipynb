{
 "cells": [
  {
   "cell_type": "code",
   "execution_count": 1,
   "id": "ce114085",
   "metadata": {
    "_cell_guid": "b1076dfc-b9ad-4769-8c92-a6c4dae69d19",
    "_uuid": "8f2839f25d086af736a60e9eeb907d3b93b6e0e5",
    "execution": {
     "iopub.execute_input": "2023-12-07T09:51:47.016677Z",
     "iopub.status.busy": "2023-12-07T09:51:47.016015Z",
     "iopub.status.idle": "2023-12-07T09:51:57.069596Z",
     "shell.execute_reply": "2023-12-07T09:51:57.068725Z"
    },
    "papermill": {
     "duration": 10.062216,
     "end_time": "2023-12-07T09:51:57.071585",
     "exception": false,
     "start_time": "2023-12-07T09:51:47.009369",
     "status": "completed"
    },
    "tags": []
   },
   "outputs": [
    {
     "name": "stderr",
     "output_type": "stream",
     "text": [
      "/opt/conda/lib/python3.10/site-packages/scipy/__init__.py:146: UserWarning: A NumPy version >=1.16.5 and <1.23.0 is required for this version of SciPy (detected version 1.24.3\n",
      "  warnings.warn(f\"A NumPy version >={np_minversion} and <{np_maxversion}\"\n"
     ]
    },
    {
     "data": {
      "application/vnd.jupyter.widget-view+json": {
       "model_id": "086de6f28bd3454a9764838d44165da6",
       "version_major": 2,
       "version_minor": 0
      },
      "text/plain": [
       "Downloading tokenizer_config.json:   0%|          | 0.00/59.0 [00:00<?, ?B/s]"
      ]
     },
     "metadata": {},
     "output_type": "display_data"
    },
    {
     "data": {
      "application/vnd.jupyter.widget-view+json": {
       "model_id": "d63e9cb1e03d44c69b7f56983aa1c71d",
       "version_major": 2,
       "version_minor": 0
      },
      "text/plain": [
       "Downloading vocab.txt:   0%|          | 0.00/213k [00:00<?, ?B/s]"
      ]
     },
     "metadata": {},
     "output_type": "display_data"
    },
    {
     "data": {
      "application/vnd.jupyter.widget-view+json": {
       "model_id": "9899c905a17249fd807b167d61721178",
       "version_major": 2,
       "version_minor": 0
      },
      "text/plain": [
       "Downloading (…)cial_tokens_map.json:   0%|          | 0.00/112 [00:00<?, ?B/s]"
      ]
     },
     "metadata": {},
     "output_type": "display_data"
    },
    {
     "data": {
      "application/vnd.jupyter.widget-view+json": {
       "model_id": "4134c99b8dc4478e8d8d302e02d3f3c6",
       "version_major": 2,
       "version_minor": 0
      },
      "text/plain": [
       "Downloading config.json:   0%|          | 0.00/746 [00:00<?, ?B/s]"
      ]
     },
     "metadata": {},
     "output_type": "display_data"
    }
   ],
   "source": [
    "import torch\n",
    "from torch.utils.data import Dataset, DataLoader\n",
    "from transformers import BertTokenizer, BertForSequenceClassification, AdamW\n",
    "from sklearn.model_selection import train_test_split\n",
    "from sklearn.preprocessing import LabelEncoder\n",
    "from sklearn.metrics import accuracy_score, precision_recall_fscore_support\n",
    "import pandas as pd\n",
    "from tqdm import tqdm\n",
    "from datetime import datetime\n",
    "from sklearn.preprocessing import LabelEncoder\n",
    "from sklearn.metrics import accuracy_score\n",
    "# Define the BERT tokenizer and model\n",
    "import os\n",
    "import numpy as np\n",
    "import seaborn as sns\n",
    "import matplotlib.pyplot as plt\n",
    "import torch.nn as nn\n",
    "from transformers import BertTokenizer, BertModel\n",
    "import os\n",
    "from datetime import datetime\n",
    "import torch\n",
    "import torch.nn as nn\n",
    "from tqdm import tqdm\n",
    "from sklearn.metrics import f1_score, precision_score, recall_score\n",
    "name_bert = \"alvaroalon2/biobert_diseases_ner\"\n",
    "tokenizer = BertTokenizer.from_pretrained(name_bert)"
   ]
  },
  {
   "cell_type": "code",
   "execution_count": 2,
   "id": "f88e3df2",
   "metadata": {
    "execution": {
     "iopub.execute_input": "2023-12-07T09:51:57.084192Z",
     "iopub.status.busy": "2023-12-07T09:51:57.083742Z",
     "iopub.status.idle": "2023-12-07T09:51:57.461409Z",
     "shell.execute_reply": "2023-12-07T09:51:57.460522Z"
    },
    "papermill": {
     "duration": 0.386317,
     "end_time": "2023-12-07T09:51:57.463660",
     "exception": false,
     "start_time": "2023-12-07T09:51:57.077343",
     "status": "completed"
    },
    "tags": []
   },
   "outputs": [
    {
     "name": "stderr",
     "output_type": "stream",
     "text": [
      "/opt/conda/lib/python3.10/site-packages/sklearn/utils/validation.py:605: FutureWarning: is_sparse is deprecated and will be removed in a future version. Check `isinstance(dtype, pd.SparseDtype)` instead.\n",
      "  if is_sparse(pd_dtype):\n",
      "/opt/conda/lib/python3.10/site-packages/sklearn/utils/validation.py:614: FutureWarning: is_sparse is deprecated and will be removed in a future version. Check `isinstance(dtype, pd.SparseDtype)` instead.\n",
      "  if is_sparse(pd_dtype) or not is_extension_array_dtype(pd_dtype):\n",
      "/opt/conda/lib/python3.10/site-packages/sklearn/utils/validation.py:605: FutureWarning: is_sparse is deprecated and will be removed in a future version. Check `isinstance(dtype, pd.SparseDtype)` instead.\n",
      "  if is_sparse(pd_dtype):\n",
      "/opt/conda/lib/python3.10/site-packages/sklearn/utils/validation.py:614: FutureWarning: is_sparse is deprecated and will be removed in a future version. Check `isinstance(dtype, pd.SparseDtype)` instead.\n",
      "  if is_sparse(pd_dtype) or not is_extension_array_dtype(pd_dtype):\n",
      "/opt/conda/lib/python3.10/site-packages/sklearn/utils/validation.py:605: FutureWarning: is_sparse is deprecated and will be removed in a future version. Check `isinstance(dtype, pd.SparseDtype)` instead.\n",
      "  if is_sparse(pd_dtype):\n",
      "/opt/conda/lib/python3.10/site-packages/sklearn/utils/validation.py:614: FutureWarning: is_sparse is deprecated and will be removed in a future version. Check `isinstance(dtype, pd.SparseDtype)` instead.\n",
      "  if is_sparse(pd_dtype) or not is_extension_array_dtype(pd_dtype):\n",
      "/opt/conda/lib/python3.10/site-packages/sklearn/utils/validation.py:605: FutureWarning: is_sparse is deprecated and will be removed in a future version. Check `isinstance(dtype, pd.SparseDtype)` instead.\n",
      "  if is_sparse(pd_dtype):\n",
      "/opt/conda/lib/python3.10/site-packages/sklearn/utils/validation.py:614: FutureWarning: is_sparse is deprecated and will be removed in a future version. Check `isinstance(dtype, pd.SparseDtype)` instead.\n",
      "  if is_sparse(pd_dtype) or not is_extension_array_dtype(pd_dtype):\n"
     ]
    }
   ],
   "source": [
    "path_data_train = \"/kaggle/input/iir-semeval-2013-task-9/train_dataset.csv\"\n",
    "path_data_test = \"/kaggle/input/iir-semeval-2013-task-9/test_dataset.csv\"\n",
    "path_data_devel = \"/kaggle/input/iir-semeval-2013-task-9/Devel_dataset.csv\"\n",
    "train_df = pd.read_csv(path_data_train, sep=',', encoding='utf-8')\n",
    "test_df = pd.read_csv(path_data_test, sep=',', encoding='utf-8')\n",
    "devel_df = pd.read_csv(path_data_devel, sep=',', encoding='utf-8')\n",
    "le = LabelEncoder()\n",
    "class_mapping = {\n",
    "    'false': 0,\n",
    "    'effect': 1,\n",
    "    'mechanism': 2,\n",
    "    'advise': 3,\n",
    "    'int': 4\n",
    "}\n",
    "# Fit and transform the 'pair type' column using the custom mapping\n",
    "train_df['pair type'] = le.fit_transform(train_df['pair type'].map(class_mapping))\n",
    "test_df['pair type'] = le.fit_transform(test_df['pair type'].map(class_mapping))\n",
    "devel_df['pair type'] = le.fit_transform(devel_df['pair type'].map(class_mapping))\n",
    "# Use train_test_split with stratify\n",
    "train_df, val_df = train_test_split(train_df, test_size=0.1, stratify=train_df['pair type'], random_state=42)"
   ]
  },
  {
   "cell_type": "code",
   "execution_count": 3,
   "id": "a45f6ad6",
   "metadata": {
    "execution": {
     "iopub.execute_input": "2023-12-07T09:51:57.476833Z",
     "iopub.status.busy": "2023-12-07T09:51:57.476097Z",
     "iopub.status.idle": "2023-12-07T09:51:57.482684Z",
     "shell.execute_reply": "2023-12-07T09:51:57.481873Z"
    },
    "papermill": {
     "duration": 0.015117,
     "end_time": "2023-12-07T09:51:57.484492",
     "exception": false,
     "start_time": "2023-12-07T09:51:57.469375",
     "status": "completed"
    },
    "tags": []
   },
   "outputs": [
    {
     "data": {
      "text/plain": [
       "((41058, 4), (5716, 4), (2703, 4), (4563, 4))"
      ]
     },
     "execution_count": 3,
     "metadata": {},
     "output_type": "execute_result"
    }
   ],
   "source": [
    "train_df.shape, test_df.shape, devel_df.shape, val_df.shape"
   ]
  },
  {
   "cell_type": "code",
   "execution_count": 4,
   "id": "56bac925",
   "metadata": {
    "execution": {
     "iopub.execute_input": "2023-12-07T09:51:57.496732Z",
     "iopub.status.busy": "2023-12-07T09:51:57.496464Z",
     "iopub.status.idle": "2023-12-07T09:51:57.585115Z",
     "shell.execute_reply": "2023-12-07T09:51:57.584338Z"
    },
    "papermill": {
     "duration": 0.097259,
     "end_time": "2023-12-07T09:51:57.587266",
     "exception": false,
     "start_time": "2023-12-07T09:51:57.490007",
     "status": "completed"
    },
    "tags": []
   },
   "outputs": [],
   "source": [
    "val_df.to_csv(\"/kaggle/working/train_dataset_3.csv\")"
   ]
  },
  {
   "cell_type": "code",
   "execution_count": 5,
   "id": "deaf037c",
   "metadata": {
    "execution": {
     "iopub.execute_input": "2023-12-07T09:51:57.599953Z",
     "iopub.status.busy": "2023-12-07T09:51:57.599627Z",
     "iopub.status.idle": "2023-12-07T09:51:57.607675Z",
     "shell.execute_reply": "2023-12-07T09:51:57.606881Z"
    },
    "papermill": {
     "duration": 0.016487,
     "end_time": "2023-12-07T09:51:57.609586",
     "exception": false,
     "start_time": "2023-12-07T09:51:57.593099",
     "status": "completed"
    },
    "tags": []
   },
   "outputs": [],
   "source": [
    "# Tokenize and encode the sentences\n",
    "class MyDataset(Dataset):\n",
    "    def __init__(self, df, tokenizer, max_len):\n",
    "        self.data = df\n",
    "        self.tokenizer = tokenizer\n",
    "        self.max_len = max_len\n",
    "\n",
    "    def __len__(self):\n",
    "        return len(self.data)\n",
    "\n",
    "    def __getitem__(self, index):\n",
    "        sentence = self.data.iloc[index]['Full Sentence']\n",
    "        e1 = self.data.iloc[index]['entity e1']\n",
    "        e2 = self.data.iloc[index]['entity e2']\n",
    "        pair_type = self.data.iloc[index]['pair type']\n",
    "        input_text = f\"{e1} [SEP] {e2}\"\n",
    "#         input_text = f\"{sentence} [SEP] {e1} [SEP] {e2}\"\n",
    "\n",
    "        encoding = self.tokenizer.encode_plus(\n",
    "            input_text,\n",
    "            add_special_tokens=True,\n",
    "            truncation=True,\n",
    "            max_length=self.max_len,\n",
    "            return_token_type_ids=False,\n",
    "            padding='max_length',\n",
    "            return_attention_mask=True,\n",
    "            return_tensors='pt',\n",
    "        )\n",
    "\n",
    "        return {\n",
    "            'text': input_text,\n",
    "            'input_ids': encoding['input_ids'].flatten(),\n",
    "            'attention_mask': encoding['attention_mask'].flatten(),\n",
    "            'labels': torch.tensor(pair_type, dtype=torch.long)\n",
    "        }\n"
   ]
  },
  {
   "cell_type": "code",
   "execution_count": 6,
   "id": "b82d6b09",
   "metadata": {
    "execution": {
     "iopub.execute_input": "2023-12-07T09:51:57.621723Z",
     "iopub.status.busy": "2023-12-07T09:51:57.621462Z",
     "iopub.status.idle": "2023-12-07T09:51:57.886130Z",
     "shell.execute_reply": "2023-12-07T09:51:57.885156Z"
    },
    "papermill": {
     "duration": 0.273375,
     "end_time": "2023-12-07T09:51:57.888547",
     "exception": false,
     "start_time": "2023-12-07T09:51:57.615172",
     "status": "completed"
    },
    "tags": []
   },
   "outputs": [],
   "source": [
    "# create an instance of the BERT tokenizer\n",
    "tokenizer = BertTokenizer.from_pretrained(name_bert)\n",
    "# set the batch size\n",
    "batch_size = 400\n",
    "num_epochs = 150  # Adjust as needed\n",
    "\n",
    "# set the maximum sequence length\n",
    "max_len = 30\n",
    "\n",
    "# create data loaders for the training and validation sets\n",
    "train_dataset = MyDataset(train_df, tokenizer, max_len)\n",
    "train_loader = DataLoader(train_dataset, batch_size=batch_size, shuffle=True)\n",
    "\n",
    "devel_dataset = MyDataset(devel_df, tokenizer, max_len)\n",
    "devel_loader = DataLoader(devel_dataset, batch_size=batch_size)\n",
    "\n",
    "test_dataset = MyDataset(test_df, tokenizer, max_len)\n",
    "test_loader = DataLoader(test_dataset, batch_size=batch_size)\n",
    "\n",
    "val_dataset = MyDataset(val_df, tokenizer, max_len)\n",
    "val_loader = DataLoader(val_dataset, batch_size=batch_size)"
   ]
  },
  {
   "cell_type": "code",
   "execution_count": 7,
   "id": "2bf02490",
   "metadata": {
    "execution": {
     "iopub.execute_input": "2023-12-07T09:51:57.901471Z",
     "iopub.status.busy": "2023-12-07T09:51:57.901167Z",
     "iopub.status.idle": "2023-12-07T09:51:57.908160Z",
     "shell.execute_reply": "2023-12-07T09:51:57.907337Z"
    },
    "papermill": {
     "duration": 0.015672,
     "end_time": "2023-12-07T09:51:57.910171",
     "exception": false,
     "start_time": "2023-12-07T09:51:57.894499",
     "status": "completed"
    },
    "tags": []
   },
   "outputs": [],
   "source": [
    "class BertSentimentClassifier(nn.Module):\n",
    "    def __init__(self, bert_model_name, num_classes):\n",
    "        super(BertSentimentClassifier, self).__init__()\n",
    "\n",
    "        self.bert = BertModel.from_pretrained(bert_model_name)\n",
    "        self.dropout1 = nn.Dropout(0.2)\n",
    "        self.fc1 = nn.Linear(self.bert.config.hidden_size, 256)\n",
    "        self.dropout2 = nn.Dropout(0.2)\n",
    "        self.fc2 = nn.Linear(256, num_classes)\n",
    "\n",
    "\n",
    "    def forward(self, input_ids, attention_mask):\n",
    "        outputs = self.bert(input_ids=input_ids, attention_mask=attention_mask)\n",
    "        pooled_output = outputs.pooler_output\n",
    "        pooled_output = self.dropout1(pooled_output)\n",
    "        output = self.fc1(pooled_output)\n",
    "        output = self.dropout2(output)\n",
    "        logits = self.fc2(output)\n",
    "\n",
    "        return logits"
   ]
  },
  {
   "cell_type": "code",
   "execution_count": 8,
   "id": "5e2a45a0",
   "metadata": {
    "execution": {
     "iopub.execute_input": "2023-12-07T09:51:57.922337Z",
     "iopub.status.busy": "2023-12-07T09:51:57.922057Z",
     "iopub.status.idle": "2023-12-07T09:52:24.356748Z",
     "shell.execute_reply": "2023-12-07T09:52:24.355866Z"
    },
    "papermill": {
     "duration": 26.443201,
     "end_time": "2023-12-07T09:52:24.358862",
     "exception": false,
     "start_time": "2023-12-07T09:51:57.915661",
     "status": "completed"
    },
    "tags": []
   },
   "outputs": [
    {
     "data": {
      "application/vnd.jupyter.widget-view+json": {
       "model_id": "c8023a9891f5409caec962d9d49c163d",
       "version_major": 2,
       "version_minor": 0
      },
      "text/plain": [
       "Downloading pytorch_model.bin:   0%|          | 0.00/431M [00:00<?, ?B/s]"
      ]
     },
     "metadata": {},
     "output_type": "display_data"
    },
    {
     "name": "stderr",
     "output_type": "stream",
     "text": [
      "Some weights of BertModel were not initialized from the model checkpoint at alvaroalon2/biobert_diseases_ner and are newly initialized: ['bert.pooler.dense.bias', 'bert.pooler.dense.weight']\n",
      "You should probably TRAIN this model on a down-stream task to be able to use it for predictions and inference.\n"
     ]
    }
   ],
   "source": [
    "\n",
    "num_classes = train_df[\"pair type\"].nunique()\n",
    "model = BertSentimentClassifier(name_bert, num_classes)\n",
    "criterion = nn.CrossEntropyLoss()"
   ]
  },
  {
   "cell_type": "code",
   "execution_count": 9,
   "id": "29469e91",
   "metadata": {
    "execution": {
     "iopub.execute_input": "2023-12-07T09:52:24.372235Z",
     "iopub.status.busy": "2023-12-07T09:52:24.371943Z",
     "iopub.status.idle": "2023-12-07T09:52:24.382644Z",
     "shell.execute_reply": "2023-12-07T09:52:24.381813Z"
    },
    "papermill": {
     "duration": 0.019643,
     "end_time": "2023-12-07T09:52:24.384590",
     "exception": false,
     "start_time": "2023-12-07T09:52:24.364947",
     "status": "completed"
    },
    "tags": []
   },
   "outputs": [],
   "source": [
    "import torch.nn.functional as F\n",
    "\n",
    "def focal_loss(outputs, labels, gamma=2.0, alpha=1.0):\n",
    "    ce_loss = F.cross_entropy(outputs, labels, reduction='none')\n",
    "    pt = torch.exp(-ce_loss)\n",
    "    focal_loss = (alpha * (1 - pt) ** gamma * ce_loss).mean()\n",
    "    return focal_loss\n",
    "\n",
    "def train(model, data_loader, optimizer, criterion, device):\n",
    "    # set the model to train mode\n",
    "    model.train()\n",
    "\n",
    "    # initialize the loss, accuracy, precision, recall, and f1_score variables\n",
    "    total_loss, total_accuracy = 0, 0\n",
    "    total_precision, total_recall, total_f1 = 0, 0, 0\n",
    "\n",
    "    # iterate over the data loader\n",
    "    for data in tqdm(data_loader):\n",
    "        # move the inputs to the device\n",
    "        input_ids = data['input_ids'].to(device)\n",
    "        attention_mask = data['attention_mask'].to(device)\n",
    "        labels = data['labels'].to(device)\n",
    "\n",
    "        # zero the gradient\n",
    "        optimizer.zero_grad()\n",
    "\n",
    "        # get the model's predictions\n",
    "        outputs = model(input_ids, attention_mask)\n",
    "\n",
    "        # get the focal loss\n",
    "        loss = focal_loss(outputs, labels)\n",
    "        total_loss += loss.item()\n",
    "\n",
    "        # accuracy calculation\n",
    "        logits = outputs.detach().cpu().numpy()\n",
    "        label_ids = labels.to('cpu').numpy()\n",
    "\n",
    "        total_accuracy += flat_accuracy(logits, label_ids)\n",
    "\n",
    "        # calculate precision, recall, and f1 score\n",
    "        total_precision += precision_score(label_ids, np.argmax(logits, axis=1), average='weighted')\n",
    "        total_recall += recall_score(label_ids, np.argmax(logits, axis=1), average='weighted')\n",
    "        total_f1 += f1_score(label_ids, np.argmax(logits, axis=1), average='weighted')\n",
    "\n",
    "        # perform backpropagation and optimization\n",
    "        loss.backward()\n",
    "        optimizer.step()\n",
    "\n",
    "    # calculate the average loss, accuracy, precision, recall, and f1 score\n",
    "    avg_loss = total_loss / len(data_loader)\n",
    "    # avg_accuracy = total_accuracy / len(data_loader)\n",
    "    avg_precision = total_precision / len(data_loader)\n",
    "    avg_recall = total_recall / len(data_loader)\n",
    "    avg_f1 = total_f1 / len(data_loader)\n",
    "\n",
    "    return avg_loss, avg_precision, avg_recall, avg_f1\n"
   ]
  },
  {
   "cell_type": "code",
   "execution_count": 10,
   "id": "bc6c7542",
   "metadata": {
    "execution": {
     "iopub.execute_input": "2023-12-07T09:52:24.397441Z",
     "iopub.status.busy": "2023-12-07T09:52:24.396952Z",
     "iopub.status.idle": "2023-12-07T09:52:24.401535Z",
     "shell.execute_reply": "2023-12-07T09:52:24.400724Z"
    },
    "papermill": {
     "duration": 0.012963,
     "end_time": "2023-12-07T09:52:24.403257",
     "exception": false,
     "start_time": "2023-12-07T09:52:24.390294",
     "status": "completed"
    },
    "tags": []
   },
   "outputs": [],
   "source": [
    "def flat_accuracy(preds, labels):\n",
    "    pred_flat = np.argmax(preds, axis=1).flatten()\n",
    "    labels_flat = labels.flatten()\n",
    "    return np.sum(pred_flat == labels_flat) / len(labels_flat)"
   ]
  },
  {
   "cell_type": "code",
   "execution_count": 11,
   "id": "e891e39e",
   "metadata": {
    "execution": {
     "iopub.execute_input": "2023-12-07T09:52:24.416024Z",
     "iopub.status.busy": "2023-12-07T09:52:24.415739Z",
     "iopub.status.idle": "2023-12-07T09:52:24.424749Z",
     "shell.execute_reply": "2023-12-07T09:52:24.423988Z"
    },
    "papermill": {
     "duration": 0.017368,
     "end_time": "2023-12-07T09:52:24.426528",
     "exception": false,
     "start_time": "2023-12-07T09:52:24.409160",
     "status": "completed"
    },
    "tags": []
   },
   "outputs": [],
   "source": [
    "def evaluate(model, data_loader, criterion, device):\n",
    "    # set the model to eval mode\n",
    "    model.eval()\n",
    "\n",
    "    # initialize the loss, accuracy, precision, recall, and f1_score variables\n",
    "    total_loss = 0\n",
    "    total_accuracy = 0\n",
    "    total_precision = 0\n",
    "    total_recall = 0\n",
    "    total_f1 = 0\n",
    "\n",
    "    # iterate over the data loader\n",
    "    for data in tqdm(data_loader):\n",
    "        # move the inputs to the device\n",
    "        input_ids = data['input_ids'].to(device)\n",
    "        attention_mask = data['attention_mask'].to(device)\n",
    "        labels = data['labels'].to(device)\n",
    "\n",
    "        # disable gradient computation\n",
    "        with torch.no_grad():\n",
    "            # get the model's predictions\n",
    "            outputs = model(input_ids, attention_mask)\n",
    "\n",
    "            # get the loss\n",
    "            loss = criterion(outputs, labels)\n",
    "            total_loss += loss.item()\n",
    "\n",
    "            # calculate the number of correct predictions\n",
    "            logits = outputs.detach().cpu().numpy()\n",
    "            label_ids = labels.to('cpu').numpy()\n",
    "\n",
    "            total_accuracy += flat_accuracy(logits, label_ids)\n",
    "\n",
    "            # calculate precision, recall, and f1 score\n",
    "            total_precision += precision_score(label_ids, np.argmax(logits, axis=1), average='weighted')\n",
    "            total_recall += recall_score(label_ids, np.argmax(logits, axis=1), average='weighted')\n",
    "            total_f1 += f1_score(label_ids, np.argmax(logits, axis=1), average='weighted')\n",
    "\n",
    "    # calculate the average loss, accuracy, precision, recall, and f1 score\n",
    "    avg_loss = total_loss / len(data_loader)\n",
    "    # accuracy = total_accuracy / len(data_loader)\n",
    "    precision = total_precision / len(data_loader)\n",
    "    recall = total_recall / len(data_loader)\n",
    "    f1 = total_f1 / len(data_loader)\n",
    "\n",
    "    return avg_loss, precision, recall, f1"
   ]
  },
  {
   "cell_type": "code",
   "execution_count": 12,
   "id": "262b1467",
   "metadata": {
    "execution": {
     "iopub.execute_input": "2023-12-07T09:52:24.439416Z",
     "iopub.status.busy": "2023-12-07T09:52:24.439169Z",
     "iopub.status.idle": "2023-12-07T09:52:24.444512Z",
     "shell.execute_reply": "2023-12-07T09:52:24.443569Z"
    },
    "papermill": {
     "duration": 0.014169,
     "end_time": "2023-12-07T09:52:24.446399",
     "exception": false,
     "start_time": "2023-12-07T09:52:24.432230",
     "status": "completed"
    },
    "tags": []
   },
   "outputs": [],
   "source": [
    "# Function to calculate F1 score, Precision, Recall\n",
    "def calculate_metrics(predictions, labels):\n",
    "    predictions = torch.argmax(predictions, dim=1).cpu().numpy()\n",
    "    labels = labels.cpu().numpy()\n",
    "\n",
    "    f1 = f1_score(labels, predictions, average='weighted')\n",
    "    precision = precision_score(labels, predictions, average='weighted')\n",
    "    recall = recall_score(labels, predictions, average='weighted')\n",
    "\n",
    "    return f1, precision, recall"
   ]
  },
  {
   "cell_type": "code",
   "execution_count": 13,
   "id": "15e5a5ca",
   "metadata": {
    "execution": {
     "iopub.execute_input": "2023-12-07T09:52:24.459510Z",
     "iopub.status.busy": "2023-12-07T09:52:24.459249Z",
     "iopub.status.idle": "2023-12-07T16:08:33.644100Z",
     "shell.execute_reply": "2023-12-07T16:08:33.642842Z"
    },
    "papermill": {
     "duration": 22569.194338,
     "end_time": "2023-12-07T16:08:33.646505",
     "exception": false,
     "start_time": "2023-12-07T09:52:24.452167",
     "status": "completed"
    },
    "tags": []
   },
   "outputs": [
    {
     "name": "stdout",
     "output_type": "stream",
     "text": [
      "Epoch 1/150\n"
     ]
    },
    {
     "name": "stderr",
     "output_type": "stream",
     "text": [
      "100%|██████████| 103/103 [02:10<00:00,  1.27s/it]\n",
      "100%|██████████| 12/12 [00:07<00:00,  1.71it/s]\n",
      "100%|██████████| 7/7 [00:04<00:00,  1.68it/s]\n",
      "100%|██████████| 15/15 [00:08<00:00,  1.70it/s]\n"
     ]
    },
    {
     "name": "stdout",
     "output_type": "stream",
     "text": [
      "Train -- Loss: 0.3715 | Precision: 0.7258 | Recall: 0.8292 | F1: 0.7642\n",
      "Val   -- Loss: 0.5904 | Precision: 0.7870 | Recall: 0.8538 | F1: 0.8022\n",
      "Devel -- Loss: 0.7062 | Precision: 0.6881 | Recall: 0.8184 | F1: 0.7448\n",
      "Test  -- Loss: 0.7078 | Precision: 0.7075 | Recall: 0.8225 | F1: 0.7556\n",
      "Time Elapsed: 0:02:31.024564, Time Remaining: 6:15:02.660036 \n",
      "\n",
      "Epoch 2/150\n"
     ]
    },
    {
     "name": "stderr",
     "output_type": "stream",
     "text": [
      "100%|██████████| 103/103 [02:08<00:00,  1.25s/it]\n",
      "100%|██████████| 12/12 [00:07<00:00,  1.71it/s]\n",
      "100%|██████████| 7/7 [00:04<00:00,  1.70it/s]\n",
      "100%|██████████| 15/15 [00:08<00:00,  1.70it/s]\n"
     ]
    },
    {
     "name": "stdout",
     "output_type": "stream",
     "text": [
      "Train -- Loss: 0.2402 | Precision: 0.8168 | Recall: 0.8572 | F1: 0.8161\n",
      "Val   -- Loss: 0.5329 | Precision: 0.8537 | Recall: 0.8635 | F1: 0.8451\n",
      "Devel -- Loss: 0.6993 | Precision: 0.7469 | Recall: 0.7922 | F1: 0.7599\n",
      "Test  -- Loss: 0.7146 | Precision: 0.7250 | Recall: 0.7978 | F1: 0.7557\n",
      "Time Elapsed: 0:02:28.658575, Time Remaining: 6:06:41.469100 \n",
      "\n",
      "Epoch 3/150\n"
     ]
    },
    {
     "name": "stderr",
     "output_type": "stream",
     "text": [
      "100%|██████████| 103/103 [02:08<00:00,  1.25s/it]\n",
      "100%|██████████| 12/12 [00:07<00:00,  1.70it/s]\n",
      "100%|██████████| 7/7 [00:04<00:00,  1.68it/s]\n",
      "100%|██████████| 15/15 [00:08<00:00,  1.67it/s]\n"
     ]
    },
    {
     "name": "stdout",
     "output_type": "stream",
     "text": [
      "Train -- Loss: 0.1920 | Precision: 0.8494 | Recall: 0.8704 | F1: 0.8454\n",
      "Val   -- Loss: 0.4519 | Precision: 0.8560 | Recall: 0.8731 | F1: 0.8574\n",
      "Devel -- Loss: 0.6552 | Precision: 0.7506 | Recall: 0.8047 | F1: 0.7681\n",
      "Test  -- Loss: 0.6823 | Precision: 0.7308 | Recall: 0.8014 | F1: 0.7587\n",
      "Time Elapsed: 0:02:29.640594, Time Remaining: 6:06:37.167318 \n",
      "\n",
      "Epoch 4/150\n"
     ]
    },
    {
     "name": "stderr",
     "output_type": "stream",
     "text": [
      "100%|██████████| 103/103 [02:08<00:00,  1.25s/it]\n",
      "100%|██████████| 12/12 [00:06<00:00,  1.73it/s]\n",
      "100%|██████████| 7/7 [00:04<00:00,  1.70it/s]\n",
      "100%|██████████| 15/15 [00:08<00:00,  1.72it/s]\n"
     ]
    },
    {
     "name": "stdout",
     "output_type": "stream",
     "text": [
      "Train -- Loss: 0.1631 | Precision: 0.8657 | Recall: 0.8796 | F1: 0.8634\n",
      "Val   -- Loss: 0.4566 | Precision: 0.8671 | Recall: 0.8665 | F1: 0.8649\n",
      "Devel -- Loss: 0.6854 | Precision: 0.7627 | Recall: 0.7851 | F1: 0.7678\n",
      "Test  -- Loss: 0.7115 | Precision: 0.7403 | Recall: 0.7765 | F1: 0.7536\n",
      "Time Elapsed: 0:02:28.698221, Time Remaining: 6:01:49.940266 \n",
      "\n",
      "Epoch 5/150\n"
     ]
    },
    {
     "name": "stderr",
     "output_type": "stream",
     "text": [
      "100%|██████████| 103/103 [02:08<00:00,  1.25s/it]\n",
      "100%|██████████| 12/12 [00:07<00:00,  1.63it/s]\n",
      "100%|██████████| 7/7 [00:04<00:00,  1.70it/s]\n",
      "100%|██████████| 15/15 [00:08<00:00,  1.71it/s]\n"
     ]
    },
    {
     "name": "stdout",
     "output_type": "stream",
     "text": [
      "Train -- Loss: 0.1431 | Precision: 0.8792 | Recall: 0.8883 | F1: 0.8760\n",
      "Val   -- Loss: 0.3927 | Precision: 0.8716 | Recall: 0.8779 | F1: 0.8723\n",
      "Devel -- Loss: 0.6546 | Precision: 0.7732 | Recall: 0.8003 | F1: 0.7780\n",
      "Test  -- Loss: 0.6883 | Precision: 0.7432 | Recall: 0.7897 | F1: 0.7590\n",
      "Time Elapsed: 0:02:28.746664, Time Remaining: 5:59:28.266280 \n",
      "\n",
      "Epoch 6/150\n"
     ]
    },
    {
     "name": "stderr",
     "output_type": "stream",
     "text": [
      "100%|██████████| 103/103 [02:08<00:00,  1.25s/it]\n",
      "100%|██████████| 12/12 [00:06<00:00,  1.72it/s]\n",
      "100%|██████████| 7/7 [00:04<00:00,  1.71it/s]\n",
      "100%|██████████| 15/15 [00:08<00:00,  1.71it/s]\n"
     ]
    },
    {
     "name": "stdout",
     "output_type": "stream",
     "text": [
      "Train -- Loss: 0.1283 | Precision: 0.8872 | Recall: 0.8934 | F1: 0.8839\n",
      "Val   -- Loss: 0.3782 | Precision: 0.8831 | Recall: 0.8840 | F1: 0.8810\n",
      "Devel -- Loss: 0.6598 | Precision: 0.7812 | Recall: 0.8027 | F1: 0.7819\n",
      "Test  -- Loss: 0.6975 | Precision: 0.7399 | Recall: 0.7829 | F1: 0.7540\n",
      "Time Elapsed: 0:02:28.535075, Time Remaining: 5:56:29.050800 \n",
      "\n",
      "Epoch 7/150\n"
     ]
    },
    {
     "name": "stderr",
     "output_type": "stream",
     "text": [
      "100%|██████████| 103/103 [02:08<00:00,  1.25s/it]\n",
      "100%|██████████| 12/12 [00:06<00:00,  1.73it/s]\n",
      "100%|██████████| 7/7 [00:04<00:00,  1.69it/s]\n",
      "100%|██████████| 15/15 [00:08<00:00,  1.70it/s]\n"
     ]
    },
    {
     "name": "stdout",
     "output_type": "stream",
     "text": [
      "Train -- Loss: 0.1120 | Precision: 0.8962 | Recall: 0.9015 | F1: 0.8944\n",
      "Val   -- Loss: 0.3660 | Precision: 0.8905 | Recall: 0.8808 | F1: 0.8838\n",
      "Devel -- Loss: 0.6807 | Precision: 0.7767 | Recall: 0.7831 | F1: 0.7726\n",
      "Test  -- Loss: 0.7259 | Precision: 0.7397 | Recall: 0.7701 | F1: 0.7498\n",
      "Time Elapsed: 0:02:28.442035, Time Remaining: 5:53:47.211005 \n",
      "\n",
      "Epoch 8/150\n"
     ]
    },
    {
     "name": "stderr",
     "output_type": "stream",
     "text": [
      "100%|██████████| 103/103 [02:08<00:00,  1.25s/it]\n",
      "100%|██████████| 12/12 [00:06<00:00,  1.73it/s]\n",
      "100%|██████████| 7/7 [00:04<00:00,  1.70it/s]\n",
      "100%|██████████| 15/15 [00:08<00:00,  1.72it/s]\n"
     ]
    },
    {
     "name": "stdout",
     "output_type": "stream",
     "text": [
      "Train -- Loss: 0.1004 | Precision: 0.9040 | Recall: 0.9072 | F1: 0.9019\n",
      "Val   -- Loss: 0.3274 | Precision: 0.8892 | Recall: 0.8909 | F1: 0.8876\n",
      "Devel -- Loss: 0.6620 | Precision: 0.7813 | Recall: 0.7951 | F1: 0.7777\n",
      "Test  -- Loss: 0.7208 | Precision: 0.7440 | Recall: 0.7802 | F1: 0.7530\n",
      "Time Elapsed: 0:02:28.574717, Time Remaining: 5:51:37.609814 \n",
      "\n",
      "Epoch 9/150\n"
     ]
    },
    {
     "name": "stderr",
     "output_type": "stream",
     "text": [
      "100%|██████████| 103/103 [02:08<00:00,  1.25s/it]\n",
      "100%|██████████| 12/12 [00:06<00:00,  1.72it/s]\n",
      "100%|██████████| 7/7 [00:04<00:00,  1.71it/s]\n",
      "100%|██████████| 15/15 [00:08<00:00,  1.71it/s]\n"
     ]
    },
    {
     "name": "stdout",
     "output_type": "stream",
     "text": [
      "Train -- Loss: 0.0913 | Precision: 0.9069 | Recall: 0.9088 | F1: 0.9045\n",
      "Val   -- Loss: 0.3028 | Precision: 0.8904 | Recall: 0.8963 | F1: 0.8914\n",
      "Devel -- Loss: 0.6675 | Precision: 0.7752 | Recall: 0.8063 | F1: 0.7799\n",
      "Test  -- Loss: 0.7205 | Precision: 0.7429 | Recall: 0.7978 | F1: 0.7619\n",
      "Time Elapsed: 0:02:28.425456, Time Remaining: 5:48:47.989296 \n",
      "\n",
      "Epoch 10/150\n"
     ]
    },
    {
     "name": "stderr",
     "output_type": "stream",
     "text": [
      "100%|██████████| 103/103 [02:08<00:00,  1.25s/it]\n",
      "100%|██████████| 12/12 [00:06<00:00,  1.73it/s]\n",
      "100%|██████████| 7/7 [00:04<00:00,  1.69it/s]\n",
      "100%|██████████| 15/15 [00:08<00:00,  1.72it/s]\n"
     ]
    },
    {
     "name": "stdout",
     "output_type": "stream",
     "text": [
      "Train -- Loss: 0.0845 | Precision: 0.9103 | Recall: 0.9132 | F1: 0.9093\n",
      "Val   -- Loss: 0.2885 | Precision: 0.8921 | Recall: 0.8940 | F1: 0.8922\n",
      "Devel -- Loss: 0.6594 | Precision: 0.7818 | Recall: 0.8077 | F1: 0.7854\n",
      "Test  -- Loss: 0.7227 | Precision: 0.7450 | Recall: 0.7896 | F1: 0.7595\n",
      "Time Elapsed: 0:02:28.568554, Time Remaining: 5:46:39.597560 \n",
      "\n",
      "Epoch 11/150\n"
     ]
    },
    {
     "name": "stderr",
     "output_type": "stream",
     "text": [
      "100%|██████████| 103/103 [02:08<00:00,  1.25s/it]\n",
      "100%|██████████| 12/12 [00:06<00:00,  1.73it/s]\n",
      "100%|██████████| 7/7 [00:04<00:00,  1.70it/s]\n",
      "100%|██████████| 15/15 [00:08<00:00,  1.72it/s]\n"
     ]
    },
    {
     "name": "stdout",
     "output_type": "stream",
     "text": [
      "Train -- Loss: 0.0760 | Precision: 0.9169 | Recall: 0.9183 | F1: 0.9153\n",
      "Val   -- Loss: 0.2868 | Precision: 0.8984 | Recall: 0.8952 | F1: 0.8949\n",
      "Devel -- Loss: 0.6801 | Precision: 0.7771 | Recall: 0.7982 | F1: 0.7806\n",
      "Test  -- Loss: 0.7451 | Precision: 0.7467 | Recall: 0.7785 | F1: 0.7554\n",
      "Time Elapsed: 0:02:28.175210, Time Remaining: 5:43:16.354190 \n",
      "\n",
      "Epoch 12/150\n"
     ]
    },
    {
     "name": "stderr",
     "output_type": "stream",
     "text": [
      "100%|██████████| 103/103 [02:08<00:00,  1.25s/it]\n",
      "100%|██████████| 12/12 [00:06<00:00,  1.71it/s]\n",
      "100%|██████████| 7/7 [00:04<00:00,  1.70it/s]\n",
      "100%|██████████| 15/15 [00:08<00:00,  1.71it/s]\n"
     ]
    },
    {
     "name": "stdout",
     "output_type": "stream",
     "text": [
      "Train -- Loss: 0.0719 | Precision: 0.9210 | Recall: 0.9218 | F1: 0.9194\n",
      "Val   -- Loss: 0.2704 | Precision: 0.9045 | Recall: 0.8998 | F1: 0.9014\n",
      "Devel -- Loss: 0.6807 | Precision: 0.7789 | Recall: 0.7995 | F1: 0.7820\n",
      "Test  -- Loss: 0.7547 | Precision: 0.7379 | Recall: 0.7788 | F1: 0.7530\n",
      "Time Elapsed: 0:02:28.849858, Time Remaining: 5:42:21.280404 \n",
      "\n",
      "Epoch 13/150\n"
     ]
    },
    {
     "name": "stderr",
     "output_type": "stream",
     "text": [
      "100%|██████████| 103/103 [02:08<00:00,  1.25s/it]\n",
      "100%|██████████| 12/12 [00:06<00:00,  1.72it/s]\n",
      "100%|██████████| 7/7 [00:04<00:00,  1.65it/s]\n",
      "100%|██████████| 15/15 [00:08<00:00,  1.73it/s]\n"
     ]
    },
    {
     "name": "stdout",
     "output_type": "stream",
     "text": [
      "Train -- Loss: 0.0672 | Precision: 0.9245 | Recall: 0.9244 | F1: 0.9224\n",
      "Val   -- Loss: 0.2619 | Precision: 0.9069 | Recall: 0.9018 | F1: 0.9028\n",
      "Devel -- Loss: 0.6847 | Precision: 0.7854 | Recall: 0.8018 | F1: 0.7846\n",
      "Test  -- Loss: 0.7603 | Precision: 0.7443 | Recall: 0.7860 | F1: 0.7585\n",
      "Time Elapsed: 0:02:28.432939, Time Remaining: 5:38:55.312643 \n",
      "\n",
      "Epoch 14/150\n"
     ]
    },
    {
     "name": "stderr",
     "output_type": "stream",
     "text": [
      "100%|██████████| 103/103 [02:08<00:00,  1.25s/it]\n",
      "100%|██████████| 12/12 [00:07<00:00,  1.71it/s]\n",
      "100%|██████████| 7/7 [00:04<00:00,  1.69it/s]\n",
      "100%|██████████| 15/15 [00:08<00:00,  1.72it/s]\n"
     ]
    },
    {
     "name": "stdout",
     "output_type": "stream",
     "text": [
      "Train -- Loss: 0.0626 | Precision: 0.9282 | Recall: 0.9278 | F1: 0.9260\n",
      "Val   -- Loss: 0.2557 | Precision: 0.9040 | Recall: 0.8997 | F1: 0.9001\n",
      "Devel -- Loss: 0.7058 | Precision: 0.7841 | Recall: 0.7900 | F1: 0.7779\n",
      "Test  -- Loss: 0.7885 | Precision: 0.7480 | Recall: 0.7732 | F1: 0.7532\n",
      "Time Elapsed: 0:02:28.714308, Time Remaining: 5:37:05.145888 \n",
      "\n",
      "Epoch 15/150\n"
     ]
    },
    {
     "name": "stderr",
     "output_type": "stream",
     "text": [
      "100%|██████████| 103/103 [02:08<00:00,  1.25s/it]\n",
      "100%|██████████| 12/12 [00:06<00:00,  1.73it/s]\n",
      "100%|██████████| 7/7 [00:04<00:00,  1.69it/s]\n",
      "100%|██████████| 15/15 [00:08<00:00,  1.70it/s]\n"
     ]
    },
    {
     "name": "stdout",
     "output_type": "stream",
     "text": [
      "Train -- Loss: 0.0593 | Precision: 0.9294 | Recall: 0.9286 | F1: 0.9273\n",
      "Val   -- Loss: 0.2394 | Precision: 0.9088 | Recall: 0.9073 | F1: 0.9067\n",
      "Devel -- Loss: 0.6868 | Precision: 0.7953 | Recall: 0.8056 | F1: 0.7882\n",
      "Test  -- Loss: 0.7819 | Precision: 0.7450 | Recall: 0.7878 | F1: 0.7584\n",
      "Time Elapsed: 0:02:28.522830, Time Remaining: 5:34:10.582050 \n",
      "\n",
      "Epoch 16/150\n"
     ]
    },
    {
     "name": "stderr",
     "output_type": "stream",
     "text": [
      "100%|██████████| 103/103 [02:08<00:00,  1.25s/it]\n",
      "100%|██████████| 12/12 [00:06<00:00,  1.72it/s]\n",
      "100%|██████████| 7/7 [00:04<00:00,  1.71it/s]\n",
      "100%|██████████| 15/15 [00:08<00:00,  1.71it/s]\n"
     ]
    },
    {
     "name": "stdout",
     "output_type": "stream",
     "text": [
      "Train -- Loss: 0.0574 | Precision: 0.9308 | Recall: 0.9295 | F1: 0.9285\n",
      "Val   -- Loss: 0.2245 | Precision: 0.9053 | Recall: 0.9066 | F1: 0.9049\n",
      "Devel -- Loss: 0.6987 | Precision: 0.7968 | Recall: 0.8090 | F1: 0.7915\n",
      "Test  -- Loss: 0.7868 | Precision: 0.7424 | Recall: 0.7918 | F1: 0.7591\n",
      "Time Elapsed: 0:02:28.380852, Time Remaining: 5:31:23.034168 \n",
      "\n",
      "Epoch 17/150\n"
     ]
    },
    {
     "name": "stderr",
     "output_type": "stream",
     "text": [
      "100%|██████████| 103/103 [02:08<00:00,  1.25s/it]\n",
      "100%|██████████| 12/12 [00:06<00:00,  1.73it/s]\n",
      "100%|██████████| 7/7 [00:04<00:00,  1.71it/s]\n",
      "100%|██████████| 15/15 [00:08<00:00,  1.71it/s]\n"
     ]
    },
    {
     "name": "stdout",
     "output_type": "stream",
     "text": [
      "Train -- Loss: 0.0544 | Precision: 0.9312 | Recall: 0.9306 | F1: 0.9294\n",
      "Val   -- Loss: 0.2329 | Precision: 0.9135 | Recall: 0.9104 | F1: 0.9108\n",
      "Devel -- Loss: 0.7049 | Precision: 0.7772 | Recall: 0.7985 | F1: 0.7825\n",
      "Test  -- Loss: 0.8055 | Precision: 0.7459 | Recall: 0.7813 | F1: 0.7568\n",
      "Time Elapsed: 0:02:28.427358, Time Remaining: 5:29:00.838614 \n",
      "\n",
      "Epoch 18/150\n"
     ]
    },
    {
     "name": "stderr",
     "output_type": "stream",
     "text": [
      "100%|██████████| 103/103 [02:08<00:00,  1.25s/it]\n",
      "100%|██████████| 12/12 [00:06<00:00,  1.72it/s]\n",
      "100%|██████████| 7/7 [00:04<00:00,  1.71it/s]\n",
      "100%|██████████| 15/15 [00:08<00:00,  1.72it/s]\n"
     ]
    },
    {
     "name": "stdout",
     "output_type": "stream",
     "text": [
      "Train -- Loss: 0.0534 | Precision: 0.9340 | Recall: 0.9328 | F1: 0.9319\n",
      "Val   -- Loss: 0.2183 | Precision: 0.9133 | Recall: 0.9141 | F1: 0.9127\n",
      "Devel -- Loss: 0.6984 | Precision: 0.7835 | Recall: 0.8132 | F1: 0.7907\n",
      "Test  -- Loss: 0.8012 | Precision: 0.7368 | Recall: 0.7890 | F1: 0.7566\n",
      "Time Elapsed: 0:02:28.455969, Time Remaining: 5:26:36.187908 \n",
      "\n",
      "Epoch 19/150\n"
     ]
    },
    {
     "name": "stderr",
     "output_type": "stream",
     "text": [
      "100%|██████████| 103/103 [02:09<00:00,  1.26s/it]\n",
      "100%|██████████| 12/12 [00:07<00:00,  1.69it/s]\n",
      "100%|██████████| 7/7 [00:04<00:00,  1.70it/s]\n",
      "100%|██████████| 15/15 [00:08<00:00,  1.70it/s]\n"
     ]
    },
    {
     "name": "stdout",
     "output_type": "stream",
     "text": [
      "Train -- Loss: 0.0511 | Precision: 0.9359 | Recall: 0.9350 | F1: 0.9341\n",
      "Val   -- Loss: 0.2119 | Precision: 0.9138 | Recall: 0.9139 | F1: 0.9128\n",
      "Devel -- Loss: 0.7060 | Precision: 0.7835 | Recall: 0.8095 | F1: 0.7897\n",
      "Test  -- Loss: 0.8200 | Precision: 0.7449 | Recall: 0.7839 | F1: 0.7569\n",
      "Time Elapsed: 0:02:29.801080, Time Remaining: 5:27:03.941480 \n",
      "\n",
      "Epoch 20/150\n"
     ]
    },
    {
     "name": "stderr",
     "output_type": "stream",
     "text": [
      "100%|██████████| 103/103 [02:08<00:00,  1.25s/it]\n",
      "100%|██████████| 12/12 [00:06<00:00,  1.73it/s]\n",
      "100%|██████████| 7/7 [00:04<00:00,  1.68it/s]\n",
      "100%|██████████| 15/15 [00:08<00:00,  1.72it/s]\n"
     ]
    },
    {
     "name": "stdout",
     "output_type": "stream",
     "text": [
      "Train -- Loss: 0.0491 | Precision: 0.9371 | Recall: 0.9360 | F1: 0.9352\n",
      "Val   -- Loss: 0.2069 | Precision: 0.9111 | Recall: 0.9128 | F1: 0.9108\n",
      "Devel -- Loss: 0.7149 | Precision: 0.7810 | Recall: 0.8090 | F1: 0.7863\n",
      "Test  -- Loss: 0.8207 | Precision: 0.7484 | Recall: 0.7916 | F1: 0.7607\n",
      "Time Elapsed: 0:02:28.666324, Time Remaining: 5:22:06.622120 \n",
      "\n",
      "Epoch 21/150\n"
     ]
    },
    {
     "name": "stderr",
     "output_type": "stream",
     "text": [
      "100%|██████████| 103/103 [02:08<00:00,  1.25s/it]\n",
      "100%|██████████| 12/12 [00:06<00:00,  1.72it/s]\n",
      "100%|██████████| 7/7 [00:04<00:00,  1.71it/s]\n",
      "100%|██████████| 15/15 [00:08<00:00,  1.71it/s]\n"
     ]
    },
    {
     "name": "stdout",
     "output_type": "stream",
     "text": [
      "Train -- Loss: 0.0481 | Precision: 0.9383 | Recall: 0.9365 | F1: 0.9356\n",
      "Val   -- Loss: 0.2078 | Precision: 0.9191 | Recall: 0.9143 | F1: 0.9158\n",
      "Devel -- Loss: 0.7301 | Precision: 0.7818 | Recall: 0.8015 | F1: 0.7854\n",
      "Test  -- Loss: 0.8275 | Precision: 0.7443 | Recall: 0.7813 | F1: 0.7564\n",
      "Time Elapsed: 0:02:28.680362, Time Remaining: 5:19:39.766698 \n",
      "\n",
      "Epoch 22/150\n"
     ]
    },
    {
     "name": "stderr",
     "output_type": "stream",
     "text": [
      "100%|██████████| 103/103 [02:08<00:00,  1.25s/it]\n",
      "100%|██████████| 12/12 [00:07<00:00,  1.69it/s]\n",
      "100%|██████████| 7/7 [00:04<00:00,  1.68it/s]\n",
      "100%|██████████| 15/15 [00:08<00:00,  1.68it/s]\n"
     ]
    },
    {
     "name": "stdout",
     "output_type": "stream",
     "text": [
      "Train -- Loss: 0.0460 | Precision: 0.9396 | Recall: 0.9381 | F1: 0.9377\n",
      "Val   -- Loss: 0.1982 | Precision: 0.9148 | Recall: 0.9172 | F1: 0.9146\n",
      "Devel -- Loss: 0.7158 | Precision: 0.7879 | Recall: 0.8103 | F1: 0.7883\n",
      "Test  -- Loss: 0.8242 | Precision: 0.7452 | Recall: 0.7940 | F1: 0.7606\n",
      "Time Elapsed: 0:02:29.133213, Time Remaining: 5:18:09.051264 \n",
      "\n",
      "Epoch 23/150\n"
     ]
    },
    {
     "name": "stderr",
     "output_type": "stream",
     "text": [
      "100%|██████████| 103/103 [02:08<00:00,  1.25s/it]\n",
      "100%|██████████| 12/12 [00:06<00:00,  1.72it/s]\n",
      "100%|██████████| 7/7 [00:04<00:00,  1.69it/s]\n",
      "100%|██████████| 15/15 [00:08<00:00,  1.71it/s]\n"
     ]
    },
    {
     "name": "stdout",
     "output_type": "stream",
     "text": [
      "Train -- Loss: 0.0448 | Precision: 0.9406 | Recall: 0.9394 | F1: 0.9387\n",
      "Val   -- Loss: 0.1981 | Precision: 0.9194 | Recall: 0.9186 | F1: 0.9184\n",
      "Devel -- Loss: 0.7265 | Precision: 0.7838 | Recall: 0.8098 | F1: 0.7892\n",
      "Test  -- Loss: 0.8442 | Precision: 0.7438 | Recall: 0.7914 | F1: 0.7607\n",
      "Time Elapsed: 0:02:28.549639, Time Remaining: 5:14:25.804153 \n",
      "\n",
      "Epoch 24/150\n"
     ]
    },
    {
     "name": "stderr",
     "output_type": "stream",
     "text": [
      "100%|██████████| 103/103 [02:08<00:00,  1.25s/it]\n",
      "100%|██████████| 12/12 [00:06<00:00,  1.72it/s]\n",
      "100%|██████████| 7/7 [00:04<00:00,  1.70it/s]\n",
      "100%|██████████| 15/15 [00:08<00:00,  1.73it/s]\n"
     ]
    },
    {
     "name": "stdout",
     "output_type": "stream",
     "text": [
      "Train -- Loss: 0.0451 | Precision: 0.9391 | Recall: 0.9379 | F1: 0.9373\n",
      "Val   -- Loss: 0.1965 | Precision: 0.9163 | Recall: 0.9186 | F1: 0.9162\n",
      "Devel -- Loss: 0.7217 | Precision: 0.7869 | Recall: 0.8094 | F1: 0.7887\n",
      "Test  -- Loss: 0.8346 | Precision: 0.7440 | Recall: 0.7892 | F1: 0.7595\n",
      "Time Elapsed: 0:02:28.236262, Time Remaining: 5:11:17.769012 \n",
      "\n",
      "Epoch 25/150\n"
     ]
    },
    {
     "name": "stderr",
     "output_type": "stream",
     "text": [
      "100%|██████████| 103/103 [02:08<00:00,  1.25s/it]\n",
      "100%|██████████| 12/12 [00:07<00:00,  1.70it/s]\n",
      "100%|██████████| 7/7 [00:04<00:00,  1.69it/s]\n",
      "100%|██████████| 15/15 [00:08<00:00,  1.68it/s]\n"
     ]
    },
    {
     "name": "stdout",
     "output_type": "stream",
     "text": [
      "Train -- Loss: 0.0440 | Precision: 0.9397 | Recall: 0.9385 | F1: 0.9379\n",
      "Val   -- Loss: 0.1935 | Precision: 0.9231 | Recall: 0.9204 | F1: 0.9210\n",
      "Devel -- Loss: 0.7211 | Precision: 0.7895 | Recall: 0.8071 | F1: 0.7887\n",
      "Test  -- Loss: 0.8512 | Precision: 0.7380 | Recall: 0.7784 | F1: 0.7528\n",
      "Time Elapsed: 0:02:28.974590, Time Remaining: 5:10:21.823750 \n",
      "\n",
      "Epoch 26/150\n"
     ]
    },
    {
     "name": "stderr",
     "output_type": "stream",
     "text": [
      "100%|██████████| 103/103 [02:08<00:00,  1.25s/it]\n",
      "100%|██████████| 12/12 [00:07<00:00,  1.71it/s]\n",
      "100%|██████████| 7/7 [00:04<00:00,  1.72it/s]\n",
      "100%|██████████| 15/15 [00:08<00:00,  1.72it/s]\n"
     ]
    },
    {
     "name": "stdout",
     "output_type": "stream",
     "text": [
      "Train -- Loss: 0.0422 | Precision: 0.9422 | Recall: 0.9407 | F1: 0.9401\n",
      "Val   -- Loss: 0.1943 | Precision: 0.9192 | Recall: 0.9196 | F1: 0.9180\n",
      "Devel -- Loss: 0.7474 | Precision: 0.7927 | Recall: 0.8026 | F1: 0.7870\n",
      "Test  -- Loss: 0.8608 | Precision: 0.7485 | Recall: 0.7774 | F1: 0.7560\n",
      "Time Elapsed: 0:02:28.624656, Time Remaining: 5:07:09.457344 \n",
      "\n",
      "Epoch 27/150\n"
     ]
    },
    {
     "name": "stderr",
     "output_type": "stream",
     "text": [
      "100%|██████████| 103/103 [02:08<00:00,  1.25s/it]\n",
      "100%|██████████| 12/12 [00:06<00:00,  1.73it/s]\n",
      "100%|██████████| 7/7 [00:04<00:00,  1.69it/s]\n",
      "100%|██████████| 15/15 [00:08<00:00,  1.71it/s]\n"
     ]
    },
    {
     "name": "stdout",
     "output_type": "stream",
     "text": [
      "Train -- Loss: 0.0423 | Precision: 0.9409 | Recall: 0.9394 | F1: 0.9387\n",
      "Val   -- Loss: 0.1975 | Precision: 0.9189 | Recall: 0.9168 | F1: 0.9170\n",
      "Devel -- Loss: 0.7661 | Precision: 0.7835 | Recall: 0.7946 | F1: 0.7829\n",
      "Test  -- Loss: 0.8763 | Precision: 0.7454 | Recall: 0.7696 | F1: 0.7521\n",
      "Time Elapsed: 0:02:28.883237, Time Remaining: 5:05:12.638151 \n",
      "\n",
      "Epoch 28/150\n"
     ]
    },
    {
     "name": "stderr",
     "output_type": "stream",
     "text": [
      "100%|██████████| 103/103 [02:08<00:00,  1.25s/it]\n",
      "100%|██████████| 12/12 [00:06<00:00,  1.72it/s]\n",
      "100%|██████████| 7/7 [00:04<00:00,  1.70it/s]\n",
      "100%|██████████| 15/15 [00:08<00:00,  1.71it/s]\n"
     ]
    },
    {
     "name": "stdout",
     "output_type": "stream",
     "text": [
      "Train -- Loss: 0.0407 | Precision: 0.9435 | Recall: 0.9420 | F1: 0.9417\n",
      "Val   -- Loss: 0.1961 | Precision: 0.9200 | Recall: 0.9206 | F1: 0.9191\n",
      "Devel -- Loss: 0.7497 | Precision: 0.7798 | Recall: 0.7987 | F1: 0.7834\n",
      "Test  -- Loss: 0.8689 | Precision: 0.7421 | Recall: 0.7745 | F1: 0.7534\n",
      "Time Elapsed: 0:02:28.649394, Time Remaining: 5:02:15.226068 \n",
      "\n",
      "Epoch 29/150\n"
     ]
    },
    {
     "name": "stderr",
     "output_type": "stream",
     "text": [
      "100%|██████████| 103/103 [02:08<00:00,  1.25s/it]\n",
      "100%|██████████| 12/12 [00:06<00:00,  1.73it/s]\n",
      "100%|██████████| 7/7 [00:04<00:00,  1.71it/s]\n",
      "100%|██████████| 15/15 [00:08<00:00,  1.70it/s]\n"
     ]
    },
    {
     "name": "stdout",
     "output_type": "stream",
     "text": [
      "Train -- Loss: 0.0406 | Precision: 0.9419 | Recall: 0.9407 | F1: 0.9400\n",
      "Val   -- Loss: 0.1869 | Precision: 0.9196 | Recall: 0.9208 | F1: 0.9189\n",
      "Devel -- Loss: 0.7536 | Precision: 0.7869 | Recall: 0.8034 | F1: 0.7871\n",
      "Test  -- Loss: 0.8768 | Precision: 0.7466 | Recall: 0.7824 | F1: 0.7569\n",
      "Time Elapsed: 0:02:28.798520, Time Remaining: 5:00:04.620920 \n",
      "\n",
      "Epoch 30/150\n"
     ]
    },
    {
     "name": "stderr",
     "output_type": "stream",
     "text": [
      "100%|██████████| 103/103 [02:08<00:00,  1.25s/it]\n",
      "100%|██████████| 12/12 [00:06<00:00,  1.72it/s]\n",
      "100%|██████████| 7/7 [00:04<00:00,  1.69it/s]\n",
      "100%|██████████| 15/15 [00:08<00:00,  1.72it/s]\n"
     ]
    },
    {
     "name": "stdout",
     "output_type": "stream",
     "text": [
      "Train -- Loss: 0.0392 | Precision: 0.9437 | Recall: 0.9429 | F1: 0.9420\n",
      "Val   -- Loss: 0.1820 | Precision: 0.9196 | Recall: 0.9188 | F1: 0.9186\n",
      "Devel -- Loss: 0.7358 | Precision: 0.7839 | Recall: 0.8076 | F1: 0.7881\n",
      "Test  -- Loss: 0.8750 | Precision: 0.7462 | Recall: 0.7892 | F1: 0.7612\n",
      "Time Elapsed: 0:02:28.692311, Time Remaining: 4:57:23.077320 \n",
      "\n",
      "Epoch 31/150\n"
     ]
    },
    {
     "name": "stderr",
     "output_type": "stream",
     "text": [
      "100%|██████████| 103/103 [02:08<00:00,  1.25s/it]\n",
      "100%|██████████| 12/12 [00:06<00:00,  1.72it/s]\n",
      "100%|██████████| 7/7 [00:04<00:00,  1.70it/s]\n",
      "100%|██████████| 15/15 [00:08<00:00,  1.71it/s]\n"
     ]
    },
    {
     "name": "stdout",
     "output_type": "stream",
     "text": [
      "Train -- Loss: 0.0379 | Precision: 0.9461 | Recall: 0.9447 | F1: 0.9442\n",
      "Val   -- Loss: 0.1813 | Precision: 0.9219 | Recall: 0.9249 | F1: 0.9218\n",
      "Devel -- Loss: 0.7396 | Precision: 0.7814 | Recall: 0.8089 | F1: 0.7870\n",
      "Test  -- Loss: 0.8746 | Precision: 0.7394 | Recall: 0.7879 | F1: 0.7573\n",
      "Time Elapsed: 0:02:28.751148, Time Remaining: 4:55:01.386612 \n",
      "\n",
      "Epoch 32/150\n"
     ]
    },
    {
     "name": "stderr",
     "output_type": "stream",
     "text": [
      "100%|██████████| 103/103 [02:08<00:00,  1.25s/it]\n",
      "100%|██████████| 12/12 [00:06<00:00,  1.72it/s]\n",
      "100%|██████████| 7/7 [00:04<00:00,  1.68it/s]\n",
      "100%|██████████| 15/15 [00:08<00:00,  1.73it/s]\n"
     ]
    },
    {
     "name": "stdout",
     "output_type": "stream",
     "text": [
      "Train -- Loss: 0.0380 | Precision: 0.9451 | Recall: 0.9437 | F1: 0.9433\n",
      "Val   -- Loss: 0.1820 | Precision: 0.9200 | Recall: 0.9213 | F1: 0.9198\n",
      "Devel -- Loss: 0.7630 | Precision: 0.7895 | Recall: 0.8088 | F1: 0.7895\n",
      "Test  -- Loss: 0.9067 | Precision: 0.7449 | Recall: 0.7864 | F1: 0.7580\n",
      "Time Elapsed: 0:02:28.486124, Time Remaining: 4:52:01.362632 \n",
      "\n",
      "Epoch 33/150\n"
     ]
    },
    {
     "name": "stderr",
     "output_type": "stream",
     "text": [
      "100%|██████████| 103/103 [02:08<00:00,  1.25s/it]\n",
      "100%|██████████| 12/12 [00:07<00:00,  1.71it/s]\n",
      "100%|██████████| 7/7 [00:04<00:00,  1.71it/s]\n",
      "100%|██████████| 15/15 [00:08<00:00,  1.71it/s]\n"
     ]
    },
    {
     "name": "stdout",
     "output_type": "stream",
     "text": [
      "Train -- Loss: 0.0379 | Precision: 0.9453 | Recall: 0.9439 | F1: 0.9433\n",
      "Val   -- Loss: 0.1797 | Precision: 0.9212 | Recall: 0.9221 | F1: 0.9208\n",
      "Devel -- Loss: 0.7740 | Precision: 0.7826 | Recall: 0.8017 | F1: 0.7844\n",
      "Test  -- Loss: 0.8945 | Precision: 0.7491 | Recall: 0.7834 | F1: 0.7572\n",
      "Time Elapsed: 0:02:28.530140, Time Remaining: 4:49:38.026380 \n",
      "\n",
      "Epoch 34/150\n"
     ]
    },
    {
     "name": "stderr",
     "output_type": "stream",
     "text": [
      "100%|██████████| 103/103 [02:08<00:00,  1.25s/it]\n",
      "100%|██████████| 12/12 [00:06<00:00,  1.73it/s]\n",
      "100%|██████████| 7/7 [00:04<00:00,  1.70it/s]\n",
      "100%|██████████| 15/15 [00:08<00:00,  1.71it/s]\n"
     ]
    },
    {
     "name": "stdout",
     "output_type": "stream",
     "text": [
      "Train -- Loss: 0.0382 | Precision: 0.9453 | Recall: 0.9444 | F1: 0.9436\n",
      "Val   -- Loss: 0.1832 | Precision: 0.9239 | Recall: 0.9215 | F1: 0.9220\n",
      "Devel -- Loss: 0.7539 | Precision: 0.7794 | Recall: 0.8047 | F1: 0.7848\n",
      "Test  -- Loss: 0.8780 | Precision: 0.7445 | Recall: 0.7869 | F1: 0.7586\n",
      "Time Elapsed: 0:02:28.613821, Time Remaining: 4:47:19.203236 \n",
      "\n",
      "Epoch 35/150\n"
     ]
    },
    {
     "name": "stderr",
     "output_type": "stream",
     "text": [
      "100%|██████████| 103/103 [02:08<00:00,  1.25s/it]\n",
      "100%|██████████| 12/12 [00:06<00:00,  1.73it/s]\n",
      "100%|██████████| 7/7 [00:04<00:00,  1.71it/s]\n",
      "100%|██████████| 15/15 [00:08<00:00,  1.70it/s]\n"
     ]
    },
    {
     "name": "stdout",
     "output_type": "stream",
     "text": [
      "Train -- Loss: 0.0378 | Precision: 0.9452 | Recall: 0.9436 | F1: 0.9431\n",
      "Val   -- Loss: 0.1841 | Precision: 0.9228 | Recall: 0.9238 | F1: 0.9225\n",
      "Devel -- Loss: 0.7760 | Precision: 0.7881 | Recall: 0.8046 | F1: 0.7889\n",
      "Test  -- Loss: 0.8943 | Precision: 0.7454 | Recall: 0.7854 | F1: 0.7586\n",
      "Time Elapsed: 0:02:28.550988, Time Remaining: 4:44:43.363620 \n",
      "\n",
      "Epoch 36/150\n"
     ]
    },
    {
     "name": "stderr",
     "output_type": "stream",
     "text": [
      "100%|██████████| 103/103 [02:08<00:00,  1.25s/it]\n",
      "100%|██████████| 12/12 [00:06<00:00,  1.74it/s]\n",
      "100%|██████████| 7/7 [00:04<00:00,  1.68it/s]\n",
      "100%|██████████| 15/15 [00:08<00:00,  1.72it/s]\n"
     ]
    },
    {
     "name": "stdout",
     "output_type": "stream",
     "text": [
      "Train -- Loss: 0.0364 | Precision: 0.9462 | Recall: 0.9452 | F1: 0.9445\n",
      "Val   -- Loss: 0.1805 | Precision: 0.9220 | Recall: 0.9203 | F1: 0.9204\n",
      "Devel -- Loss: 0.7722 | Precision: 0.7828 | Recall: 0.8061 | F1: 0.7874\n",
      "Test  -- Loss: 0.9179 | Precision: 0.7436 | Recall: 0.7858 | F1: 0.7575\n",
      "Time Elapsed: 0:02:28.382297, Time Remaining: 4:41:55.581858 \n",
      "\n",
      "Epoch 37/150\n"
     ]
    },
    {
     "name": "stderr",
     "output_type": "stream",
     "text": [
      "100%|██████████| 103/103 [02:08<00:00,  1.25s/it]\n",
      "100%|██████████| 12/12 [00:06<00:00,  1.73it/s]\n",
      "100%|██████████| 7/7 [00:04<00:00,  1.71it/s]\n",
      "100%|██████████| 15/15 [00:08<00:00,  1.71it/s]\n"
     ]
    },
    {
     "name": "stdout",
     "output_type": "stream",
     "text": [
      "Train -- Loss: 0.0361 | Precision: 0.9456 | Recall: 0.9445 | F1: 0.9437\n",
      "Val   -- Loss: 0.1733 | Precision: 0.9235 | Recall: 0.9216 | F1: 0.9218\n",
      "Devel -- Loss: 0.7555 | Precision: 0.7769 | Recall: 0.8012 | F1: 0.7833\n",
      "Test  -- Loss: 0.9041 | Precision: 0.7418 | Recall: 0.7852 | F1: 0.7574\n",
      "Time Elapsed: 0:02:28.300431, Time Remaining: 4:39:17.948703 \n",
      "\n",
      "Epoch 38/150\n"
     ]
    },
    {
     "name": "stderr",
     "output_type": "stream",
     "text": [
      "100%|██████████| 103/103 [02:08<00:00,  1.25s/it]\n",
      "100%|██████████| 12/12 [00:06<00:00,  1.72it/s]\n",
      "100%|██████████| 7/7 [00:04<00:00,  1.69it/s]\n",
      "100%|██████████| 15/15 [00:08<00:00,  1.72it/s]\n"
     ]
    },
    {
     "name": "stdout",
     "output_type": "stream",
     "text": [
      "Train -- Loss: 0.0353 | Precision: 0.9473 | Recall: 0.9461 | F1: 0.9455\n",
      "Val   -- Loss: 0.1824 | Precision: 0.9255 | Recall: 0.9256 | F1: 0.9242\n",
      "Devel -- Loss: 0.7863 | Precision: 0.7904 | Recall: 0.7916 | F1: 0.7796\n",
      "Test  -- Loss: 0.9083 | Precision: 0.7461 | Recall: 0.7794 | F1: 0.7569\n",
      "Time Elapsed: 0:02:28.705462, Time Remaining: 4:37:35.011744 \n",
      "\n",
      "Epoch 39/150\n"
     ]
    },
    {
     "name": "stderr",
     "output_type": "stream",
     "text": [
      "100%|██████████| 103/103 [02:08<00:00,  1.25s/it]\n",
      "100%|██████████| 12/12 [00:06<00:00,  1.72it/s]\n",
      "100%|██████████| 7/7 [00:04<00:00,  1.71it/s]\n",
      "100%|██████████| 15/15 [00:08<00:00,  1.71it/s]\n"
     ]
    },
    {
     "name": "stdout",
     "output_type": "stream",
     "text": [
      "Train -- Loss: 0.0353 | Precision: 0.9454 | Recall: 0.9446 | F1: 0.9438\n",
      "Val   -- Loss: 0.1743 | Precision: 0.9220 | Recall: 0.9227 | F1: 0.9217\n",
      "Devel -- Loss: 0.7791 | Precision: 0.7875 | Recall: 0.8071 | F1: 0.7897\n",
      "Test  -- Loss: 0.9130 | Precision: 0.7475 | Recall: 0.7824 | F1: 0.7588\n",
      "Time Elapsed: 0:02:28.593541, Time Remaining: 4:34:53.883051 \n",
      "\n",
      "Epoch 40/150\n"
     ]
    },
    {
     "name": "stderr",
     "output_type": "stream",
     "text": [
      "100%|██████████| 103/103 [02:08<00:00,  1.25s/it]\n",
      "100%|██████████| 12/12 [00:07<00:00,  1.70it/s]\n",
      "100%|██████████| 7/7 [00:04<00:00,  1.71it/s]\n",
      "100%|██████████| 15/15 [00:08<00:00,  1.72it/s]\n"
     ]
    },
    {
     "name": "stdout",
     "output_type": "stream",
     "text": [
      "Train -- Loss: 0.0343 | Precision: 0.9478 | Recall: 0.9466 | F1: 0.9461\n",
      "Val   -- Loss: 0.1779 | Precision: 0.9232 | Recall: 0.9220 | F1: 0.9217\n",
      "Devel -- Loss: 0.7845 | Precision: 0.7847 | Recall: 0.7967 | F1: 0.7847\n",
      "Test  -- Loss: 0.9362 | Precision: 0.7467 | Recall: 0.7781 | F1: 0.7566\n",
      "Time Elapsed: 0:02:28.492442, Time Remaining: 4:32:14.168620 \n",
      "\n",
      "Epoch 41/150\n"
     ]
    },
    {
     "name": "stderr",
     "output_type": "stream",
     "text": [
      "100%|██████████| 103/103 [02:08<00:00,  1.25s/it]\n",
      "100%|██████████| 12/12 [00:06<00:00,  1.72it/s]\n",
      "100%|██████████| 7/7 [00:04<00:00,  1.69it/s]\n",
      "100%|██████████| 15/15 [00:08<00:00,  1.73it/s]\n"
     ]
    },
    {
     "name": "stdout",
     "output_type": "stream",
     "text": [
      "Train -- Loss: 0.0351 | Precision: 0.9467 | Recall: 0.9453 | F1: 0.9447\n",
      "Val   -- Loss: 0.1804 | Precision: 0.9194 | Recall: 0.9196 | F1: 0.9188\n",
      "Devel -- Loss: 0.7861 | Precision: 0.7812 | Recall: 0.7995 | F1: 0.7828\n",
      "Test  -- Loss: 0.9234 | Precision: 0.7460 | Recall: 0.7850 | F1: 0.7579\n",
      "Time Elapsed: 0:02:28.739525, Time Remaining: 4:30:12.608225 \n",
      "\n",
      "Epoch 42/150\n"
     ]
    },
    {
     "name": "stderr",
     "output_type": "stream",
     "text": [
      "100%|██████████| 103/103 [02:08<00:00,  1.25s/it]\n",
      "100%|██████████| 12/12 [00:07<00:00,  1.71it/s]\n",
      "100%|██████████| 7/7 [00:04<00:00,  1.70it/s]\n",
      "100%|██████████| 15/15 [00:08<00:00,  1.71it/s]\n"
     ]
    },
    {
     "name": "stdout",
     "output_type": "stream",
     "text": [
      "Train -- Loss: 0.0354 | Precision: 0.9457 | Recall: 0.9450 | F1: 0.9440\n",
      "Val   -- Loss: 0.1791 | Precision: 0.9220 | Recall: 0.9219 | F1: 0.9211\n",
      "Devel -- Loss: 0.7810 | Precision: 0.7841 | Recall: 0.8024 | F1: 0.7853\n",
      "Test  -- Loss: 0.9390 | Precision: 0.7461 | Recall: 0.7911 | F1: 0.7608\n",
      "Time Elapsed: 0:02:28.782301, Time Remaining: 4:27:48.488508 \n",
      "\n",
      "Epoch 43/150\n"
     ]
    },
    {
     "name": "stderr",
     "output_type": "stream",
     "text": [
      "100%|██████████| 103/103 [02:08<00:00,  1.25s/it]\n",
      "100%|██████████| 12/12 [00:06<00:00,  1.72it/s]\n",
      "100%|██████████| 7/7 [00:04<00:00,  1.70it/s]\n",
      "100%|██████████| 15/15 [00:08<00:00,  1.71it/s]\n"
     ]
    },
    {
     "name": "stdout",
     "output_type": "stream",
     "text": [
      "Train -- Loss: 0.0340 | Precision: 0.9464 | Recall: 0.9455 | F1: 0.9449\n",
      "Val   -- Loss: 0.1726 | Precision: 0.9251 | Recall: 0.9271 | F1: 0.9228\n",
      "Devel -- Loss: 0.7953 | Precision: 0.7804 | Recall: 0.8074 | F1: 0.7844\n",
      "Test  -- Loss: 0.9374 | Precision: 0.7490 | Recall: 0.7953 | F1: 0.7625\n",
      "Time Elapsed: 0:02:28.596832, Time Remaining: 4:24:59.861024 \n",
      "\n",
      "Epoch 44/150\n"
     ]
    },
    {
     "name": "stderr",
     "output_type": "stream",
     "text": [
      "100%|██████████| 103/103 [02:08<00:00,  1.25s/it]\n",
      "100%|██████████| 12/12 [00:06<00:00,  1.72it/s]\n",
      "100%|██████████| 7/7 [00:04<00:00,  1.72it/s]\n",
      "100%|██████████| 15/15 [00:08<00:00,  1.72it/s]\n"
     ]
    },
    {
     "name": "stdout",
     "output_type": "stream",
     "text": [
      "Train -- Loss: 0.0340 | Precision: 0.9478 | Recall: 0.9464 | F1: 0.9457\n",
      "Val   -- Loss: 0.1739 | Precision: 0.9239 | Recall: 0.9238 | F1: 0.9233\n",
      "Devel -- Loss: 0.8135 | Precision: 0.7798 | Recall: 0.7986 | F1: 0.7840\n",
      "Test  -- Loss: 0.9579 | Precision: 0.7467 | Recall: 0.7797 | F1: 0.7564\n",
      "Time Elapsed: 0:02:28.647034, Time Remaining: 4:22:36.585604 \n",
      "\n",
      "Epoch 45/150\n"
     ]
    },
    {
     "name": "stderr",
     "output_type": "stream",
     "text": [
      "100%|██████████| 103/103 [02:09<00:00,  1.25s/it]\n",
      "100%|██████████| 12/12 [00:06<00:00,  1.71it/s]\n",
      "100%|██████████| 7/7 [00:04<00:00,  1.67it/s]\n",
      "100%|██████████| 15/15 [00:08<00:00,  1.71it/s]\n"
     ]
    },
    {
     "name": "stdout",
     "output_type": "stream",
     "text": [
      "Train -- Loss: 0.0331 | Precision: 0.9499 | Recall: 0.9485 | F1: 0.9479\n",
      "Val   -- Loss: 0.1798 | Precision: 0.9206 | Recall: 0.9205 | F1: 0.9198\n",
      "Devel -- Loss: 0.8024 | Precision: 0.7818 | Recall: 0.7993 | F1: 0.7833\n",
      "Test  -- Loss: 0.9459 | Precision: 0.7480 | Recall: 0.7855 | F1: 0.7605\n",
      "Time Elapsed: 0:02:29.069605, Time Remaining: 4:20:52.308525 \n",
      "\n",
      "Epoch 46/150\n"
     ]
    },
    {
     "name": "stderr",
     "output_type": "stream",
     "text": [
      "100%|██████████| 103/103 [02:09<00:00,  1.26s/it]\n",
      "100%|██████████| 12/12 [00:07<00:00,  1.70it/s]\n",
      "100%|██████████| 7/7 [00:04<00:00,  1.68it/s]\n",
      "100%|██████████| 15/15 [00:08<00:00,  1.68it/s]\n"
     ]
    },
    {
     "name": "stdout",
     "output_type": "stream",
     "text": [
      "Train -- Loss: 0.0338 | Precision: 0.9475 | Recall: 0.9465 | F1: 0.9457\n",
      "Val   -- Loss: 0.1666 | Precision: 0.9229 | Recall: 0.9263 | F1: 0.9230\n",
      "Devel -- Loss: 0.7816 | Precision: 0.7817 | Recall: 0.8135 | F1: 0.7897\n",
      "Test  -- Loss: 0.9309 | Precision: 0.7416 | Recall: 0.7985 | F1: 0.7619\n",
      "Time Elapsed: 0:02:29.606743, Time Remaining: 4:19:19.101272 \n",
      "\n",
      "Epoch 47/150\n"
     ]
    },
    {
     "name": "stderr",
     "output_type": "stream",
     "text": [
      "100%|██████████| 103/103 [02:09<00:00,  1.25s/it]\n",
      "100%|██████████| 12/12 [00:07<00:00,  1.69it/s]\n",
      "100%|██████████| 7/7 [00:04<00:00,  1.71it/s]\n",
      "100%|██████████| 15/15 [00:08<00:00,  1.72it/s]\n"
     ]
    },
    {
     "name": "stdout",
     "output_type": "stream",
     "text": [
      "Train -- Loss: 0.0336 | Precision: 0.9479 | Recall: 0.9471 | F1: 0.9462\n",
      "Val   -- Loss: 0.1739 | Precision: 0.9220 | Recall: 0.9237 | F1: 0.9220\n",
      "Devel -- Loss: 0.7847 | Precision: 0.7869 | Recall: 0.8177 | F1: 0.7910\n",
      "Test  -- Loss: 0.9241 | Precision: 0.7416 | Recall: 0.7948 | F1: 0.7587\n",
      "Time Elapsed: 0:02:29.004165, Time Remaining: 4:15:47.428995 \n",
      "\n",
      "Epoch 48/150\n"
     ]
    },
    {
     "name": "stderr",
     "output_type": "stream",
     "text": [
      "100%|██████████| 103/103 [02:08<00:00,  1.25s/it]\n",
      "100%|██████████| 12/12 [00:06<00:00,  1.73it/s]\n",
      "100%|██████████| 7/7 [00:04<00:00,  1.68it/s]\n",
      "100%|██████████| 15/15 [00:08<00:00,  1.72it/s]\n"
     ]
    },
    {
     "name": "stdout",
     "output_type": "stream",
     "text": [
      "Train -- Loss: 0.0335 | Precision: 0.9471 | Recall: 0.9461 | F1: 0.9455\n",
      "Val   -- Loss: 0.1720 | Precision: 0.9192 | Recall: 0.9216 | F1: 0.9194\n",
      "Devel -- Loss: 0.7911 | Precision: 0.7785 | Recall: 0.8087 | F1: 0.7851\n",
      "Test  -- Loss: 0.9516 | Precision: 0.7463 | Recall: 0.7864 | F1: 0.7582\n",
      "Time Elapsed: 0:02:28.409436, Time Remaining: 4:12:17.762472 \n",
      "\n",
      "Epoch 49/150\n"
     ]
    },
    {
     "name": "stderr",
     "output_type": "stream",
     "text": [
      "100%|██████████| 103/103 [02:08<00:00,  1.25s/it]\n",
      "100%|██████████| 12/12 [00:07<00:00,  1.71it/s]\n",
      "100%|██████████| 7/7 [00:04<00:00,  1.69it/s]\n",
      "100%|██████████| 15/15 [00:08<00:00,  1.72it/s]\n"
     ]
    },
    {
     "name": "stdout",
     "output_type": "stream",
     "text": [
      "Train -- Loss: 0.0334 | Precision: 0.9478 | Recall: 0.9468 | F1: 0.9460\n",
      "Val   -- Loss: 0.1741 | Precision: 0.9207 | Recall: 0.9241 | F1: 0.9209\n",
      "Devel -- Loss: 0.8011 | Precision: 0.7833 | Recall: 0.8069 | F1: 0.7871\n",
      "Test  -- Loss: 0.9333 | Precision: 0.7470 | Recall: 0.7874 | F1: 0.7600\n",
      "Time Elapsed: 0:02:28.618979, Time Remaining: 4:10:10.516879 \n",
      "\n",
      "Epoch 50/150\n"
     ]
    },
    {
     "name": "stderr",
     "output_type": "stream",
     "text": [
      "100%|██████████| 103/103 [02:08<00:00,  1.25s/it]\n",
      "100%|██████████| 12/12 [00:06<00:00,  1.74it/s]\n",
      "100%|██████████| 7/7 [00:04<00:00,  1.71it/s]\n",
      "100%|██████████| 15/15 [00:08<00:00,  1.72it/s]\n"
     ]
    },
    {
     "name": "stdout",
     "output_type": "stream",
     "text": [
      "Train -- Loss: 0.0325 | Precision: 0.9478 | Recall: 0.9471 | F1: 0.9462\n",
      "Val   -- Loss: 0.1770 | Precision: 0.9265 | Recall: 0.9248 | F1: 0.9250\n",
      "Devel -- Loss: 0.8334 | Precision: 0.7757 | Recall: 0.7986 | F1: 0.7828\n",
      "Test  -- Loss: 0.9589 | Precision: 0.7498 | Recall: 0.7850 | F1: 0.7604\n",
      "Time Elapsed: 0:02:28.495736, Time Remaining: 4:07:29.573600 \n",
      "\n",
      "Epoch 51/150\n"
     ]
    },
    {
     "name": "stderr",
     "output_type": "stream",
     "text": [
      "100%|██████████| 103/103 [02:09<00:00,  1.25s/it]\n",
      "100%|██████████| 12/12 [00:06<00:00,  1.72it/s]\n",
      "100%|██████████| 7/7 [00:04<00:00,  1.70it/s]\n",
      "100%|██████████| 15/15 [00:08<00:00,  1.71it/s]\n"
     ]
    },
    {
     "name": "stdout",
     "output_type": "stream",
     "text": [
      "Train -- Loss: 0.0325 | Precision: 0.9496 | Recall: 0.9485 | F1: 0.9478\n",
      "Val   -- Loss: 0.1712 | Precision: 0.9276 | Recall: 0.9277 | F1: 0.9269\n",
      "Devel -- Loss: 0.7966 | Precision: 0.7875 | Recall: 0.8070 | F1: 0.7895\n",
      "Test  -- Loss: 0.9456 | Precision: 0.7477 | Recall: 0.7914 | F1: 0.7630\n",
      "Time Elapsed: 0:02:28.956711, Time Remaining: 4:05:46.714389 \n",
      "\n",
      "Epoch 52/150\n"
     ]
    },
    {
     "name": "stderr",
     "output_type": "stream",
     "text": [
      "100%|██████████| 103/103 [02:09<00:00,  1.25s/it]\n",
      "100%|██████████| 12/12 [00:07<00:00,  1.71it/s]\n",
      "100%|██████████| 7/7 [00:04<00:00,  1.70it/s]\n",
      "100%|██████████| 15/15 [00:08<00:00,  1.70it/s]\n"
     ]
    },
    {
     "name": "stdout",
     "output_type": "stream",
     "text": [
      "Train -- Loss: 0.0319 | Precision: 0.9477 | Recall: 0.9474 | F1: 0.9465\n",
      "Val   -- Loss: 0.1699 | Precision: 0.9239 | Recall: 0.9256 | F1: 0.9234\n",
      "Devel -- Loss: 0.8094 | Precision: 0.7801 | Recall: 0.8014 | F1: 0.7835\n",
      "Test  -- Loss: 0.9532 | Precision: 0.7422 | Recall: 0.7804 | F1: 0.7556\n",
      "Time Elapsed: 0:02:29.220401, Time Remaining: 4:03:43.599298 \n",
      "\n",
      "Epoch 53/150\n"
     ]
    },
    {
     "name": "stderr",
     "output_type": "stream",
     "text": [
      "100%|██████████| 103/103 [02:09<00:00,  1.26s/it]\n",
      "100%|██████████| 12/12 [00:07<00:00,  1.68it/s]\n",
      "100%|██████████| 7/7 [00:04<00:00,  1.68it/s]\n",
      "100%|██████████| 15/15 [00:08<00:00,  1.69it/s]\n"
     ]
    },
    {
     "name": "stdout",
     "output_type": "stream",
     "text": [
      "Train -- Loss: 0.0321 | Precision: 0.9492 | Recall: 0.9484 | F1: 0.9476\n",
      "Val   -- Loss: 0.1717 | Precision: 0.9252 | Recall: 0.9282 | F1: 0.9248\n",
      "Devel -- Loss: 0.8017 | Precision: 0.7800 | Recall: 0.8164 | F1: 0.7880\n",
      "Test  -- Loss: 0.9487 | Precision: 0.7475 | Recall: 0.7934 | F1: 0.7588\n",
      "Time Elapsed: 0:02:29.495871, Time Remaining: 4:01:41.099487 \n",
      "\n",
      "Epoch 54/150\n"
     ]
    },
    {
     "name": "stderr",
     "output_type": "stream",
     "text": [
      "100%|██████████| 103/103 [02:09<00:00,  1.26s/it]\n",
      "100%|██████████| 12/12 [00:07<00:00,  1.69it/s]\n",
      "100%|██████████| 7/7 [00:04<00:00,  1.68it/s]\n",
      "100%|██████████| 15/15 [00:08<00:00,  1.68it/s]\n"
     ]
    },
    {
     "name": "stdout",
     "output_type": "stream",
     "text": [
      "Train -- Loss: 0.0322 | Precision: 0.9492 | Recall: 0.9482 | F1: 0.9474\n",
      "Val   -- Loss: 0.1720 | Precision: 0.9238 | Recall: 0.9258 | F1: 0.9241\n",
      "Devel -- Loss: 0.8010 | Precision: 0.7895 | Recall: 0.8151 | F1: 0.7922\n",
      "Test  -- Loss: 0.9529 | Precision: 0.7464 | Recall: 0.7939 | F1: 0.7609\n",
      "Time Elapsed: 0:02:29.519617, Time Remaining: 3:59:13.883232 \n",
      "\n",
      "Epoch 55/150\n"
     ]
    },
    {
     "name": "stderr",
     "output_type": "stream",
     "text": [
      "100%|██████████| 103/103 [02:09<00:00,  1.25s/it]\n",
      "100%|██████████| 12/12 [00:07<00:00,  1.69it/s]\n",
      "100%|██████████| 7/7 [00:04<00:00,  1.67it/s]\n",
      "100%|██████████| 15/15 [00:08<00:00,  1.70it/s]\n"
     ]
    },
    {
     "name": "stdout",
     "output_type": "stream",
     "text": [
      "Train -- Loss: 0.0328 | Precision: 0.9473 | Recall: 0.9469 | F1: 0.9460\n",
      "Val   -- Loss: 0.1735 | Precision: 0.9265 | Recall: 0.9279 | F1: 0.9257\n",
      "Devel -- Loss: 0.7921 | Precision: 0.7921 | Recall: 0.8164 | F1: 0.7937\n",
      "Test  -- Loss: 0.9306 | Precision: 0.7481 | Recall: 0.7904 | F1: 0.7608\n",
      "Time Elapsed: 0:02:29.331004, Time Remaining: 3:56:26.445380 \n",
      "\n",
      "Epoch 56/150\n"
     ]
    },
    {
     "name": "stderr",
     "output_type": "stream",
     "text": [
      "100%|██████████| 103/103 [02:09<00:00,  1.25s/it]\n",
      "100%|██████████| 12/12 [00:07<00:00,  1.70it/s]\n",
      "100%|██████████| 7/7 [00:04<00:00,  1.69it/s]\n",
      "100%|██████████| 15/15 [00:08<00:00,  1.69it/s]\n"
     ]
    },
    {
     "name": "stdout",
     "output_type": "stream",
     "text": [
      "Train -- Loss: 0.0319 | Precision: 0.9478 | Recall: 0.9472 | F1: 0.9463\n",
      "Val   -- Loss: 0.1764 | Precision: 0.9203 | Recall: 0.9238 | F1: 0.9209\n",
      "Devel -- Loss: 0.8192 | Precision: 0.7733 | Recall: 0.8027 | F1: 0.7812\n",
      "Test  -- Loss: 0.9627 | Precision: 0.7487 | Recall: 0.7851 | F1: 0.7596\n",
      "Time Elapsed: 0:02:29.146296, Time Remaining: 3:53:39.751824 \n",
      "\n",
      "Epoch 57/150\n"
     ]
    },
    {
     "name": "stderr",
     "output_type": "stream",
     "text": [
      "100%|██████████| 103/103 [02:09<00:00,  1.25s/it]\n",
      "100%|██████████| 12/12 [00:07<00:00,  1.70it/s]\n",
      "100%|██████████| 7/7 [00:04<00:00,  1.69it/s]\n",
      "100%|██████████| 15/15 [00:08<00:00,  1.71it/s]\n"
     ]
    },
    {
     "name": "stdout",
     "output_type": "stream",
     "text": [
      "Train -- Loss: 0.0315 | Precision: 0.9485 | Recall: 0.9476 | F1: 0.9466\n",
      "Val   -- Loss: 0.1776 | Precision: 0.9232 | Recall: 0.9222 | F1: 0.9220\n",
      "Devel -- Loss: 0.8516 | Precision: 0.7794 | Recall: 0.7942 | F1: 0.7829\n",
      "Test  -- Loss: 0.9759 | Precision: 0.7522 | Recall: 0.7765 | F1: 0.7586\n",
      "Time Elapsed: 0:02:29.194276, Time Remaining: 3:51:15.067668 \n",
      "\n",
      "Epoch 58/150\n"
     ]
    },
    {
     "name": "stderr",
     "output_type": "stream",
     "text": [
      "100%|██████████| 103/103 [02:08<00:00,  1.25s/it]\n",
      "100%|██████████| 12/12 [00:07<00:00,  1.71it/s]\n",
      "100%|██████████| 7/7 [00:04<00:00,  1.68it/s]\n",
      "100%|██████████| 15/15 [00:08<00:00,  1.70it/s]\n"
     ]
    },
    {
     "name": "stdout",
     "output_type": "stream",
     "text": [
      "Train -- Loss: 0.0322 | Precision: 0.9476 | Recall: 0.9467 | F1: 0.9459\n",
      "Val   -- Loss: 0.1751 | Precision: 0.9233 | Recall: 0.9258 | F1: 0.9235\n",
      "Devel -- Loss: 0.8336 | Precision: 0.7832 | Recall: 0.8106 | F1: 0.7889\n",
      "Test  -- Loss: 0.9651 | Precision: 0.7477 | Recall: 0.7910 | F1: 0.7608\n",
      "Time Elapsed: 0:02:28.818806, Time Remaining: 3:48:11.330152 \n",
      "\n",
      "Epoch 59/150\n"
     ]
    },
    {
     "name": "stderr",
     "output_type": "stream",
     "text": [
      "100%|██████████| 103/103 [02:08<00:00,  1.25s/it]\n",
      "100%|██████████| 12/12 [00:07<00:00,  1.71it/s]\n",
      "100%|██████████| 7/7 [00:04<00:00,  1.68it/s]\n",
      "100%|██████████| 15/15 [00:09<00:00,  1.67it/s]\n"
     ]
    },
    {
     "name": "stdout",
     "output_type": "stream",
     "text": [
      "Train -- Loss: 0.0317 | Precision: 0.9483 | Recall: 0.9473 | F1: 0.9465\n",
      "Val   -- Loss: 0.1684 | Precision: 0.9252 | Recall: 0.9281 | F1: 0.9245\n",
      "Devel -- Loss: 0.8050 | Precision: 0.7865 | Recall: 0.8141 | F1: 0.7905\n",
      "Test  -- Loss: 0.9550 | Precision: 0.7416 | Recall: 0.7928 | F1: 0.7577\n",
      "Time Elapsed: 0:02:29.068836, Time Remaining: 3:46:05.264076 \n",
      "\n",
      "Epoch 60/150\n"
     ]
    },
    {
     "name": "stderr",
     "output_type": "stream",
     "text": [
      "100%|██████████| 103/103 [02:08<00:00,  1.25s/it]\n",
      "100%|██████████| 12/12 [00:07<00:00,  1.71it/s]\n",
      "100%|██████████| 7/7 [00:04<00:00,  1.70it/s]\n",
      "100%|██████████| 15/15 [00:08<00:00,  1.71it/s]\n"
     ]
    },
    {
     "name": "stdout",
     "output_type": "stream",
     "text": [
      "Train -- Loss: 0.0317 | Precision: 0.9483 | Recall: 0.9476 | F1: 0.9466\n",
      "Val   -- Loss: 0.1680 | Precision: 0.9257 | Recall: 0.9251 | F1: 0.9246\n",
      "Devel -- Loss: 0.8150 | Precision: 0.7736 | Recall: 0.7968 | F1: 0.7803\n",
      "Test  -- Loss: 0.9658 | Precision: 0.7418 | Recall: 0.7803 | F1: 0.7546\n",
      "Time Elapsed: 0:02:28.694945, Time Remaining: 3:43:02.545050 \n",
      "\n",
      "Epoch 61/150\n"
     ]
    },
    {
     "name": "stderr",
     "output_type": "stream",
     "text": [
      "100%|██████████| 103/103 [02:08<00:00,  1.25s/it]\n",
      "100%|██████████| 12/12 [00:07<00:00,  1.70it/s]\n",
      "100%|██████████| 7/7 [00:04<00:00,  1.67it/s]\n",
      "100%|██████████| 15/15 [00:08<00:00,  1.69it/s]\n"
     ]
    },
    {
     "name": "stdout",
     "output_type": "stream",
     "text": [
      "Train -- Loss: 0.0312 | Precision: 0.9502 | Recall: 0.9491 | F1: 0.9483\n",
      "Val   -- Loss: 0.1781 | Precision: 0.9296 | Recall: 0.9292 | F1: 0.9265\n",
      "Devel -- Loss: 0.8512 | Precision: 0.7782 | Recall: 0.7995 | F1: 0.7807\n",
      "Test  -- Loss: 0.9911 | Precision: 0.7464 | Recall: 0.7806 | F1: 0.7557\n",
      "Time Elapsed: 0:02:28.635848, Time Remaining: 3:40:28.590472 \n",
      "\n",
      "Epoch 62/150\n"
     ]
    },
    {
     "name": "stderr",
     "output_type": "stream",
     "text": [
      "100%|██████████| 103/103 [02:09<00:00,  1.26s/it]\n",
      "100%|██████████| 12/12 [00:07<00:00,  1.71it/s]\n",
      "100%|██████████| 7/7 [00:04<00:00,  1.70it/s]\n",
      "100%|██████████| 15/15 [00:08<00:00,  1.72it/s]\n"
     ]
    },
    {
     "name": "stdout",
     "output_type": "stream",
     "text": [
      "Train -- Loss: 0.0309 | Precision: 0.9490 | Recall: 0.9482 | F1: 0.9472\n",
      "Val   -- Loss: 0.1710 | Precision: 0.9212 | Recall: 0.9242 | F1: 0.9215\n",
      "Devel -- Loss: 0.8252 | Precision: 0.7839 | Recall: 0.7999 | F1: 0.7828\n",
      "Test  -- Loss: 0.9804 | Precision: 0.7460 | Recall: 0.7784 | F1: 0.7557\n",
      "Time Elapsed: 0:02:29.481117, Time Remaining: 3:39:14.338296 \n",
      "\n",
      "Epoch 63/150\n"
     ]
    },
    {
     "name": "stderr",
     "output_type": "stream",
     "text": [
      "100%|██████████| 103/103 [02:08<00:00,  1.25s/it]\n",
      "100%|██████████| 12/12 [00:06<00:00,  1.72it/s]\n",
      "100%|██████████| 7/7 [00:04<00:00,  1.71it/s]\n",
      "100%|██████████| 15/15 [00:08<00:00,  1.71it/s]\n"
     ]
    },
    {
     "name": "stdout",
     "output_type": "stream",
     "text": [
      "Train -- Loss: 0.0314 | Precision: 0.9495 | Recall: 0.9487 | F1: 0.9479\n",
      "Val   -- Loss: 0.1734 | Precision: 0.9249 | Recall: 0.9261 | F1: 0.9242\n",
      "Devel -- Loss: 0.8208 | Precision: 0.7860 | Recall: 0.8005 | F1: 0.7856\n",
      "Test  -- Loss: 0.9817 | Precision: 0.7503 | Recall: 0.7778 | F1: 0.7569\n",
      "Time Elapsed: 0:02:28.463739, Time Remaining: 3:35:16.345293 \n",
      "\n",
      "Epoch 64/150\n"
     ]
    },
    {
     "name": "stderr",
     "output_type": "stream",
     "text": [
      "100%|██████████| 103/103 [02:08<00:00,  1.25s/it]\n",
      "100%|██████████| 12/12 [00:06<00:00,  1.73it/s]\n",
      "100%|██████████| 7/7 [00:04<00:00,  1.70it/s]\n",
      "100%|██████████| 15/15 [00:08<00:00,  1.70it/s]\n"
     ]
    },
    {
     "name": "stdout",
     "output_type": "stream",
     "text": [
      "Train -- Loss: 0.0313 | Precision: 0.9483 | Recall: 0.9480 | F1: 0.9469\n",
      "Val   -- Loss: 0.1700 | Precision: 0.9239 | Recall: 0.9255 | F1: 0.9238\n",
      "Devel -- Loss: 0.8039 | Precision: 0.7884 | Recall: 0.8117 | F1: 0.7898\n",
      "Test  -- Loss: 0.9492 | Precision: 0.7469 | Recall: 0.7932 | F1: 0.7617\n",
      "Time Elapsed: 0:02:28.758670, Time Remaining: 3:33:13.245620 \n",
      "\n",
      "Epoch 65/150\n"
     ]
    },
    {
     "name": "stderr",
     "output_type": "stream",
     "text": [
      "100%|██████████| 103/103 [02:08<00:00,  1.25s/it]\n",
      "100%|██████████| 12/12 [00:06<00:00,  1.72it/s]\n",
      "100%|██████████| 7/7 [00:04<00:00,  1.71it/s]\n",
      "100%|██████████| 15/15 [00:08<00:00,  1.72it/s]\n"
     ]
    },
    {
     "name": "stdout",
     "output_type": "stream",
     "text": [
      "Train -- Loss: 0.0305 | Precision: 0.9493 | Recall: 0.9480 | F1: 0.9471\n",
      "Val   -- Loss: 0.1782 | Precision: 0.9233 | Recall: 0.9238 | F1: 0.9227\n",
      "Devel -- Loss: 0.8493 | Precision: 0.7870 | Recall: 0.8043 | F1: 0.7875\n",
      "Test  -- Loss: 0.9753 | Precision: 0.7474 | Recall: 0.7855 | F1: 0.7594\n",
      "Time Elapsed: 0:02:28.604656, Time Remaining: 3:30:31.395760 \n",
      "\n",
      "Epoch 66/150\n"
     ]
    },
    {
     "name": "stderr",
     "output_type": "stream",
     "text": [
      "100%|██████████| 103/103 [02:09<00:00,  1.25s/it]\n",
      "100%|██████████| 12/12 [00:07<00:00,  1.71it/s]\n",
      "100%|██████████| 7/7 [00:04<00:00,  1.68it/s]\n",
      "100%|██████████| 15/15 [00:08<00:00,  1.72it/s]\n"
     ]
    },
    {
     "name": "stdout",
     "output_type": "stream",
     "text": [
      "Train -- Loss: 0.0307 | Precision: 0.9507 | Recall: 0.9497 | F1: 0.9489\n",
      "Val   -- Loss: 0.1642 | Precision: 0.9228 | Recall: 0.9254 | F1: 0.9231\n",
      "Devel -- Loss: 0.8020 | Precision: 0.7880 | Recall: 0.8095 | F1: 0.7891\n",
      "Test  -- Loss: 0.9404 | Precision: 0.7466 | Recall: 0.7951 | F1: 0.7623\n",
      "Time Elapsed: 0:02:28.992082, Time Remaining: 3:28:35.334888 \n",
      "\n",
      "Epoch 67/150\n"
     ]
    },
    {
     "name": "stderr",
     "output_type": "stream",
     "text": [
      "100%|██████████| 103/103 [02:08<00:00,  1.25s/it]\n",
      "100%|██████████| 12/12 [00:06<00:00,  1.72it/s]\n",
      "100%|██████████| 7/7 [00:04<00:00,  1.70it/s]\n",
      "100%|██████████| 15/15 [00:08<00:00,  1.72it/s]\n"
     ]
    },
    {
     "name": "stdout",
     "output_type": "stream",
     "text": [
      "Train -- Loss: 0.0306 | Precision: 0.9489 | Recall: 0.9482 | F1: 0.9471\n",
      "Val   -- Loss: 0.1715 | Precision: 0.9241 | Recall: 0.9254 | F1: 0.9239\n",
      "Devel -- Loss: 0.8155 | Precision: 0.7870 | Recall: 0.8070 | F1: 0.7876\n",
      "Test  -- Loss: 0.9664 | Precision: 0.7436 | Recall: 0.7891 | F1: 0.7583\n",
      "Time Elapsed: 0:02:28.760814, Time Remaining: 3:25:47.147562 \n",
      "\n",
      "Epoch 68/150\n"
     ]
    },
    {
     "name": "stderr",
     "output_type": "stream",
     "text": [
      "100%|██████████| 103/103 [02:09<00:00,  1.26s/it]\n",
      "100%|██████████| 12/12 [00:06<00:00,  1.72it/s]\n",
      "100%|██████████| 7/7 [00:04<00:00,  1.68it/s]\n",
      "100%|██████████| 15/15 [00:08<00:00,  1.72it/s]\n"
     ]
    },
    {
     "name": "stdout",
     "output_type": "stream",
     "text": [
      "Train -- Loss: 0.0304 | Precision: 0.9488 | Recall: 0.9480 | F1: 0.9472\n",
      "Val   -- Loss: 0.1786 | Precision: 0.9270 | Recall: 0.9282 | F1: 0.9259\n",
      "Devel -- Loss: 0.8388 | Precision: 0.7867 | Recall: 0.8021 | F1: 0.7850\n",
      "Test  -- Loss: 0.9994 | Precision: 0.7502 | Recall: 0.7817 | F1: 0.7548\n",
      "Time Elapsed: 0:02:29.499696, Time Remaining: 3:24:18.975072 \n",
      "\n",
      "Epoch 69/150\n"
     ]
    },
    {
     "name": "stderr",
     "output_type": "stream",
     "text": [
      "100%|██████████| 103/103 [02:08<00:00,  1.25s/it]\n",
      "100%|██████████| 12/12 [00:06<00:00,  1.72it/s]\n",
      "100%|██████████| 7/7 [00:04<00:00,  1.66it/s]\n",
      "100%|██████████| 15/15 [00:08<00:00,  1.69it/s]\n"
     ]
    },
    {
     "name": "stdout",
     "output_type": "stream",
     "text": [
      "Train -- Loss: 0.0299 | Precision: 0.9503 | Recall: 0.9495 | F1: 0.9486\n",
      "Val   -- Loss: 0.1710 | Precision: 0.9261 | Recall: 0.9249 | F1: 0.9249\n",
      "Devel -- Loss: 0.8376 | Precision: 0.7800 | Recall: 0.7969 | F1: 0.7825\n",
      "Test  -- Loss: 0.9771 | Precision: 0.7470 | Recall: 0.7847 | F1: 0.7589\n",
      "Time Elapsed: 0:02:28.986346, Time Remaining: 3:21:07.894026 \n",
      "\n",
      "Epoch 70/150\n"
     ]
    },
    {
     "name": "stderr",
     "output_type": "stream",
     "text": [
      "100%|██████████| 103/103 [02:10<00:00,  1.26s/it]\n",
      "100%|██████████| 12/12 [00:07<00:00,  1.65it/s]\n",
      "100%|██████████| 7/7 [00:04<00:00,  1.65it/s]\n",
      "100%|██████████| 15/15 [00:08<00:00,  1.67it/s]\n"
     ]
    },
    {
     "name": "stdout",
     "output_type": "stream",
     "text": [
      "Train -- Loss: 0.0303 | Precision: 0.9492 | Recall: 0.9483 | F1: 0.9474\n",
      "Val   -- Loss: 0.1731 | Precision: 0.9253 | Recall: 0.9257 | F1: 0.9250\n",
      "Devel -- Loss: 0.8114 | Precision: 0.7908 | Recall: 0.8052 | F1: 0.7909\n",
      "Test  -- Loss: 0.9679 | Precision: 0.7434 | Recall: 0.7786 | F1: 0.7554\n",
      "Time Elapsed: 0:02:30.561823, Time Remaining: 3:20:44.945840 \n",
      "\n",
      "Epoch 71/150\n"
     ]
    },
    {
     "name": "stderr",
     "output_type": "stream",
     "text": [
      "100%|██████████| 103/103 [02:09<00:00,  1.26s/it]\n",
      "100%|██████████| 12/12 [00:07<00:00,  1.68it/s]\n",
      "100%|██████████| 7/7 [00:04<00:00,  1.63it/s]\n",
      "100%|██████████| 15/15 [00:08<00:00,  1.67it/s]\n"
     ]
    },
    {
     "name": "stdout",
     "output_type": "stream",
     "text": [
      "Train -- Loss: 0.0307 | Precision: 0.9490 | Recall: 0.9481 | F1: 0.9473\n",
      "Val   -- Loss: 0.1747 | Precision: 0.9266 | Recall: 0.9296 | F1: 0.9254\n",
      "Devel -- Loss: 0.8205 | Precision: 0.7976 | Recall: 0.8121 | F1: 0.7918\n",
      "Test  -- Loss: 0.9836 | Precision: 0.7437 | Recall: 0.7876 | F1: 0.7583\n",
      "Time Elapsed: 0:02:30.231312, Time Remaining: 3:17:48.273648 \n",
      "\n",
      "Epoch 72/150\n"
     ]
    },
    {
     "name": "stderr",
     "output_type": "stream",
     "text": [
      "100%|██████████| 103/103 [02:09<00:00,  1.26s/it]\n",
      "100%|██████████| 12/12 [00:07<00:00,  1.67it/s]\n",
      "100%|██████████| 7/7 [00:04<00:00,  1.66it/s]\n",
      "100%|██████████| 15/15 [00:09<00:00,  1.66it/s]\n"
     ]
    },
    {
     "name": "stdout",
     "output_type": "stream",
     "text": [
      "Train -- Loss: 0.0304 | Precision: 0.9499 | Recall: 0.9488 | F1: 0.9478\n",
      "Val   -- Loss: 0.1801 | Precision: 0.9224 | Recall: 0.9243 | F1: 0.9225\n",
      "Devel -- Loss: 0.8342 | Precision: 0.7873 | Recall: 0.7980 | F1: 0.7847\n",
      "Test  -- Loss: 0.9879 | Precision: 0.7442 | Recall: 0.7780 | F1: 0.7558\n",
      "Time Elapsed: 0:02:30.191156, Time Remaining: 3:15:14.910168 \n",
      "\n",
      "Epoch 73/150\n"
     ]
    },
    {
     "name": "stderr",
     "output_type": "stream",
     "text": [
      "100%|██████████| 103/103 [02:10<00:00,  1.27s/it]\n",
      "100%|██████████| 12/12 [00:07<00:00,  1.64it/s]\n",
      "100%|██████████| 7/7 [00:04<00:00,  1.66it/s]\n",
      "100%|██████████| 15/15 [00:08<00:00,  1.68it/s]\n"
     ]
    },
    {
     "name": "stdout",
     "output_type": "stream",
     "text": [
      "Train -- Loss: 0.0304 | Precision: 0.9496 | Recall: 0.9486 | F1: 0.9479\n",
      "Val   -- Loss: 0.1769 | Precision: 0.9239 | Recall: 0.9236 | F1: 0.9232\n",
      "Devel -- Loss: 0.8509 | Precision: 0.7871 | Recall: 0.7989 | F1: 0.7847\n",
      "Test  -- Loss: 0.9889 | Precision: 0.7432 | Recall: 0.7778 | F1: 0.7557\n",
      "Time Elapsed: 0:02:30.859532, Time Remaining: 3:13:36.183964 \n",
      "\n",
      "Epoch 74/150\n"
     ]
    },
    {
     "name": "stderr",
     "output_type": "stream",
     "text": [
      "100%|██████████| 103/103 [02:09<00:00,  1.26s/it]\n",
      "100%|██████████| 12/12 [00:07<00:00,  1.65it/s]\n",
      "100%|██████████| 7/7 [00:04<00:00,  1.63it/s]\n",
      "100%|██████████| 15/15 [00:09<00:00,  1.65it/s]\n"
     ]
    },
    {
     "name": "stdout",
     "output_type": "stream",
     "text": [
      "Train -- Loss: 0.0300 | Precision: 0.9493 | Recall: 0.9486 | F1: 0.9476\n",
      "Val   -- Loss: 0.1738 | Precision: 0.9248 | Recall: 0.9253 | F1: 0.9242\n",
      "Devel -- Loss: 0.8268 | Precision: 0.7878 | Recall: 0.8082 | F1: 0.7892\n",
      "Test  -- Loss: 0.9709 | Precision: 0.7414 | Recall: 0.7910 | F1: 0.7591\n",
      "Time Elapsed: 0:02:30.535068, Time Remaining: 3:10:40.665168 \n",
      "\n",
      "Epoch 75/150\n"
     ]
    },
    {
     "name": "stderr",
     "output_type": "stream",
     "text": [
      "100%|██████████| 103/103 [02:10<00:00,  1.26s/it]\n",
      "100%|██████████| 12/12 [00:07<00:00,  1.66it/s]\n",
      "100%|██████████| 7/7 [00:04<00:00,  1.61it/s]\n",
      "100%|██████████| 15/15 [00:09<00:00,  1.64it/s]\n"
     ]
    },
    {
     "name": "stdout",
     "output_type": "stream",
     "text": [
      "Train -- Loss: 0.0300 | Precision: 0.9493 | Recall: 0.9483 | F1: 0.9474\n",
      "Val   -- Loss: 0.1741 | Precision: 0.9211 | Recall: 0.9245 | F1: 0.9216\n",
      "Devel -- Loss: 0.8108 | Precision: 0.7880 | Recall: 0.8074 | F1: 0.7873\n",
      "Test  -- Loss: 0.9473 | Precision: 0.7474 | Recall: 0.7874 | F1: 0.7593\n",
      "Time Elapsed: 0:02:30.812398, Time Remaining: 3:08:30.929850 \n",
      "\n",
      "Epoch 76/150\n"
     ]
    },
    {
     "name": "stderr",
     "output_type": "stream",
     "text": [
      "100%|██████████| 103/103 [02:10<00:00,  1.26s/it]\n",
      "100%|██████████| 12/12 [00:07<00:00,  1.68it/s]\n",
      "100%|██████████| 7/7 [00:04<00:00,  1.66it/s]\n",
      "100%|██████████| 15/15 [00:08<00:00,  1.67it/s]\n"
     ]
    },
    {
     "name": "stdout",
     "output_type": "stream",
     "text": [
      "Train -- Loss: 0.0299 | Precision: 0.9503 | Recall: 0.9495 | F1: 0.9485\n",
      "Val   -- Loss: 0.1831 | Precision: 0.9246 | Recall: 0.9264 | F1: 0.9243\n",
      "Devel -- Loss: 0.8352 | Precision: 0.7930 | Recall: 0.8150 | F1: 0.7904\n",
      "Test  -- Loss: 0.9607 | Precision: 0.7479 | Recall: 0.7996 | F1: 0.7621\n",
      "Time Elapsed: 0:02:30.452063, Time Remaining: 3:05:33.452662 \n",
      "\n",
      "Epoch 77/150\n"
     ]
    },
    {
     "name": "stderr",
     "output_type": "stream",
     "text": [
      "100%|██████████| 103/103 [02:09<00:00,  1.26s/it]\n",
      "100%|██████████| 12/12 [00:07<00:00,  1.70it/s]\n",
      "100%|██████████| 7/7 [00:04<00:00,  1.65it/s]\n",
      "100%|██████████| 15/15 [00:09<00:00,  1.63it/s]\n"
     ]
    },
    {
     "name": "stdout",
     "output_type": "stream",
     "text": [
      "Train -- Loss: 0.0302 | Precision: 0.9495 | Recall: 0.9490 | F1: 0.9481\n",
      "Val   -- Loss: 0.1807 | Precision: 0.9259 | Recall: 0.9226 | F1: 0.9234\n",
      "Devel -- Loss: 0.7781 | Precision: 0.7908 | Recall: 0.8013 | F1: 0.7887\n",
      "Test  -- Loss: 0.9750 | Precision: 0.7422 | Recall: 0.7728 | F1: 0.7528\n",
      "Time Elapsed: 0:02:30.235511, Time Remaining: 3:02:47.192303 \n",
      "\n",
      "Epoch 78/150\n"
     ]
    },
    {
     "name": "stderr",
     "output_type": "stream",
     "text": [
      "100%|██████████| 103/103 [02:09<00:00,  1.26s/it]\n",
      "100%|██████████| 12/12 [00:07<00:00,  1.71it/s]\n",
      "100%|██████████| 7/7 [00:04<00:00,  1.70it/s]\n",
      "100%|██████████| 15/15 [00:08<00:00,  1.68it/s]\n"
     ]
    },
    {
     "name": "stdout",
     "output_type": "stream",
     "text": [
      "Train -- Loss: 0.0299 | Precision: 0.9498 | Recall: 0.9488 | F1: 0.9480\n",
      "Val   -- Loss: 0.1799 | Precision: 0.9243 | Recall: 0.9241 | F1: 0.9233\n",
      "Devel -- Loss: 0.7828 | Precision: 0.7948 | Recall: 0.8111 | F1: 0.7938\n",
      "Test  -- Loss: 0.9691 | Precision: 0.7489 | Recall: 0.7861 | F1: 0.7600\n",
      "Time Elapsed: 0:02:29.872143, Time Remaining: 2:59:50.794296 \n",
      "\n",
      "Epoch 79/150\n"
     ]
    },
    {
     "name": "stderr",
     "output_type": "stream",
     "text": [
      "100%|██████████| 103/103 [02:08<00:00,  1.25s/it]\n",
      "100%|██████████| 12/12 [00:07<00:00,  1.70it/s]\n",
      "100%|██████████| 7/7 [00:04<00:00,  1.69it/s]\n",
      "100%|██████████| 15/15 [00:08<00:00,  1.69it/s]\n"
     ]
    },
    {
     "name": "stdout",
     "output_type": "stream",
     "text": [
      "Train -- Loss: 0.0305 | Precision: 0.9491 | Recall: 0.9483 | F1: 0.9472\n",
      "Val   -- Loss: 0.1768 | Precision: 0.9225 | Recall: 0.9261 | F1: 0.9227\n",
      "Devel -- Loss: 0.8060 | Precision: 0.7853 | Recall: 0.8120 | F1: 0.7878\n",
      "Test  -- Loss: 0.9746 | Precision: 0.7399 | Recall: 0.7910 | F1: 0.7581\n",
      "Time Elapsed: 0:02:28.952602, Time Remaining: 2:56:15.634742 \n",
      "\n",
      "Epoch 80/150\n"
     ]
    },
    {
     "name": "stderr",
     "output_type": "stream",
     "text": [
      "100%|██████████| 103/103 [02:09<00:00,  1.25s/it]\n",
      "100%|██████████| 12/12 [00:07<00:00,  1.69it/s]\n",
      "100%|██████████| 7/7 [00:04<00:00,  1.70it/s]\n",
      "100%|██████████| 15/15 [00:08<00:00,  1.70it/s]\n"
     ]
    },
    {
     "name": "stdout",
     "output_type": "stream",
     "text": [
      "Train -- Loss: 0.0304 | Precision: 0.9490 | Recall: 0.9482 | F1: 0.9473\n",
      "Val   -- Loss: 0.1796 | Precision: 0.9217 | Recall: 0.9235 | F1: 0.9219\n",
      "Devel -- Loss: 0.8135 | Precision: 0.7870 | Recall: 0.8072 | F1: 0.7879\n",
      "Test  -- Loss: 0.9443 | Precision: 0.7413 | Recall: 0.7904 | F1: 0.7599\n",
      "Time Elapsed: 0:02:29.146222, Time Remaining: 2:54:00.235540 \n",
      "\n",
      "Epoch 81/150\n"
     ]
    },
    {
     "name": "stderr",
     "output_type": "stream",
     "text": [
      "100%|██████████| 103/103 [02:09<00:00,  1.25s/it]\n",
      "100%|██████████| 12/12 [00:06<00:00,  1.73it/s]\n",
      "100%|██████████| 7/7 [00:04<00:00,  1.70it/s]\n",
      "100%|██████████| 15/15 [00:08<00:00,  1.70it/s]\n"
     ]
    },
    {
     "name": "stdout",
     "output_type": "stream",
     "text": [
      "Train -- Loss: 0.0302 | Precision: 0.9494 | Recall: 0.9486 | F1: 0.9476\n",
      "Val   -- Loss: 0.1784 | Precision: 0.9233 | Recall: 0.9240 | F1: 0.9228\n",
      "Devel -- Loss: 0.8022 | Precision: 0.7894 | Recall: 0.8058 | F1: 0.7887\n",
      "Test  -- Loss: 0.9575 | Precision: 0.7463 | Recall: 0.7831 | F1: 0.7569\n",
      "Time Elapsed: 0:02:29.059179, Time Remaining: 2:51:25.083351 \n",
      "\n",
      "Epoch 82/150\n"
     ]
    },
    {
     "name": "stderr",
     "output_type": "stream",
     "text": [
      "100%|██████████| 103/103 [02:08<00:00,  1.25s/it]\n",
      "100%|██████████| 12/12 [00:07<00:00,  1.71it/s]\n",
      "100%|██████████| 7/7 [00:04<00:00,  1.69it/s]\n",
      "100%|██████████| 15/15 [00:08<00:00,  1.70it/s]\n"
     ]
    },
    {
     "name": "stdout",
     "output_type": "stream",
     "text": [
      "Train -- Loss: 0.0307 | Precision: 0.9498 | Recall: 0.9487 | F1: 0.9477\n",
      "Val   -- Loss: 0.1763 | Precision: 0.9221 | Recall: 0.9238 | F1: 0.9221\n",
      "Devel -- Loss: 0.7576 | Precision: 0.8009 | Recall: 0.8207 | F1: 0.8000\n",
      "Test  -- Loss: 0.9340 | Precision: 0.7504 | Recall: 0.7969 | F1: 0.7642\n",
      "Time Elapsed: 0:02:28.839152, Time Remaining: 2:48:41.062336 \n",
      "\n",
      "Epoch 83/150\n"
     ]
    },
    {
     "name": "stderr",
     "output_type": "stream",
     "text": [
      "100%|██████████| 103/103 [02:09<00:00,  1.25s/it]\n",
      "100%|██████████| 12/12 [00:06<00:00,  1.72it/s]\n",
      "100%|██████████| 7/7 [00:04<00:00,  1.69it/s]\n",
      "100%|██████████| 15/15 [00:08<00:00,  1.69it/s]\n"
     ]
    },
    {
     "name": "stdout",
     "output_type": "stream",
     "text": [
      "Train -- Loss: 0.0293 | Precision: 0.9520 | Recall: 0.9507 | F1: 0.9499\n",
      "Val   -- Loss: 0.1777 | Precision: 0.9247 | Recall: 0.9265 | F1: 0.9246\n",
      "Devel -- Loss: 0.7955 | Precision: 0.7879 | Recall: 0.8160 | F1: 0.7935\n",
      "Test  -- Loss: 0.9791 | Precision: 0.7458 | Recall: 0.7895 | F1: 0.7606\n",
      "Time Elapsed: 0:02:29.018249, Time Remaining: 2:46:24.222683 \n",
      "\n",
      "Epoch 84/150\n"
     ]
    },
    {
     "name": "stderr",
     "output_type": "stream",
     "text": [
      "100%|██████████| 103/103 [02:08<00:00,  1.25s/it]\n",
      "100%|██████████| 12/12 [00:07<00:00,  1.67it/s]\n",
      "100%|██████████| 7/7 [00:04<00:00,  1.65it/s]\n",
      "100%|██████████| 15/15 [00:08<00:00,  1.67it/s]\n"
     ]
    },
    {
     "name": "stdout",
     "output_type": "stream",
     "text": [
      "Train -- Loss: 0.0291 | Precision: 0.9504 | Recall: 0.9494 | F1: 0.9485\n",
      "Val   -- Loss: 0.1815 | Precision: 0.9244 | Recall: 0.9270 | F1: 0.9238\n",
      "Devel -- Loss: 0.7957 | Precision: 0.7921 | Recall: 0.8133 | F1: 0.7905\n",
      "Test  -- Loss: 0.9739 | Precision: 0.7437 | Recall: 0.7916 | F1: 0.7578\n",
      "Time Elapsed: 0:02:29.384357, Time Remaining: 2:44:19.367562 \n",
      "\n",
      "Epoch 85/150\n"
     ]
    },
    {
     "name": "stderr",
     "output_type": "stream",
     "text": [
      "100%|██████████| 103/103 [02:09<00:00,  1.26s/it]\n",
      "100%|██████████| 12/12 [00:07<00:00,  1.68it/s]\n",
      "100%|██████████| 7/7 [00:04<00:00,  1.67it/s]\n",
      "100%|██████████| 15/15 [00:09<00:00,  1.66it/s]\n"
     ]
    },
    {
     "name": "stdout",
     "output_type": "stream",
     "text": [
      "Train -- Loss: 0.0298 | Precision: 0.9498 | Recall: 0.9486 | F1: 0.9479\n",
      "Val   -- Loss: 0.1819 | Precision: 0.9226 | Recall: 0.9265 | F1: 0.9230\n",
      "Devel -- Loss: 0.8023 | Precision: 0.7922 | Recall: 0.8114 | F1: 0.7905\n",
      "Test  -- Loss: 0.9799 | Precision: 0.7474 | Recall: 0.7882 | F1: 0.7592\n",
      "Time Elapsed: 0:02:30.035480, Time Remaining: 2:42:32.306200 \n",
      "\n",
      "Epoch 86/150\n"
     ]
    },
    {
     "name": "stderr",
     "output_type": "stream",
     "text": [
      "100%|██████████| 103/103 [02:09<00:00,  1.26s/it]\n",
      "100%|██████████| 12/12 [00:07<00:00,  1.71it/s]\n",
      "100%|██████████| 7/7 [00:04<00:00,  1.70it/s]\n",
      "100%|██████████| 15/15 [00:08<00:00,  1.71it/s]\n"
     ]
    },
    {
     "name": "stdout",
     "output_type": "stream",
     "text": [
      "Train -- Loss: 0.0289 | Precision: 0.9498 | Recall: 0.9493 | F1: 0.9481\n",
      "Val   -- Loss: 0.1824 | Precision: 0.9224 | Recall: 0.9242 | F1: 0.9224\n",
      "Devel -- Loss: 0.8154 | Precision: 0.7924 | Recall: 0.8050 | F1: 0.7880\n",
      "Test  -- Loss: 0.9848 | Precision: 0.7479 | Recall: 0.7802 | F1: 0.7573\n",
      "Time Elapsed: 0:02:29.372989, Time Remaining: 2:39:19.871296 \n",
      "\n",
      "Epoch 87/150\n"
     ]
    },
    {
     "name": "stderr",
     "output_type": "stream",
     "text": [
      "100%|██████████| 103/103 [02:09<00:00,  1.26s/it]\n",
      "100%|██████████| 12/12 [00:07<00:00,  1.71it/s]\n",
      "100%|██████████| 7/7 [00:04<00:00,  1.71it/s]\n",
      "100%|██████████| 15/15 [00:08<00:00,  1.70it/s]\n"
     ]
    },
    {
     "name": "stdout",
     "output_type": "stream",
     "text": [
      "Train -- Loss: 0.0293 | Precision: 0.9506 | Recall: 0.9499 | F1: 0.9489\n",
      "Val   -- Loss: 0.1836 | Precision: 0.9254 | Recall: 0.9281 | F1: 0.9255\n",
      "Devel -- Loss: 0.8120 | Precision: 0.7976 | Recall: 0.8135 | F1: 0.7938\n",
      "Test  -- Loss: 0.9765 | Precision: 0.7456 | Recall: 0.7853 | F1: 0.7577\n",
      "Time Elapsed: 0:02:29.656585, Time Remaining: 2:37:08.364855 \n",
      "\n",
      "Epoch 88/150\n"
     ]
    },
    {
     "name": "stderr",
     "output_type": "stream",
     "text": [
      "100%|██████████| 103/103 [02:09<00:00,  1.26s/it]\n",
      "100%|██████████| 12/12 [00:07<00:00,  1.70it/s]\n",
      "100%|██████████| 7/7 [00:04<00:00,  1.69it/s]\n",
      "100%|██████████| 15/15 [00:08<00:00,  1.72it/s]\n"
     ]
    },
    {
     "name": "stdout",
     "output_type": "stream",
     "text": [
      "Train -- Loss: 0.0285 | Precision: 0.9525 | Recall: 0.9515 | F1: 0.9507\n",
      "Val   -- Loss: 0.1861 | Precision: 0.9247 | Recall: 0.9280 | F1: 0.9246\n",
      "Devel -- Loss: 0.8344 | Precision: 0.7908 | Recall: 0.8201 | F1: 0.7936\n",
      "Test  -- Loss: 0.9893 | Precision: 0.7478 | Recall: 0.7936 | F1: 0.7595\n",
      "Time Elapsed: 0:02:29.787730, Time Remaining: 2:34:46.839260 \n",
      "\n",
      "Epoch 89/150\n"
     ]
    },
    {
     "name": "stderr",
     "output_type": "stream",
     "text": [
      "100%|██████████| 103/103 [02:09<00:00,  1.26s/it]\n",
      "100%|██████████| 12/12 [00:06<00:00,  1.73it/s]\n",
      "100%|██████████| 7/7 [00:04<00:00,  1.68it/s]\n",
      "100%|██████████| 15/15 [00:09<00:00,  1.66it/s]\n"
     ]
    },
    {
     "name": "stdout",
     "output_type": "stream",
     "text": [
      "Train -- Loss: 0.0293 | Precision: 0.9505 | Recall: 0.9492 | F1: 0.9483\n",
      "Val   -- Loss: 0.1846 | Precision: 0.9235 | Recall: 0.9252 | F1: 0.9231\n",
      "Devel -- Loss: 0.8173 | Precision: 0.7927 | Recall: 0.8112 | F1: 0.7912\n",
      "Test  -- Loss: 0.9607 | Precision: 0.7492 | Recall: 0.7900 | F1: 0.7585\n",
      "Time Elapsed: 0:02:29.823960, Time Remaining: 2:32:19.261560 \n",
      "\n",
      "Epoch 90/150\n"
     ]
    },
    {
     "name": "stderr",
     "output_type": "stream",
     "text": [
      "100%|██████████| 103/103 [02:10<00:00,  1.26s/it]\n",
      "100%|██████████| 12/12 [00:06<00:00,  1.73it/s]\n",
      "100%|██████████| 7/7 [00:04<00:00,  1.71it/s]\n",
      "100%|██████████| 15/15 [00:08<00:00,  1.69it/s]\n"
     ]
    },
    {
     "name": "stdout",
     "output_type": "stream",
     "text": [
      "Train -- Loss: 0.0288 | Precision: 0.9514 | Recall: 0.9507 | F1: 0.9497\n",
      "Val   -- Loss: 0.1852 | Precision: 0.9273 | Recall: 0.9257 | F1: 0.9257\n",
      "Devel -- Loss: 0.7974 | Precision: 0.7914 | Recall: 0.8095 | F1: 0.7919\n",
      "Test  -- Loss: 0.9448 | Precision: 0.7489 | Recall: 0.7914 | F1: 0.7614\n",
      "Time Elapsed: 0:02:30.142482, Time Remaining: 2:30:08.548920 \n",
      "\n",
      "Epoch 91/150\n"
     ]
    },
    {
     "name": "stderr",
     "output_type": "stream",
     "text": [
      "100%|██████████| 103/103 [02:09<00:00,  1.26s/it]\n",
      "100%|██████████| 12/12 [00:06<00:00,  1.72it/s]\n",
      "100%|██████████| 7/7 [00:04<00:00,  1.69it/s]\n",
      "100%|██████████| 15/15 [00:08<00:00,  1.71it/s]\n"
     ]
    },
    {
     "name": "stdout",
     "output_type": "stream",
     "text": [
      "Train -- Loss: 0.0289 | Precision: 0.9504 | Recall: 0.9491 | F1: 0.9485\n",
      "Val   -- Loss: 0.1796 | Precision: 0.9264 | Recall: 0.9283 | F1: 0.9265\n",
      "Devel -- Loss: 0.8087 | Precision: 0.7953 | Recall: 0.8159 | F1: 0.7950\n",
      "Test  -- Loss: 0.9598 | Precision: 0.7586 | Recall: 0.7926 | F1: 0.7630\n",
      "Time Elapsed: 0:02:29.629606, Time Remaining: 2:27:08.146754 \n",
      "\n",
      "Epoch 92/150\n"
     ]
    },
    {
     "name": "stderr",
     "output_type": "stream",
     "text": [
      "100%|██████████| 103/103 [02:09<00:00,  1.26s/it]\n",
      "100%|██████████| 12/12 [00:07<00:00,  1.71it/s]\n",
      "100%|██████████| 7/7 [00:04<00:00,  1.69it/s]\n",
      "100%|██████████| 15/15 [00:08<00:00,  1.71it/s]\n"
     ]
    },
    {
     "name": "stdout",
     "output_type": "stream",
     "text": [
      "Train -- Loss: 0.0287 | Precision: 0.9512 | Recall: 0.9505 | F1: 0.9495\n",
      "Val   -- Loss: 0.1887 | Precision: 0.9245 | Recall: 0.9268 | F1: 0.9246\n",
      "Devel -- Loss: 0.8520 | Precision: 0.7832 | Recall: 0.8012 | F1: 0.7844\n",
      "Test  -- Loss: 0.9875 | Precision: 0.7498 | Recall: 0.7773 | F1: 0.7574\n",
      "Time Elapsed: 0:02:29.824573, Time Remaining: 2:24:49.825234 \n",
      "\n",
      "Epoch 93/150\n"
     ]
    },
    {
     "name": "stderr",
     "output_type": "stream",
     "text": [
      "100%|██████████| 103/103 [02:09<00:00,  1.26s/it]\n",
      "100%|██████████| 12/12 [00:07<00:00,  1.69it/s]\n",
      "100%|██████████| 7/7 [00:04<00:00,  1.64it/s]\n",
      "100%|██████████| 15/15 [00:08<00:00,  1.69it/s]\n"
     ]
    },
    {
     "name": "stdout",
     "output_type": "stream",
     "text": [
      "Train -- Loss: 0.0294 | Precision: 0.9508 | Recall: 0.9495 | F1: 0.9487\n",
      "Val   -- Loss: 0.1868 | Precision: 0.9237 | Recall: 0.9256 | F1: 0.9236\n",
      "Devel -- Loss: 0.8125 | Precision: 0.7879 | Recall: 0.8167 | F1: 0.7919\n",
      "Test  -- Loss: 0.9788 | Precision: 0.7433 | Recall: 0.7903 | F1: 0.7581\n",
      "Time Elapsed: 0:02:30.200140, Time Remaining: 2:22:41.407980 \n",
      "\n",
      "Epoch 94/150\n"
     ]
    },
    {
     "name": "stderr",
     "output_type": "stream",
     "text": [
      "100%|██████████| 103/103 [02:10<00:00,  1.27s/it]\n",
      "100%|██████████| 12/12 [00:07<00:00,  1.69it/s]\n",
      "100%|██████████| 7/7 [00:04<00:00,  1.68it/s]\n",
      "100%|██████████| 15/15 [00:08<00:00,  1.68it/s]\n"
     ]
    },
    {
     "name": "stdout",
     "output_type": "stream",
     "text": [
      "Train -- Loss: 0.0291 | Precision: 0.9499 | Recall: 0.9494 | F1: 0.9483\n",
      "Val   -- Loss: 0.1895 | Precision: 0.9275 | Recall: 0.9279 | F1: 0.9268\n",
      "Devel -- Loss: 0.8343 | Precision: 0.7922 | Recall: 0.8121 | F1: 0.7928\n",
      "Test  -- Loss: 0.9919 | Precision: 0.7480 | Recall: 0.7869 | F1: 0.7577\n",
      "Time Elapsed: 0:02:30.585257, Time Remaining: 2:20:32.774392 \n",
      "\n",
      "Epoch 95/150\n"
     ]
    },
    {
     "name": "stderr",
     "output_type": "stream",
     "text": [
      "100%|██████████| 103/103 [02:10<00:00,  1.26s/it]\n",
      "100%|██████████| 12/12 [00:07<00:00,  1.69it/s]\n",
      "100%|██████████| 7/7 [00:04<00:00,  1.66it/s]\n",
      "100%|██████████| 15/15 [00:08<00:00,  1.69it/s]\n"
     ]
    },
    {
     "name": "stdout",
     "output_type": "stream",
     "text": [
      "Train -- Loss: 0.0287 | Precision: 0.9520 | Recall: 0.9510 | F1: 0.9502\n",
      "Val   -- Loss: 0.1879 | Precision: 0.9267 | Recall: 0.9288 | F1: 0.9262\n",
      "Devel -- Loss: 0.8137 | Precision: 0.7937 | Recall: 0.8165 | F1: 0.7951\n",
      "Test  -- Loss: 0.9946 | Precision: 0.7414 | Recall: 0.7882 | F1: 0.7568\n",
      "Time Elapsed: 0:02:30.320376, Time Remaining: 2:17:47.620680 \n",
      "\n",
      "Epoch 96/150\n"
     ]
    },
    {
     "name": "stderr",
     "output_type": "stream",
     "text": [
      "100%|██████████| 103/103 [02:10<00:00,  1.26s/it]\n",
      "100%|██████████| 12/12 [00:07<00:00,  1.70it/s]\n",
      "100%|██████████| 7/7 [00:04<00:00,  1.67it/s]\n",
      "100%|██████████| 15/15 [00:08<00:00,  1.70it/s]\n"
     ]
    },
    {
     "name": "stdout",
     "output_type": "stream",
     "text": [
      "Train -- Loss: 0.0280 | Precision: 0.9515 | Recall: 0.9503 | F1: 0.9496\n",
      "Val   -- Loss: 0.1892 | Precision: 0.9239 | Recall: 0.9276 | F1: 0.9240\n",
      "Devel -- Loss: 0.8085 | Precision: 0.7961 | Recall: 0.8152 | F1: 0.7909\n",
      "Test  -- Loss: 0.9716 | Precision: 0.7511 | Recall: 0.7999 | F1: 0.7620\n",
      "Time Elapsed: 0:02:30.385278, Time Remaining: 2:15:20.805012 \n",
      "\n",
      "Epoch 97/150\n"
     ]
    },
    {
     "name": "stderr",
     "output_type": "stream",
     "text": [
      "100%|██████████| 103/103 [02:09<00:00,  1.26s/it]\n",
      "100%|██████████| 12/12 [00:07<00:00,  1.69it/s]\n",
      "100%|██████████| 7/7 [00:04<00:00,  1.70it/s]\n",
      "100%|██████████| 15/15 [00:08<00:00,  1.71it/s]\n"
     ]
    },
    {
     "name": "stdout",
     "output_type": "stream",
     "text": [
      "Train -- Loss: 0.0294 | Precision: 0.9518 | Recall: 0.9509 | F1: 0.9499\n",
      "Val   -- Loss: 0.1917 | Precision: 0.9201 | Recall: 0.9231 | F1: 0.9207\n",
      "Devel -- Loss: 0.7942 | Precision: 0.7936 | Recall: 0.8098 | F1: 0.7891\n",
      "Test  -- Loss: 0.9801 | Precision: 0.7453 | Recall: 0.7854 | F1: 0.7563\n",
      "Time Elapsed: 0:02:29.959884, Time Remaining: 2:12:27.873852 \n",
      "\n",
      "Epoch 98/150\n"
     ]
    },
    {
     "name": "stderr",
     "output_type": "stream",
     "text": [
      "100%|██████████| 103/103 [02:10<00:00,  1.27s/it]\n",
      "100%|██████████| 12/12 [00:07<00:00,  1.67it/s]\n",
      "100%|██████████| 7/7 [00:04<00:00,  1.69it/s]\n",
      "100%|██████████| 15/15 [00:08<00:00,  1.69it/s]\n"
     ]
    },
    {
     "name": "stdout",
     "output_type": "stream",
     "text": [
      "Train -- Loss: 0.0287 | Precision: 0.9512 | Recall: 0.9503 | F1: 0.9495\n",
      "Val   -- Loss: 0.1956 | Precision: 0.9240 | Recall: 0.9275 | F1: 0.9236\n",
      "Devel -- Loss: 0.7915 | Precision: 0.7957 | Recall: 0.8192 | F1: 0.7949\n",
      "Test  -- Loss: 0.9873 | Precision: 0.7476 | Recall: 0.7899 | F1: 0.7575\n",
      "Time Elapsed: 0:02:30.523779, Time Remaining: 2:10:27.236508 \n",
      "\n",
      "Epoch 99/150\n"
     ]
    },
    {
     "name": "stderr",
     "output_type": "stream",
     "text": [
      "100%|██████████| 103/103 [02:10<00:00,  1.26s/it]\n",
      "100%|██████████| 12/12 [00:07<00:00,  1.71it/s]\n",
      "100%|██████████| 7/7 [00:04<00:00,  1.65it/s]\n",
      "100%|██████████| 15/15 [00:08<00:00,  1.71it/s]\n"
     ]
    },
    {
     "name": "stdout",
     "output_type": "stream",
     "text": [
      "Train -- Loss: 0.0283 | Precision: 0.9511 | Recall: 0.9498 | F1: 0.9491\n",
      "Val   -- Loss: 0.1879 | Precision: 0.9270 | Recall: 0.9289 | F1: 0.9256\n",
      "Devel -- Loss: 0.8004 | Precision: 0.7886 | Recall: 0.8171 | F1: 0.7907\n",
      "Test  -- Loss: 1.0019 | Precision: 0.7516 | Recall: 0.7883 | F1: 0.7588\n",
      "Time Elapsed: 0:02:30.091939, Time Remaining: 2:07:34.688889 \n",
      "\n",
      "Epoch 100/150\n"
     ]
    },
    {
     "name": "stderr",
     "output_type": "stream",
     "text": [
      "100%|██████████| 103/103 [02:10<00:00,  1.26s/it]\n",
      "100%|██████████| 12/12 [00:07<00:00,  1.71it/s]\n",
      "100%|██████████| 7/7 [00:04<00:00,  1.68it/s]\n",
      "100%|██████████| 15/15 [00:08<00:00,  1.69it/s]\n"
     ]
    },
    {
     "name": "stdout",
     "output_type": "stream",
     "text": [
      "Train -- Loss: 0.0283 | Precision: 0.9512 | Recall: 0.9501 | F1: 0.9491\n",
      "Val   -- Loss: 0.1990 | Precision: 0.9224 | Recall: 0.9238 | F1: 0.9224\n",
      "Devel -- Loss: 0.8189 | Precision: 0.7873 | Recall: 0.8077 | F1: 0.7877\n",
      "Test  -- Loss: 0.9980 | Precision: 0.7477 | Recall: 0.7875 | F1: 0.7585\n",
      "Time Elapsed: 0:02:30.305459, Time Remaining: 2:05:15.272950 \n",
      "\n",
      "Epoch 101/150\n"
     ]
    },
    {
     "name": "stderr",
     "output_type": "stream",
     "text": [
      "100%|██████████| 103/103 [02:09<00:00,  1.26s/it]\n",
      "100%|██████████| 12/12 [00:07<00:00,  1.70it/s]\n",
      "100%|██████████| 7/7 [00:04<00:00,  1.69it/s]\n",
      "100%|██████████| 15/15 [00:08<00:00,  1.69it/s]\n"
     ]
    },
    {
     "name": "stdout",
     "output_type": "stream",
     "text": [
      "Train -- Loss: 0.0288 | Precision: 0.9508 | Recall: 0.9498 | F1: 0.9490\n",
      "Val   -- Loss: 0.2048 | Precision: 0.9240 | Recall: 0.9267 | F1: 0.9240\n",
      "Devel -- Loss: 0.8025 | Precision: 0.7982 | Recall: 0.8215 | F1: 0.7945\n",
      "Test  -- Loss: 0.9787 | Precision: 0.7513 | Recall: 0.7918 | F1: 0.7596\n",
      "Time Elapsed: 0:02:29.969536, Time Remaining: 2:02:28.507264 \n",
      "\n",
      "Epoch 102/150\n"
     ]
    },
    {
     "name": "stderr",
     "output_type": "stream",
     "text": [
      "100%|██████████| 103/103 [02:09<00:00,  1.26s/it]\n",
      "100%|██████████| 12/12 [00:06<00:00,  1.72it/s]\n",
      "100%|██████████| 7/7 [00:04<00:00,  1.71it/s]\n",
      "100%|██████████| 15/15 [00:08<00:00,  1.70it/s]\n"
     ]
    },
    {
     "name": "stdout",
     "output_type": "stream",
     "text": [
      "Train -- Loss: 0.0291 | Precision: 0.9504 | Recall: 0.9500 | F1: 0.9490\n",
      "Val   -- Loss: 0.2019 | Precision: 0.9205 | Recall: 0.9227 | F1: 0.9207\n",
      "Devel -- Loss: 0.7921 | Precision: 0.7961 | Recall: 0.8224 | F1: 0.7956\n",
      "Test  -- Loss: 0.9649 | Precision: 0.7498 | Recall: 0.7959 | F1: 0.7611\n",
      "Time Elapsed: 0:02:29.784077, Time Remaining: 1:59:49.635696 \n",
      "\n",
      "Epoch 103/150\n"
     ]
    },
    {
     "name": "stderr",
     "output_type": "stream",
     "text": [
      "100%|██████████| 103/103 [02:10<00:00,  1.26s/it]\n",
      "100%|██████████| 12/12 [00:07<00:00,  1.69it/s]\n",
      "100%|██████████| 7/7 [00:04<00:00,  1.67it/s]\n",
      "100%|██████████| 15/15 [00:08<00:00,  1.71it/s]\n"
     ]
    },
    {
     "name": "stdout",
     "output_type": "stream",
     "text": [
      "Train -- Loss: 0.0286 | Precision: 0.9503 | Recall: 0.9495 | F1: 0.9486\n",
      "Val   -- Loss: 0.2006 | Precision: 0.9208 | Recall: 0.9221 | F1: 0.9206\n",
      "Devel -- Loss: 0.7988 | Precision: 0.7857 | Recall: 0.8140 | F1: 0.7895\n",
      "Test  -- Loss: 0.9662 | Precision: 0.7485 | Recall: 0.7903 | F1: 0.7594\n",
      "Time Elapsed: 0:02:30.193654, Time Remaining: 1:57:39.101738 \n",
      "\n",
      "Epoch 104/150\n"
     ]
    },
    {
     "name": "stderr",
     "output_type": "stream",
     "text": [
      "100%|██████████| 103/103 [02:10<00:00,  1.26s/it]\n",
      "100%|██████████| 12/12 [00:07<00:00,  1.69it/s]\n",
      "100%|██████████| 7/7 [00:04<00:00,  1.69it/s]\n",
      "100%|██████████| 15/15 [00:08<00:00,  1.71it/s]\n"
     ]
    },
    {
     "name": "stdout",
     "output_type": "stream",
     "text": [
      "Train -- Loss: 0.0277 | Precision: 0.9517 | Recall: 0.9510 | F1: 0.9502\n",
      "Val   -- Loss: 0.1979 | Precision: 0.9252 | Recall: 0.9272 | F1: 0.9246\n",
      "Devel -- Loss: 0.8037 | Precision: 0.7958 | Recall: 0.8156 | F1: 0.7934\n",
      "Test  -- Loss: 0.9870 | Precision: 0.7474 | Recall: 0.7919 | F1: 0.7597\n",
      "Time Elapsed: 0:02:30.240742, Time Remaining: 1:55:11.074132 \n",
      "\n",
      "Epoch 105/150\n"
     ]
    },
    {
     "name": "stderr",
     "output_type": "stream",
     "text": [
      "100%|██████████| 103/103 [02:10<00:00,  1.27s/it]\n",
      "100%|██████████| 12/12 [00:07<00:00,  1.68it/s]\n",
      "100%|██████████| 7/7 [00:04<00:00,  1.65it/s]\n",
      "100%|██████████| 15/15 [00:08<00:00,  1.69it/s]\n"
     ]
    },
    {
     "name": "stdout",
     "output_type": "stream",
     "text": [
      "Train -- Loss: 0.0284 | Precision: 0.9518 | Recall: 0.9511 | F1: 0.9502\n",
      "Val   -- Loss: 0.2081 | Precision: 0.9233 | Recall: 0.9273 | F1: 0.9231\n",
      "Devel -- Loss: 0.8380 | Precision: 0.7885 | Recall: 0.8149 | F1: 0.7914\n",
      "Test  -- Loss: 1.0118 | Precision: 0.7479 | Recall: 0.7921 | F1: 0.7603\n",
      "Time Elapsed: 0:02:30.631691, Time Remaining: 1:52:58.426095 \n",
      "\n",
      "Epoch 106/150\n"
     ]
    },
    {
     "name": "stderr",
     "output_type": "stream",
     "text": [
      "100%|██████████| 103/103 [02:10<00:00,  1.26s/it]\n",
      "100%|██████████| 12/12 [00:07<00:00,  1.71it/s]\n",
      "100%|██████████| 7/7 [00:04<00:00,  1.70it/s]\n",
      "100%|██████████| 15/15 [00:08<00:00,  1.68it/s]\n"
     ]
    },
    {
     "name": "stdout",
     "output_type": "stream",
     "text": [
      "Train -- Loss: 0.0281 | Precision: 0.9523 | Recall: 0.9516 | F1: 0.9506\n",
      "Val   -- Loss: 0.2015 | Precision: 0.9209 | Recall: 0.9240 | F1: 0.9213\n",
      "Devel -- Loss: 0.8058 | Precision: 0.7837 | Recall: 0.8115 | F1: 0.7886\n",
      "Test  -- Loss: 0.9944 | Precision: 0.7403 | Recall: 0.7901 | F1: 0.7576\n",
      "Time Elapsed: 0:02:30.124708, Time Remaining: 1:50:05.487152 \n",
      "\n",
      "Epoch 107/150\n"
     ]
    },
    {
     "name": "stderr",
     "output_type": "stream",
     "text": [
      "100%|██████████| 103/103 [02:10<00:00,  1.27s/it]\n",
      "100%|██████████| 12/12 [00:07<00:00,  1.69it/s]\n",
      "100%|██████████| 7/7 [00:04<00:00,  1.70it/s]\n",
      "100%|██████████| 15/15 [00:08<00:00,  1.70it/s]\n"
     ]
    },
    {
     "name": "stdout",
     "output_type": "stream",
     "text": [
      "Train -- Loss: 0.0279 | Precision: 0.9517 | Recall: 0.9509 | F1: 0.9502\n",
      "Val   -- Loss: 0.2075 | Precision: 0.9215 | Recall: 0.9242 | F1: 0.9221\n",
      "Devel -- Loss: 0.8505 | Precision: 0.7888 | Recall: 0.7976 | F1: 0.7848\n",
      "Test  -- Loss: 1.0196 | Precision: 0.7509 | Recall: 0.7727 | F1: 0.7555\n",
      "Time Elapsed: 0:02:30.950723, Time Remaining: 1:48:10.881089 \n",
      "\n",
      "Epoch 108/150\n"
     ]
    },
    {
     "name": "stderr",
     "output_type": "stream",
     "text": [
      "100%|██████████| 103/103 [02:09<00:00,  1.26s/it]\n",
      "100%|██████████| 12/12 [00:07<00:00,  1.70it/s]\n",
      "100%|██████████| 7/7 [00:04<00:00,  1.69it/s]\n",
      "100%|██████████| 15/15 [00:08<00:00,  1.71it/s]\n"
     ]
    },
    {
     "name": "stdout",
     "output_type": "stream",
     "text": [
      "Train -- Loss: 0.0276 | Precision: 0.9520 | Recall: 0.9518 | F1: 0.9508\n",
      "Val   -- Loss: 0.2050 | Precision: 0.9219 | Recall: 0.9235 | F1: 0.9218\n",
      "Devel -- Loss: 0.8348 | Precision: 0.7889 | Recall: 0.8027 | F1: 0.7863\n",
      "Test  -- Loss: 1.0164 | Precision: 0.7439 | Recall: 0.7855 | F1: 0.7579\n",
      "Time Elapsed: 0:02:29.761953, Time Remaining: 1:44:50.002026 \n",
      "\n",
      "Epoch 109/150\n"
     ]
    },
    {
     "name": "stderr",
     "output_type": "stream",
     "text": [
      "100%|██████████| 103/103 [02:10<00:00,  1.27s/it]\n",
      "100%|██████████| 12/12 [00:07<00:00,  1.66it/s]\n",
      "100%|██████████| 7/7 [00:04<00:00,  1.68it/s]\n",
      "100%|██████████| 15/15 [00:08<00:00,  1.70it/s]\n"
     ]
    },
    {
     "name": "stdout",
     "output_type": "stream",
     "text": [
      "Train -- Loss: 0.0283 | Precision: 0.9505 | Recall: 0.9501 | F1: 0.9492\n",
      "Val   -- Loss: 0.2054 | Precision: 0.9225 | Recall: 0.9257 | F1: 0.9224\n",
      "Devel -- Loss: 0.8088 | Precision: 0.7906 | Recall: 0.8160 | F1: 0.7915\n",
      "Test  -- Loss: 0.9750 | Precision: 0.7459 | Recall: 0.7984 | F1: 0.7630\n",
      "Time Elapsed: 0:02:30.720613, Time Remaining: 1:42:59.545133 \n",
      "\n",
      "Epoch 110/150\n"
     ]
    },
    {
     "name": "stderr",
     "output_type": "stream",
     "text": [
      "100%|██████████| 103/103 [02:10<00:00,  1.26s/it]\n",
      "100%|██████████| 12/12 [00:06<00:00,  1.72it/s]\n",
      "100%|██████████| 7/7 [00:04<00:00,  1.67it/s]\n",
      "100%|██████████| 15/15 [00:08<00:00,  1.69it/s]\n"
     ]
    },
    {
     "name": "stdout",
     "output_type": "stream",
     "text": [
      "Train -- Loss: 0.0289 | Precision: 0.9501 | Recall: 0.9492 | F1: 0.9483\n",
      "Val   -- Loss: 0.1998 | Precision: 0.9240 | Recall: 0.9238 | F1: 0.9230\n",
      "Devel -- Loss: 0.8043 | Precision: 0.7826 | Recall: 0.8064 | F1: 0.7858\n",
      "Test  -- Loss: 0.9604 | Precision: 0.7491 | Recall: 0.7942 | F1: 0.7634\n",
      "Time Elapsed: 0:02:30.227955, Time Remaining: 1:40:09.118200 \n",
      "\n",
      "Epoch 111/150\n"
     ]
    },
    {
     "name": "stderr",
     "output_type": "stream",
     "text": [
      "100%|██████████| 103/103 [02:10<00:00,  1.27s/it]\n",
      "100%|██████████| 12/12 [00:06<00:00,  1.72it/s]\n",
      "100%|██████████| 7/7 [00:04<00:00,  1.68it/s]\n",
      "100%|██████████| 15/15 [00:08<00:00,  1.67it/s]\n"
     ]
    },
    {
     "name": "stdout",
     "output_type": "stream",
     "text": [
      "Train -- Loss: 0.0288 | Precision: 0.9515 | Recall: 0.9503 | F1: 0.9495\n",
      "Val   -- Loss: 0.2009 | Precision: 0.9249 | Recall: 0.9224 | F1: 0.9230\n",
      "Devel -- Loss: 0.8272 | Precision: 0.7850 | Recall: 0.8018 | F1: 0.7869\n",
      "Test  -- Loss: 0.9895 | Precision: 0.7504 | Recall: 0.7866 | F1: 0.7621\n",
      "Time Elapsed: 0:02:30.478843, Time Remaining: 1:37:48.674877 \n",
      "\n",
      "Epoch 112/150\n"
     ]
    },
    {
     "name": "stderr",
     "output_type": "stream",
     "text": [
      "100%|██████████| 103/103 [02:10<00:00,  1.26s/it]\n",
      "100%|██████████| 12/12 [00:07<00:00,  1.70it/s]\n",
      "100%|██████████| 7/7 [00:04<00:00,  1.70it/s]\n",
      "100%|██████████| 15/15 [00:08<00:00,  1.69it/s]\n"
     ]
    },
    {
     "name": "stdout",
     "output_type": "stream",
     "text": [
      "Train -- Loss: 0.0281 | Precision: 0.9514 | Recall: 0.9506 | F1: 0.9499\n",
      "Val   -- Loss: 0.2150 | Precision: 0.9193 | Recall: 0.9225 | F1: 0.9195\n",
      "Devel -- Loss: 0.8770 | Precision: 0.7794 | Recall: 0.8024 | F1: 0.7838\n",
      "Test  -- Loss: 1.0003 | Precision: 0.7502 | Recall: 0.7846 | F1: 0.7603\n",
      "Time Elapsed: 0:02:30.227254, Time Remaining: 1:35:08.635652 \n",
      "\n",
      "Epoch 113/150\n"
     ]
    },
    {
     "name": "stderr",
     "output_type": "stream",
     "text": [
      "100%|██████████| 103/103 [02:09<00:00,  1.26s/it]\n",
      "100%|██████████| 12/12 [00:07<00:00,  1.71it/s]\n",
      "100%|██████████| 7/7 [00:04<00:00,  1.69it/s]\n",
      "100%|██████████| 15/15 [00:08<00:00,  1.71it/s]\n"
     ]
    },
    {
     "name": "stdout",
     "output_type": "stream",
     "text": [
      "Train -- Loss: 0.0284 | Precision: 0.9517 | Recall: 0.9506 | F1: 0.9497\n",
      "Val   -- Loss: 0.2066 | Precision: 0.9244 | Recall: 0.9238 | F1: 0.9233\n",
      "Devel -- Loss: 0.8381 | Precision: 0.7906 | Recall: 0.8064 | F1: 0.7904\n",
      "Test  -- Loss: 0.9942 | Precision: 0.7487 | Recall: 0.7773 | F1: 0.7566\n",
      "Time Elapsed: 0:02:29.978243, Time Remaining: 1:32:29.194991 \n",
      "\n",
      "Epoch 114/150\n"
     ]
    },
    {
     "name": "stderr",
     "output_type": "stream",
     "text": [
      "100%|██████████| 103/103 [02:10<00:00,  1.26s/it]\n",
      "100%|██████████| 12/12 [00:07<00:00,  1.69it/s]\n",
      "100%|██████████| 7/7 [00:04<00:00,  1.68it/s]\n",
      "100%|██████████| 15/15 [00:08<00:00,  1.69it/s]\n"
     ]
    },
    {
     "name": "stdout",
     "output_type": "stream",
     "text": [
      "Train -- Loss: 0.0292 | Precision: 0.9501 | Recall: 0.9490 | F1: 0.9482\n",
      "Val   -- Loss: 0.2025 | Precision: 0.9225 | Recall: 0.9248 | F1: 0.9224\n",
      "Devel -- Loss: 0.8514 | Precision: 0.7852 | Recall: 0.7957 | F1: 0.7826\n",
      "Test  -- Loss: 0.9789 | Precision: 0.7469 | Recall: 0.7791 | F1: 0.7560\n",
      "Time Elapsed: 0:02:30.242233, Time Remaining: 1:30:08.720388 \n",
      "\n",
      "Epoch 115/150\n"
     ]
    },
    {
     "name": "stderr",
     "output_type": "stream",
     "text": [
      "100%|██████████| 103/103 [02:10<00:00,  1.26s/it]\n",
      "100%|██████████| 12/12 [00:07<00:00,  1.71it/s]\n",
      "100%|██████████| 7/7 [00:04<00:00,  1.68it/s]\n",
      "100%|██████████| 15/15 [00:09<00:00,  1.65it/s]\n"
     ]
    },
    {
     "name": "stdout",
     "output_type": "stream",
     "text": [
      "Train -- Loss: 0.0285 | Precision: 0.9506 | Recall: 0.9501 | F1: 0.9490\n",
      "Val   -- Loss: 0.2095 | Precision: 0.9199 | Recall: 0.9238 | F1: 0.9204\n",
      "Devel -- Loss: 0.8222 | Precision: 0.7909 | Recall: 0.8119 | F1: 0.7919\n",
      "Test  -- Loss: 0.9675 | Precision: 0.7509 | Recall: 0.7920 | F1: 0.7620\n",
      "Time Elapsed: 0:02:30.490825, Time Remaining: 1:27:47.178875 \n",
      "\n",
      "Epoch 116/150\n"
     ]
    },
    {
     "name": "stderr",
     "output_type": "stream",
     "text": [
      "100%|██████████| 103/103 [02:10<00:00,  1.27s/it]\n",
      "100%|██████████| 12/12 [00:06<00:00,  1.72it/s]\n",
      "100%|██████████| 7/7 [00:04<00:00,  1.70it/s]\n",
      "100%|██████████| 15/15 [00:08<00:00,  1.70it/s]\n"
     ]
    },
    {
     "name": "stdout",
     "output_type": "stream",
     "text": [
      "Train -- Loss: 0.0283 | Precision: 0.9524 | Recall: 0.9513 | F1: 0.9506\n",
      "Val   -- Loss: 0.2153 | Precision: 0.9202 | Recall: 0.9244 | F1: 0.9208\n",
      "Devel -- Loss: 0.8338 | Precision: 0.7924 | Recall: 0.8156 | F1: 0.7921\n",
      "Test  -- Loss: 0.9849 | Precision: 0.7474 | Recall: 0.7922 | F1: 0.7597\n",
      "Time Elapsed: 0:02:30.565577, Time Remaining: 1:25:19.229618 \n",
      "\n",
      "Epoch 117/150\n"
     ]
    },
    {
     "name": "stderr",
     "output_type": "stream",
     "text": [
      "100%|██████████| 103/103 [02:10<00:00,  1.26s/it]\n",
      "100%|██████████| 12/12 [00:07<00:00,  1.68it/s]\n",
      "100%|██████████| 7/7 [00:04<00:00,  1.66it/s]\n",
      "100%|██████████| 15/15 [00:08<00:00,  1.67it/s]\n"
     ]
    },
    {
     "name": "stdout",
     "output_type": "stream",
     "text": [
      "Train -- Loss: 0.0283 | Precision: 0.9516 | Recall: 0.9507 | F1: 0.9497\n",
      "Val   -- Loss: 0.2101 | Precision: 0.9228 | Recall: 0.9229 | F1: 0.9219\n",
      "Devel -- Loss: 0.8389 | Precision: 0.7926 | Recall: 0.8042 | F1: 0.7933\n",
      "Test  -- Loss: 0.9968 | Precision: 0.7498 | Recall: 0.7836 | F1: 0.7603\n",
      "Time Elapsed: 0:02:30.466059, Time Remaining: 1:22:45.379947 \n",
      "\n",
      "Epoch 118/150\n"
     ]
    },
    {
     "name": "stderr",
     "output_type": "stream",
     "text": [
      "100%|██████████| 103/103 [02:10<00:00,  1.26s/it]\n",
      "100%|██████████| 12/12 [00:07<00:00,  1.68it/s]\n",
      "100%|██████████| 7/7 [00:04<00:00,  1.65it/s]\n",
      "100%|██████████| 15/15 [00:08<00:00,  1.70it/s]\n"
     ]
    },
    {
     "name": "stdout",
     "output_type": "stream",
     "text": [
      "Train -- Loss: 0.0286 | Precision: 0.9519 | Recall: 0.9507 | F1: 0.9500\n",
      "Val   -- Loss: 0.1990 | Precision: 0.9198 | Recall: 0.9232 | F1: 0.9200\n",
      "Devel -- Loss: 0.8090 | Precision: 0.7834 | Recall: 0.8037 | F1: 0.7835\n",
      "Test  -- Loss: 0.9540 | Precision: 0.7498 | Recall: 0.7885 | F1: 0.7581\n",
      "Time Elapsed: 0:02:30.390745, Time Remaining: 1:20:12.503840 \n",
      "\n",
      "Epoch 119/150\n"
     ]
    },
    {
     "name": "stderr",
     "output_type": "stream",
     "text": [
      "100%|██████████| 103/103 [02:10<00:00,  1.27s/it]\n",
      "100%|██████████| 12/12 [00:07<00:00,  1.66it/s]\n",
      "100%|██████████| 7/7 [00:04<00:00,  1.66it/s]\n",
      "100%|██████████| 15/15 [00:08<00:00,  1.68it/s]\n"
     ]
    },
    {
     "name": "stdout",
     "output_type": "stream",
     "text": [
      "Train -- Loss: 0.0285 | Precision: 0.9503 | Recall: 0.9497 | F1: 0.9487\n",
      "Val   -- Loss: 0.2053 | Precision: 0.9220 | Recall: 0.9202 | F1: 0.9205\n",
      "Devel -- Loss: 0.8211 | Precision: 0.7832 | Recall: 0.7914 | F1: 0.7820\n",
      "Test  -- Loss: 0.9651 | Precision: 0.7458 | Recall: 0.7779 | F1: 0.7561\n",
      "Time Elapsed: 0:02:30.996962, Time Remaining: 1:18:00.905822 \n",
      "\n",
      "Epoch 120/150\n"
     ]
    },
    {
     "name": "stderr",
     "output_type": "stream",
     "text": [
      "100%|██████████| 103/103 [02:10<00:00,  1.27s/it]\n",
      "100%|██████████| 12/12 [00:07<00:00,  1.67it/s]\n",
      "100%|██████████| 7/7 [00:04<00:00,  1.67it/s]\n",
      "100%|██████████| 15/15 [00:08<00:00,  1.68it/s]\n"
     ]
    },
    {
     "name": "stdout",
     "output_type": "stream",
     "text": [
      "Train -- Loss: 0.0283 | Precision: 0.9514 | Recall: 0.9508 | F1: 0.9497\n",
      "Val   -- Loss: 0.2075 | Precision: 0.9230 | Recall: 0.9248 | F1: 0.9226\n",
      "Devel -- Loss: 0.7998 | Precision: 0.7936 | Recall: 0.8113 | F1: 0.7899\n",
      "Test  -- Loss: 0.9509 | Precision: 0.7491 | Recall: 0.7960 | F1: 0.7607\n",
      "Time Elapsed: 0:02:30.871050, Time Remaining: 1:15:26.131500 \n",
      "\n",
      "Epoch 121/150\n"
     ]
    },
    {
     "name": "stderr",
     "output_type": "stream",
     "text": [
      "100%|██████████| 103/103 [02:10<00:00,  1.27s/it]\n",
      "100%|██████████| 12/12 [00:07<00:00,  1.66it/s]\n",
      "100%|██████████| 7/7 [00:04<00:00,  1.64it/s]\n",
      "100%|██████████| 15/15 [00:09<00:00,  1.64it/s]\n"
     ]
    },
    {
     "name": "stdout",
     "output_type": "stream",
     "text": [
      "Train -- Loss: 0.0281 | Precision: 0.9518 | Recall: 0.9512 | F1: 0.9502\n",
      "Val   -- Loss: 0.2052 | Precision: 0.9206 | Recall: 0.9250 | F1: 0.9214\n",
      "Devel -- Loss: 0.8101 | Precision: 0.7855 | Recall: 0.8149 | F1: 0.7895\n",
      "Test  -- Loss: 0.9642 | Precision: 0.7444 | Recall: 0.7927 | F1: 0.7601\n",
      "Time Elapsed: 0:02:31.139439, Time Remaining: 1:13:03.043731 \n",
      "\n",
      "Epoch 122/150\n"
     ]
    },
    {
     "name": "stderr",
     "output_type": "stream",
     "text": [
      "100%|██████████| 103/103 [02:10<00:00,  1.27s/it]\n",
      "100%|██████████| 12/12 [00:07<00:00,  1.69it/s]\n",
      "100%|██████████| 7/7 [00:04<00:00,  1.66it/s]\n",
      "100%|██████████| 15/15 [00:08<00:00,  1.68it/s]\n"
     ]
    },
    {
     "name": "stdout",
     "output_type": "stream",
     "text": [
      "Train -- Loss: 0.0275 | Precision: 0.9521 | Recall: 0.9511 | F1: 0.9502\n",
      "Val   -- Loss: 0.2119 | Precision: 0.9191 | Recall: 0.9231 | F1: 0.9200\n",
      "Devel -- Loss: 0.8226 | Precision: 0.7906 | Recall: 0.8184 | F1: 0.7937\n",
      "Test  -- Loss: 0.9740 | Precision: 0.7439 | Recall: 0.7918 | F1: 0.7582\n",
      "Time Elapsed: 0:02:30.677899, Time Remaining: 1:10:18.981172 \n",
      "\n",
      "Epoch 123/150\n"
     ]
    },
    {
     "name": "stderr",
     "output_type": "stream",
     "text": [
      "100%|██████████| 103/103 [02:10<00:00,  1.27s/it]\n",
      "100%|██████████| 12/12 [00:07<00:00,  1.70it/s]\n",
      "100%|██████████| 7/7 [00:04<00:00,  1.67it/s]\n",
      "100%|██████████| 15/15 [00:09<00:00,  1.66it/s]\n"
     ]
    },
    {
     "name": "stdout",
     "output_type": "stream",
     "text": [
      "Train -- Loss: 0.0279 | Precision: 0.9517 | Recall: 0.9507 | F1: 0.9497\n",
      "Val   -- Loss: 0.2222 | Precision: 0.9215 | Recall: 0.9227 | F1: 0.9215\n",
      "Devel -- Loss: 0.8569 | Precision: 0.7890 | Recall: 0.8086 | F1: 0.7893\n",
      "Test  -- Loss: 1.0019 | Precision: 0.7508 | Recall: 0.7883 | F1: 0.7608\n",
      "Time Elapsed: 0:02:30.636121, Time Remaining: 1:07:47.175267 \n",
      "\n",
      "Epoch 124/150\n"
     ]
    },
    {
     "name": "stderr",
     "output_type": "stream",
     "text": [
      "100%|██████████| 103/103 [02:10<00:00,  1.26s/it]\n",
      "100%|██████████| 12/12 [00:07<00:00,  1.71it/s]\n",
      "100%|██████████| 7/7 [00:04<00:00,  1.68it/s]\n",
      "100%|██████████| 15/15 [00:08<00:00,  1.69it/s]\n"
     ]
    },
    {
     "name": "stdout",
     "output_type": "stream",
     "text": [
      "Train -- Loss: 0.0281 | Precision: 0.9513 | Recall: 0.9500 | F1: 0.9491\n",
      "Val   -- Loss: 0.2206 | Precision: 0.9207 | Recall: 0.9220 | F1: 0.9205\n",
      "Devel -- Loss: 0.8329 | Precision: 0.7906 | Recall: 0.8150 | F1: 0.7932\n",
      "Test  -- Loss: 0.9745 | Precision: 0.7479 | Recall: 0.7949 | F1: 0.7630\n",
      "Time Elapsed: 0:02:30.247411, Time Remaining: 1:05:06.432686 \n",
      "\n",
      "Epoch 125/150\n"
     ]
    },
    {
     "name": "stderr",
     "output_type": "stream",
     "text": [
      "100%|██████████| 103/103 [02:10<00:00,  1.26s/it]\n",
      "100%|██████████| 12/12 [00:07<00:00,  1.70it/s]\n",
      "100%|██████████| 7/7 [00:04<00:00,  1.66it/s]\n",
      "100%|██████████| 15/15 [00:08<00:00,  1.68it/s]\n"
     ]
    },
    {
     "name": "stdout",
     "output_type": "stream",
     "text": [
      "Train -- Loss: 0.0273 | Precision: 0.9510 | Recall: 0.9504 | F1: 0.9495\n",
      "Val   -- Loss: 0.2121 | Precision: 0.9211 | Recall: 0.9242 | F1: 0.9216\n",
      "Devel -- Loss: 0.8326 | Precision: 0.7895 | Recall: 0.8121 | F1: 0.7906\n",
      "Test  -- Loss: 0.9754 | Precision: 0.7563 | Recall: 0.7899 | F1: 0.7617\n",
      "Time Elapsed: 0:02:30.291930, Time Remaining: 1:02:37.298250 \n",
      "\n",
      "Epoch 126/150\n"
     ]
    },
    {
     "name": "stderr",
     "output_type": "stream",
     "text": [
      "100%|██████████| 103/103 [02:10<00:00,  1.26s/it]\n",
      "100%|██████████| 12/12 [00:07<00:00,  1.69it/s]\n",
      "100%|██████████| 7/7 [00:04<00:00,  1.68it/s]\n",
      "100%|██████████| 15/15 [00:08<00:00,  1.68it/s]\n"
     ]
    },
    {
     "name": "stdout",
     "output_type": "stream",
     "text": [
      "Train -- Loss: 0.0276 | Precision: 0.9528 | Recall: 0.9519 | F1: 0.9509\n",
      "Val   -- Loss: 0.2083 | Precision: 0.9233 | Recall: 0.9232 | F1: 0.9225\n",
      "Devel -- Loss: 0.8319 | Precision: 0.7843 | Recall: 0.8043 | F1: 0.7893\n",
      "Test  -- Loss: 0.9772 | Precision: 0.7515 | Recall: 0.7868 | F1: 0.7611\n",
      "Time Elapsed: 0:02:30.241411, Time Remaining: 1:00:05.793864 \n",
      "\n",
      "Epoch 127/150\n"
     ]
    },
    {
     "name": "stderr",
     "output_type": "stream",
     "text": [
      "100%|██████████| 103/103 [02:10<00:00,  1.26s/it]\n",
      "100%|██████████| 12/12 [00:07<00:00,  1.70it/s]\n",
      "100%|██████████| 7/7 [00:04<00:00,  1.69it/s]\n",
      "100%|██████████| 15/15 [00:08<00:00,  1.71it/s]\n"
     ]
    },
    {
     "name": "stdout",
     "output_type": "stream",
     "text": [
      "Train -- Loss: 0.0279 | Precision: 0.9532 | Recall: 0.9521 | F1: 0.9513\n",
      "Val   -- Loss: 0.2251 | Precision: 0.9203 | Recall: 0.9225 | F1: 0.9204\n",
      "Devel -- Loss: 0.8537 | Precision: 0.7894 | Recall: 0.8112 | F1: 0.7920\n",
      "Test  -- Loss: 0.9919 | Precision: 0.7462 | Recall: 0.7861 | F1: 0.7575\n",
      "Time Elapsed: 0:02:30.068341, Time Remaining: 0:57:31.571843 \n",
      "\n",
      "Epoch 128/150\n"
     ]
    },
    {
     "name": "stderr",
     "output_type": "stream",
     "text": [
      "100%|██████████| 103/103 [02:10<00:00,  1.26s/it]\n",
      "100%|██████████| 12/12 [00:07<00:00,  1.70it/s]\n",
      "100%|██████████| 7/7 [00:04<00:00,  1.70it/s]\n",
      "100%|██████████| 15/15 [00:08<00:00,  1.70it/s]\n"
     ]
    },
    {
     "name": "stdout",
     "output_type": "stream",
     "text": [
      "Train -- Loss: 0.0275 | Precision: 0.9528 | Recall: 0.9518 | F1: 0.9510\n",
      "Val   -- Loss: 0.2136 | Precision: 0.9192 | Recall: 0.9219 | F1: 0.9197\n",
      "Devel -- Loss: 0.8058 | Precision: 0.7914 | Recall: 0.8172 | F1: 0.7931\n",
      "Test  -- Loss: 0.9816 | Precision: 0.7419 | Recall: 0.7963 | F1: 0.7607\n",
      "Time Elapsed: 0:02:30.156653, Time Remaining: 0:55:03.446366 \n",
      "\n",
      "Epoch 129/150\n"
     ]
    },
    {
     "name": "stderr",
     "output_type": "stream",
     "text": [
      "100%|██████████| 103/103 [02:09<00:00,  1.26s/it]\n",
      "100%|██████████| 12/12 [00:07<00:00,  1.69it/s]\n",
      "100%|██████████| 7/7 [00:04<00:00,  1.67it/s]\n",
      "100%|██████████| 15/15 [00:08<00:00,  1.70it/s]\n"
     ]
    },
    {
     "name": "stdout",
     "output_type": "stream",
     "text": [
      "Train -- Loss: 0.0271 | Precision: 0.9516 | Recall: 0.9509 | F1: 0.9501\n",
      "Val   -- Loss: 0.2285 | Precision: 0.9198 | Recall: 0.9202 | F1: 0.9193\n",
      "Devel -- Loss: 0.8476 | Precision: 0.7841 | Recall: 0.8002 | F1: 0.7847\n",
      "Test  -- Loss: 1.0140 | Precision: 0.7477 | Recall: 0.7796 | F1: 0.7568\n",
      "Time Elapsed: 0:02:30.126323, Time Remaining: 0:52:32.652783 \n",
      "\n",
      "Epoch 130/150\n"
     ]
    },
    {
     "name": "stderr",
     "output_type": "stream",
     "text": [
      "100%|██████████| 103/103 [02:10<00:00,  1.26s/it]\n",
      "100%|██████████| 12/12 [00:07<00:00,  1.69it/s]\n",
      "100%|██████████| 7/7 [00:04<00:00,  1.66it/s]\n",
      "100%|██████████| 15/15 [00:08<00:00,  1.69it/s]\n"
     ]
    },
    {
     "name": "stdout",
     "output_type": "stream",
     "text": [
      "Train -- Loss: 0.0277 | Precision: 0.9513 | Recall: 0.9500 | F1: 0.9492\n",
      "Val   -- Loss: 0.2163 | Precision: 0.9242 | Recall: 0.9216 | F1: 0.9220\n",
      "Devel -- Loss: 0.7993 | Precision: 0.7887 | Recall: 0.8060 | F1: 0.7917\n",
      "Test  -- Loss: 0.9772 | Precision: 0.7483 | Recall: 0.7797 | F1: 0.7558\n",
      "Time Elapsed: 0:02:30.302154, Time Remaining: 0:50:06.043080 \n",
      "\n",
      "Epoch 131/150\n"
     ]
    },
    {
     "name": "stderr",
     "output_type": "stream",
     "text": [
      "100%|██████████| 103/103 [02:10<00:00,  1.26s/it]\n",
      "100%|██████████| 12/12 [00:07<00:00,  1.69it/s]\n",
      "100%|██████████| 7/7 [00:04<00:00,  1.67it/s]\n",
      "100%|██████████| 15/15 [00:08<00:00,  1.69it/s]\n"
     ]
    },
    {
     "name": "stdout",
     "output_type": "stream",
     "text": [
      "Train -- Loss: 0.0273 | Precision: 0.9524 | Recall: 0.9514 | F1: 0.9506\n",
      "Val   -- Loss: 0.2222 | Precision: 0.9214 | Recall: 0.9247 | F1: 0.9215\n",
      "Devel -- Loss: 0.8104 | Precision: 0.7872 | Recall: 0.8216 | F1: 0.7936\n",
      "Test  -- Loss: 0.9924 | Precision: 0.7492 | Recall: 0.7984 | F1: 0.7624\n",
      "Time Elapsed: 0:02:30.182871, Time Remaining: 0:47:33.474549 \n",
      "\n",
      "Epoch 132/150\n"
     ]
    },
    {
     "name": "stderr",
     "output_type": "stream",
     "text": [
      "100%|██████████| 103/103 [02:10<00:00,  1.26s/it]\n",
      "100%|██████████| 12/12 [00:07<00:00,  1.68it/s]\n",
      "100%|██████████| 7/7 [00:04<00:00,  1.67it/s]\n",
      "100%|██████████| 15/15 [00:08<00:00,  1.70it/s]\n"
     ]
    },
    {
     "name": "stdout",
     "output_type": "stream",
     "text": [
      "Train -- Loss: 0.0275 | Precision: 0.9523 | Recall: 0.9518 | F1: 0.9508\n",
      "Val   -- Loss: 0.2300 | Precision: 0.9204 | Recall: 0.9228 | F1: 0.9206\n",
      "Devel -- Loss: 0.8217 | Precision: 0.8003 | Recall: 0.8184 | F1: 0.7968\n",
      "Test  -- Loss: 0.9900 | Precision: 0.7457 | Recall: 0.7929 | F1: 0.7606\n",
      "Time Elapsed: 0:02:30.309510, Time Remaining: 0:45:05.571180 \n",
      "\n",
      "Epoch 133/150\n"
     ]
    },
    {
     "name": "stderr",
     "output_type": "stream",
     "text": [
      "100%|██████████| 103/103 [02:09<00:00,  1.26s/it]\n",
      "100%|██████████| 12/12 [00:07<00:00,  1.69it/s]\n",
      "100%|██████████| 7/7 [00:04<00:00,  1.67it/s]\n",
      "100%|██████████| 15/15 [00:08<00:00,  1.70it/s]\n"
     ]
    },
    {
     "name": "stdout",
     "output_type": "stream",
     "text": [
      "Train -- Loss: 0.0283 | Precision: 0.9512 | Recall: 0.9501 | F1: 0.9494\n",
      "Val   -- Loss: 0.2115 | Precision: 0.9233 | Recall: 0.9257 | F1: 0.9230\n",
      "Devel -- Loss: 0.8022 | Precision: 0.7859 | Recall: 0.8139 | F1: 0.7918\n",
      "Test  -- Loss: 0.9679 | Precision: 0.7510 | Recall: 0.7921 | F1: 0.7624\n",
      "Time Elapsed: 0:02:30.113658, Time Remaining: 0:42:31.932186 \n",
      "\n",
      "Epoch 134/150\n"
     ]
    },
    {
     "name": "stderr",
     "output_type": "stream",
     "text": [
      "100%|██████████| 103/103 [02:09<00:00,  1.26s/it]\n",
      "100%|██████████| 12/12 [00:06<00:00,  1.72it/s]\n",
      "100%|██████████| 7/7 [00:04<00:00,  1.67it/s]\n",
      "100%|██████████| 15/15 [00:08<00:00,  1.70it/s]\n"
     ]
    },
    {
     "name": "stdout",
     "output_type": "stream",
     "text": [
      "Train -- Loss: 0.0284 | Precision: 0.9510 | Recall: 0.9504 | F1: 0.9493\n",
      "Val   -- Loss: 0.2133 | Precision: 0.9218 | Recall: 0.9230 | F1: 0.9215\n",
      "Devel -- Loss: 0.8281 | Precision: 0.7939 | Recall: 0.8119 | F1: 0.7938\n",
      "Test  -- Loss: 0.9855 | Precision: 0.7438 | Recall: 0.7871 | F1: 0.7587\n",
      "Time Elapsed: 0:02:29.999884, Time Remaining: 0:39:59.998144 \n",
      "\n",
      "Epoch 135/150\n"
     ]
    },
    {
     "name": "stderr",
     "output_type": "stream",
     "text": [
      "100%|██████████| 103/103 [02:09<00:00,  1.26s/it]\n",
      "100%|██████████| 12/12 [00:07<00:00,  1.71it/s]\n",
      "100%|██████████| 7/7 [00:04<00:00,  1.70it/s]\n",
      "100%|██████████| 15/15 [00:08<00:00,  1.70it/s]\n"
     ]
    },
    {
     "name": "stdout",
     "output_type": "stream",
     "text": [
      "Train -- Loss: 0.0275 | Precision: 0.9514 | Recall: 0.9502 | F1: 0.9496\n",
      "Val   -- Loss: 0.2280 | Precision: 0.9202 | Recall: 0.9241 | F1: 0.9210\n",
      "Devel -- Loss: 0.8363 | Precision: 0.7959 | Recall: 0.8183 | F1: 0.7961\n",
      "Test  -- Loss: 1.0138 | Precision: 0.7496 | Recall: 0.7886 | F1: 0.7615\n",
      "Time Elapsed: 0:02:29.849486, Time Remaining: 0:37:27.742290 \n",
      "\n",
      "Epoch 136/150\n"
     ]
    },
    {
     "name": "stderr",
     "output_type": "stream",
     "text": [
      "100%|██████████| 103/103 [02:09<00:00,  1.26s/it]\n",
      "100%|██████████| 12/12 [00:07<00:00,  1.71it/s]\n",
      "100%|██████████| 7/7 [00:04<00:00,  1.65it/s]\n",
      "100%|██████████| 15/15 [00:08<00:00,  1.68it/s]\n"
     ]
    },
    {
     "name": "stdout",
     "output_type": "stream",
     "text": [
      "Train -- Loss: 0.0281 | Precision: 0.9522 | Recall: 0.9513 | F1: 0.9501\n",
      "Val   -- Loss: 0.2295 | Precision: 0.9265 | Recall: 0.9289 | F1: 0.9249\n",
      "Devel -- Loss: 0.8453 | Precision: 0.7949 | Recall: 0.8177 | F1: 0.7942\n",
      "Test  -- Loss: 0.9924 | Precision: 0.7472 | Recall: 0.7925 | F1: 0.7595\n",
      "Time Elapsed: 0:02:30.080563, Time Remaining: 0:35:01.127882 \n",
      "\n",
      "Epoch 137/150\n"
     ]
    },
    {
     "name": "stderr",
     "output_type": "stream",
     "text": [
      "100%|██████████| 103/103 [02:10<00:00,  1.26s/it]\n",
      "100%|██████████| 12/12 [00:07<00:00,  1.70it/s]\n",
      "100%|██████████| 7/7 [00:04<00:00,  1.69it/s]\n",
      "100%|██████████| 15/15 [00:08<00:00,  1.70it/s]\n"
     ]
    },
    {
     "name": "stdout",
     "output_type": "stream",
     "text": [
      "Train -- Loss: 0.0275 | Precision: 0.9530 | Recall: 0.9519 | F1: 0.9509\n",
      "Val   -- Loss: 0.2223 | Precision: 0.9198 | Recall: 0.9209 | F1: 0.9198\n",
      "Devel -- Loss: 0.8138 | Precision: 0.7892 | Recall: 0.8095 | F1: 0.7930\n",
      "Test  -- Loss: 0.9782 | Precision: 0.7462 | Recall: 0.7864 | F1: 0.7597\n",
      "Time Elapsed: 0:02:30.157750, Time Remaining: 0:32:32.050750 \n",
      "\n",
      "Epoch 138/150\n"
     ]
    },
    {
     "name": "stderr",
     "output_type": "stream",
     "text": [
      "100%|██████████| 103/103 [02:10<00:00,  1.26s/it]\n",
      "100%|██████████| 12/12 [00:07<00:00,  1.69it/s]\n",
      "100%|██████████| 7/7 [00:04<00:00,  1.69it/s]\n",
      "100%|██████████| 15/15 [00:08<00:00,  1.71it/s]\n"
     ]
    },
    {
     "name": "stdout",
     "output_type": "stream",
     "text": [
      "Train -- Loss: 0.0277 | Precision: 0.9522 | Recall: 0.9513 | F1: 0.9505\n",
      "Val   -- Loss: 0.2208 | Precision: 0.9227 | Recall: 0.9243 | F1: 0.9224\n",
      "Devel -- Loss: 0.8205 | Precision: 0.7904 | Recall: 0.8127 | F1: 0.7923\n",
      "Test  -- Loss: 0.9777 | Precision: 0.7489 | Recall: 0.7928 | F1: 0.7624\n",
      "Time Elapsed: 0:02:30.065183, Time Remaining: 0:30:00.782196 \n",
      "\n",
      "Epoch 139/150\n"
     ]
    },
    {
     "name": "stderr",
     "output_type": "stream",
     "text": [
      "100%|██████████| 103/103 [02:10<00:00,  1.26s/it]\n",
      "100%|██████████| 12/12 [00:07<00:00,  1.71it/s]\n",
      "100%|██████████| 7/7 [00:04<00:00,  1.68it/s]\n",
      "100%|██████████| 15/15 [00:08<00:00,  1.70it/s]\n"
     ]
    },
    {
     "name": "stdout",
     "output_type": "stream",
     "text": [
      "Train -- Loss: 0.0274 | Precision: 0.9522 | Recall: 0.9517 | F1: 0.9509\n",
      "Val   -- Loss: 0.2276 | Precision: 0.9219 | Recall: 0.9247 | F1: 0.9216\n",
      "Devel -- Loss: 0.8387 | Precision: 0.7869 | Recall: 0.8128 | F1: 0.7901\n",
      "Test  -- Loss: 0.9716 | Precision: 0.7480 | Recall: 0.7937 | F1: 0.7617\n",
      "Time Elapsed: 0:02:30.185534, Time Remaining: 0:27:32.040874 \n",
      "\n",
      "Epoch 140/150\n"
     ]
    },
    {
     "name": "stderr",
     "output_type": "stream",
     "text": [
      "100%|██████████| 103/103 [02:10<00:00,  1.26s/it]\n",
      "100%|██████████| 12/12 [00:07<00:00,  1.70it/s]\n",
      "100%|██████████| 7/7 [00:04<00:00,  1.67it/s]\n",
      "100%|██████████| 15/15 [00:08<00:00,  1.67it/s]\n"
     ]
    },
    {
     "name": "stdout",
     "output_type": "stream",
     "text": [
      "Train -- Loss: 0.0280 | Precision: 0.9522 | Recall: 0.9513 | F1: 0.9503\n",
      "Val   -- Loss: 0.2306 | Precision: 0.9197 | Recall: 0.9229 | F1: 0.9201\n",
      "Devel -- Loss: 0.8491 | Precision: 0.7905 | Recall: 0.8112 | F1: 0.7924\n",
      "Test  -- Loss: 0.9899 | Precision: 0.7502 | Recall: 0.7908 | F1: 0.7633\n",
      "Time Elapsed: 0:02:30.525510, Time Remaining: 0:25:05.255100 \n",
      "\n",
      "Epoch 141/150\n"
     ]
    },
    {
     "name": "stderr",
     "output_type": "stream",
     "text": [
      "100%|██████████| 103/103 [02:10<00:00,  1.27s/it]\n",
      "100%|██████████| 12/12 [00:07<00:00,  1.66it/s]\n",
      "100%|██████████| 7/7 [00:04<00:00,  1.65it/s]\n",
      "100%|██████████| 15/15 [00:08<00:00,  1.67it/s]\n"
     ]
    },
    {
     "name": "stdout",
     "output_type": "stream",
     "text": [
      "Train -- Loss: 0.0272 | Precision: 0.9529 | Recall: 0.9520 | F1: 0.9511\n",
      "Val   -- Loss: 0.2253 | Precision: 0.9224 | Recall: 0.9206 | F1: 0.9206\n",
      "Devel -- Loss: 0.8571 | Precision: 0.7862 | Recall: 0.7994 | F1: 0.7858\n",
      "Test  -- Loss: 1.0031 | Precision: 0.7503 | Recall: 0.7807 | F1: 0.7589\n",
      "Time Elapsed: 0:02:31.021179, Time Remaining: 0:22:39.190611 \n",
      "\n",
      "Epoch 142/150\n"
     ]
    },
    {
     "name": "stderr",
     "output_type": "stream",
     "text": [
      "100%|██████████| 103/103 [02:10<00:00,  1.26s/it]\n",
      "100%|██████████| 12/12 [00:07<00:00,  1.70it/s]\n",
      "100%|██████████| 7/7 [00:04<00:00,  1.67it/s]\n",
      "100%|██████████| 15/15 [00:08<00:00,  1.69it/s]\n"
     ]
    },
    {
     "name": "stdout",
     "output_type": "stream",
     "text": [
      "Train -- Loss: 0.0276 | Precision: 0.9511 | Recall: 0.9504 | F1: 0.9495\n",
      "Val   -- Loss: 0.2203 | Precision: 0.9214 | Recall: 0.9230 | F1: 0.9212\n",
      "Devel -- Loss: 0.8239 | Precision: 0.7887 | Recall: 0.8071 | F1: 0.7903\n",
      "Test  -- Loss: 0.9940 | Precision: 0.7492 | Recall: 0.7871 | F1: 0.7607\n",
      "Time Elapsed: 0:02:30.386659, Time Remaining: 0:20:03.093272 \n",
      "\n",
      "Epoch 143/150\n"
     ]
    },
    {
     "name": "stderr",
     "output_type": "stream",
     "text": [
      "100%|██████████| 103/103 [02:10<00:00,  1.27s/it]\n",
      "100%|██████████| 12/12 [00:07<00:00,  1.70it/s]\n",
      "100%|██████████| 7/7 [00:04<00:00,  1.68it/s]\n",
      "100%|██████████| 15/15 [00:08<00:00,  1.69it/s]\n"
     ]
    },
    {
     "name": "stdout",
     "output_type": "stream",
     "text": [
      "Train -- Loss: 0.0276 | Precision: 0.9526 | Recall: 0.9516 | F1: 0.9508\n",
      "Val   -- Loss: 0.2345 | Precision: 0.9222 | Recall: 0.9226 | F1: 0.9218\n",
      "Devel -- Loss: 0.8568 | Precision: 0.7934 | Recall: 0.8065 | F1: 0.7923\n",
      "Test  -- Loss: 1.0031 | Precision: 0.7490 | Recall: 0.7806 | F1: 0.7589\n",
      "Time Elapsed: 0:02:30.416852, Time Remaining: 0:17:32.917964 \n",
      "\n",
      "Epoch 144/150\n"
     ]
    },
    {
     "name": "stderr",
     "output_type": "stream",
     "text": [
      "100%|██████████| 103/103 [02:10<00:00,  1.26s/it]\n",
      "100%|██████████| 12/12 [00:07<00:00,  1.68it/s]\n",
      "100%|██████████| 7/7 [00:04<00:00,  1.69it/s]\n",
      "100%|██████████| 15/15 [00:08<00:00,  1.72it/s]\n"
     ]
    },
    {
     "name": "stdout",
     "output_type": "stream",
     "text": [
      "Train -- Loss: 0.0277 | Precision: 0.9521 | Recall: 0.9510 | F1: 0.9503\n",
      "Val   -- Loss: 0.2326 | Precision: 0.9201 | Recall: 0.9223 | F1: 0.9204\n",
      "Devel -- Loss: 0.8378 | Precision: 0.7863 | Recall: 0.8071 | F1: 0.7898\n",
      "Test  -- Loss: 1.0049 | Precision: 0.7411 | Recall: 0.7879 | F1: 0.7582\n",
      "Time Elapsed: 0:02:30.092489, Time Remaining: 0:15:00.554934 \n",
      "\n",
      "Epoch 145/150\n"
     ]
    },
    {
     "name": "stderr",
     "output_type": "stream",
     "text": [
      "100%|██████████| 103/103 [02:10<00:00,  1.26s/it]\n",
      "100%|██████████| 12/12 [00:07<00:00,  1.70it/s]\n",
      "100%|██████████| 7/7 [00:04<00:00,  1.67it/s]\n",
      "100%|██████████| 15/15 [00:09<00:00,  1.66it/s]\n"
     ]
    },
    {
     "name": "stdout",
     "output_type": "stream",
     "text": [
      "Train -- Loss: 0.0279 | Precision: 0.9513 | Recall: 0.9503 | F1: 0.9492\n",
      "Val   -- Loss: 0.2252 | Precision: 0.9211 | Recall: 0.9247 | F1: 0.9214\n",
      "Devel -- Loss: 0.8517 | Precision: 0.7882 | Recall: 0.8077 | F1: 0.7881\n",
      "Test  -- Loss: 1.0184 | Precision: 0.7460 | Recall: 0.7793 | F1: 0.7554\n",
      "Time Elapsed: 0:02:30.527309, Time Remaining: 0:12:32.636545 \n",
      "\n",
      "Epoch 146/150\n"
     ]
    },
    {
     "name": "stderr",
     "output_type": "stream",
     "text": [
      "100%|██████████| 103/103 [02:09<00:00,  1.26s/it]\n",
      "100%|██████████| 12/12 [00:07<00:00,  1.71it/s]\n",
      "100%|██████████| 7/7 [00:04<00:00,  1.70it/s]\n",
      "100%|██████████| 15/15 [00:08<00:00,  1.69it/s]\n"
     ]
    },
    {
     "name": "stdout",
     "output_type": "stream",
     "text": [
      "Train -- Loss: 0.0270 | Precision: 0.9528 | Recall: 0.9522 | F1: 0.9513\n",
      "Val   -- Loss: 0.2337 | Precision: 0.9236 | Recall: 0.9256 | F1: 0.9234\n",
      "Devel -- Loss: 0.8341 | Precision: 0.7885 | Recall: 0.8068 | F1: 0.7885\n",
      "Test  -- Loss: 1.0042 | Precision: 0.7490 | Recall: 0.7811 | F1: 0.7558\n",
      "Time Elapsed: 0:02:29.960075, Time Remaining: 0:09:59.840300 \n",
      "\n",
      "Epoch 147/150\n"
     ]
    },
    {
     "name": "stderr",
     "output_type": "stream",
     "text": [
      "100%|██████████| 103/103 [02:10<00:00,  1.26s/it]\n",
      "100%|██████████| 12/12 [00:07<00:00,  1.71it/s]\n",
      "100%|██████████| 7/7 [00:04<00:00,  1.69it/s]\n",
      "100%|██████████| 15/15 [00:08<00:00,  1.71it/s]\n"
     ]
    },
    {
     "name": "stdout",
     "output_type": "stream",
     "text": [
      "Train -- Loss: 0.0276 | Precision: 0.9507 | Recall: 0.9499 | F1: 0.9489\n",
      "Val   -- Loss: 0.2258 | Precision: 0.9198 | Recall: 0.9226 | F1: 0.9200\n",
      "Devel -- Loss: 0.8163 | Precision: 0.7931 | Recall: 0.8167 | F1: 0.7928\n",
      "Test  -- Loss: 0.9667 | Precision: 0.7511 | Recall: 0.7961 | F1: 0.7637\n",
      "Time Elapsed: 0:02:30.043453, Time Remaining: 0:07:30.130359 \n",
      "\n",
      "Epoch 148/150\n"
     ]
    },
    {
     "name": "stderr",
     "output_type": "stream",
     "text": [
      "100%|██████████| 103/103 [02:09<00:00,  1.26s/it]\n",
      "100%|██████████| 12/12 [00:07<00:00,  1.70it/s]\n",
      "100%|██████████| 7/7 [00:04<00:00,  1.69it/s]\n",
      "100%|██████████| 15/15 [00:08<00:00,  1.71it/s]\n"
     ]
    },
    {
     "name": "stdout",
     "output_type": "stream",
     "text": [
      "Train -- Loss: 0.0275 | Precision: 0.9521 | Recall: 0.9516 | F1: 0.9506\n",
      "Val   -- Loss: 0.2405 | Precision: 0.9214 | Recall: 0.9242 | F1: 0.9217\n",
      "Devel -- Loss: 0.8618 | Precision: 0.7921 | Recall: 0.8121 | F1: 0.7942\n",
      "Test  -- Loss: 1.0210 | Precision: 0.7524 | Recall: 0.7854 | F1: 0.7598\n",
      "Time Elapsed: 0:02:29.946880, Time Remaining: 0:04:59.893760 \n",
      "\n",
      "Epoch 149/150\n"
     ]
    },
    {
     "name": "stderr",
     "output_type": "stream",
     "text": [
      "100%|██████████| 103/103 [02:10<00:00,  1.26s/it]\n",
      "100%|██████████| 12/12 [00:07<00:00,  1.70it/s]\n",
      "100%|██████████| 7/7 [00:04<00:00,  1.67it/s]\n",
      "100%|██████████| 15/15 [00:08<00:00,  1.71it/s]\n"
     ]
    },
    {
     "name": "stdout",
     "output_type": "stream",
     "text": [
      "Train -- Loss: 0.0273 | Precision: 0.9525 | Recall: 0.9518 | F1: 0.9509\n",
      "Val   -- Loss: 0.2415 | Precision: 0.9196 | Recall: 0.9233 | F1: 0.9200\n",
      "Devel -- Loss: 0.8452 | Precision: 0.7839 | Recall: 0.8148 | F1: 0.7921\n",
      "Test  -- Loss: 1.0235 | Precision: 0.7492 | Recall: 0.7884 | F1: 0.7598\n",
      "Time Elapsed: 0:02:30.086032, Time Remaining: 0:02:30.086032 \n",
      "\n",
      "Epoch 150/150\n"
     ]
    },
    {
     "name": "stderr",
     "output_type": "stream",
     "text": [
      "100%|██████████| 103/103 [02:10<00:00,  1.26s/it]\n",
      "100%|██████████| 12/12 [00:07<00:00,  1.70it/s]\n",
      "100%|██████████| 7/7 [00:04<00:00,  1.68it/s]\n",
      "100%|██████████| 15/15 [00:08<00:00,  1.68it/s]\n"
     ]
    },
    {
     "name": "stdout",
     "output_type": "stream",
     "text": [
      "Train -- Loss: 0.0272 | Precision: 0.9510 | Recall: 0.9506 | F1: 0.9495\n",
      "Val   -- Loss: 0.2427 | Precision: 0.9235 | Recall: 0.9219 | F1: 0.9220\n",
      "Devel -- Loss: 0.8518 | Precision: 0.7822 | Recall: 0.7994 | F1: 0.7849\n",
      "Test  -- Loss: 1.0268 | Precision: 0.7468 | Recall: 0.7752 | F1: 0.7549\n",
      "Time Elapsed: 0:02:30.451091, Time Remaining: 0:00:00 \n",
      "\n",
      "Best Model: Epoch 3, Best Validation Loss: 0.6823\n",
      "Path log file:  logs/training_log_BERT2_2023-12-07_09-52-24.txt\n"
     ]
    }
   ],
   "source": [
    "import warnings\n",
    "\n",
    "# ...\n",
    "\n",
    "# Ignore warnings\n",
    "warnings.filterwarnings(\"ignore\")\n",
    "\n",
    "# Create a folder for logs if it doesn't exist\n",
    "logs_folder = \"logs\"\n",
    "os.makedirs(logs_folder, exist_ok=True)\n",
    "\n",
    "# Generate a filename based on the current date and time\n",
    "current_time = datetime.now().strftime(\"%Y-%m-%d_%H-%M-%S\")\n",
    "log_filename = f\"{logs_folder}/training_log_BERT2_{current_time}.txt\"\n",
    "\n",
    "\n",
    "\n",
    "# set the device\n",
    "device = torch.device('cuda' if torch.cuda.is_available() else 'cpu')\n",
    "\n",
    "# set the learning rate\n",
    "lr = 2e-5\n",
    "\n",
    "# set the number of epochs\n",
    "\n",
    "\n",
    "# set the optimizer\n",
    "optimizer = torch.optim.Adam(model.parameters(), lr=lr)\n",
    "\n",
    "# move the model to the device\n",
    "model.to(device)\n",
    "\n",
    "# lists to store metrics\n",
    "train_losses = []\n",
    "train_precisions = []\n",
    "train_recalls = []\n",
    "train_f1_scores = []\n",
    "\n",
    "devel_losses = []\n",
    "devel_precisions = []\n",
    "devel_recalls = []\n",
    "devel_f1_scores = []\n",
    "\n",
    "test_losses = []\n",
    "test_precisions = []\n",
    "test_recalls = []\n",
    "test_f1_scores = []\n",
    "\n",
    "val_losses = []\n",
    "val_precisions = []\n",
    "val_recalls = []\n",
    "val_f1_scores = []\n",
    "\n",
    "best_test_loss = float('inf')\n",
    "best_epoch = 0\n",
    "\n",
    "# iterate over the epochs\n",
    "# Set up logging\n",
    "with open(log_filename, 'a') as log_file:\n",
    "  for epoch in range(num_epochs):\n",
    "      start_time = datetime.now()\n",
    "      print(f'Epoch {epoch + 1}/{num_epochs}')\n",
    "\n",
    "      # train the model\n",
    "      train_loss, train_precision, train_recall, train_f1 = train(model, train_loader, optimizer, criterion, device)\n",
    "\n",
    "      # evaluate the model on the validation set\n",
    "      val_loss, val_precision, val_recall, val_f1 = evaluate(model, val_loader, criterion, device)\n",
    "\n",
    "      # evaluate the model on the validation set\n",
    "      devel_loss, devel_precision, devel_recall, devel_f1 = evaluate(model, devel_loader, criterion, device)\n",
    "\n",
    "          # evaluate the model on the validation set\n",
    "      test_loss, test_precision, test_recall, test_f1 = evaluate(model, test_loader, criterion, device)\n",
    "\n",
    "      # print the detailed metrics\n",
    "      print(f'Train -- Loss: {train_loss:.4f} | Precision: {train_precision:.4f} | Recall: {train_recall:.4f} | F1: {train_f1:.4f}')\n",
    "      print(f'Val   -- Loss: {val_loss:.4f} | Precision: {val_precision:.4f} | Recall: {val_recall:.4f} | F1: {val_f1:.4f}')\n",
    "      print(f'Devel -- Loss: {devel_loss:.4f} | Precision: {devel_precision:.4f} | Recall: {devel_recall:.4f} | F1: {devel_f1:.4f}')\n",
    "      print(f'Test  -- Loss: {test_loss:.4f} | Precision: {test_precision:.4f} | Recall: {test_recall:.4f} | F1: {test_f1:.4f}')\n",
    "\n",
    "      # log the metrics\n",
    "      log_file.write(f'Epoch {epoch + 1}/{num_epochs}\\n')\n",
    "      log_file.write(f'Train -- Loss: {train_loss:.4f} | Precision: {train_precision:.4f} | Recall: {train_recall:.4f} | F1: {train_f1:.4f}\\n')\n",
    "      log_file.write(f'Val   -- Loss: {val_loss:.4f} | Precision: {val_precision:.4f} | Recall: {val_recall:.4f} | F1: {val_f1:.4f}')\n",
    "      log_file.write(f'Devel -- Loss: {devel_loss:.4f} | Precision: {devel_precision:.4f} | Recall: {devel_recall:.4f} | F1: {devel_f1:.4f}\\n')\n",
    "      log_file.write(f'Test  -- Loss: {test_loss:.4f} | Precision: {test_precision:.4f} | Recall: {test_recall:.4f} | F1: {test_f1:.4f}\\n')\n",
    "      log_file.flush()\n",
    "\n",
    "      # Save the best model based on validation loss\n",
    "      if test_loss < best_test_loss:\n",
    "          best_test_loss = test_loss\n",
    "          best_epoch = epoch + 1\n",
    "          torch.save(model.state_dict(), f'best_model_BERT2.pt')\n",
    "\n",
    "      # Save the metrics\n",
    "      train_losses.append(train_loss)\n",
    "      train_precisions.append(train_precision)\n",
    "      train_recalls.append(train_recall)\n",
    "      train_f1_scores.append(train_f1)\n",
    "\n",
    "      val_losses.append(val_loss)\n",
    "      val_precisions.append(val_precision)\n",
    "      val_recalls.append(val_recall)\n",
    "      val_f1_scores.append(val_f1)\n",
    "\n",
    "      devel_losses.append(devel_loss)\n",
    "      devel_precisions.append(devel_precision)\n",
    "      devel_recalls.append(devel_recall)\n",
    "      devel_f1_scores.append(devel_f1)\n",
    "\n",
    "      test_losses.append(test_loss)\n",
    "      test_precisions.append(test_precision)\n",
    "      test_recalls.append(test_recall)\n",
    "      test_f1_scores.append(test_f1)\n",
    "\n",
    "      # Calculate and print time remaining\n",
    "      elapsed_time = datetime.now() - start_time\n",
    "      remaining_time = (num_epochs - epoch - 1) * elapsed_time\n",
    "      print(f'Time Elapsed: {elapsed_time}, Time Remaining: {remaining_time} \\n')\n",
    "      torch.save(model.state_dict(), f'final_model_BERT2.pt')\n",
    "\n",
    "# Print the best epoch\n",
    "print(f\"Best Model: Epoch {best_epoch}, Best Validation Loss: {best_test_loss:.4f}\")\n",
    "\n",
    "print(f\"Path log file: \", log_filename)\n",
    "\n"
   ]
  },
  {
   "cell_type": "code",
   "execution_count": null,
   "id": "1b9fa7c4",
   "metadata": {
    "papermill": {
     "duration": 1.928148,
     "end_time": "2023-12-07T16:08:37.358488",
     "exception": false,
     "start_time": "2023-12-07T16:08:35.430340",
     "status": "completed"
    },
    "tags": []
   },
   "outputs": [],
   "source": []
  }
 ],
 "metadata": {
  "kaggle": {
   "accelerator": "gpu",
   "dataSources": [
    {
     "datasetId": 4122567,
     "sourceId": 7142504,
     "sourceType": "datasetVersion"
    }
   ],
   "dockerImageVersionId": 30588,
   "isGpuEnabled": true,
   "isInternetEnabled": true,
   "language": "python",
   "sourceType": "notebook"
  },
  "kernelspec": {
   "display_name": "Python 3",
   "language": "python",
   "name": "python3"
  },
  "language_info": {
   "codemirror_mode": {
    "name": "ipython",
    "version": 3
   },
   "file_extension": ".py",
   "mimetype": "text/x-python",
   "name": "python",
   "nbconvert_exporter": "python",
   "pygments_lexer": "ipython3",
   "version": "3.10.12"
  },
  "papermill": {
   "default_parameters": {},
   "duration": 22617.817537,
   "end_time": "2023-12-07T16:08:41.561551",
   "environment_variables": {},
   "exception": null,
   "input_path": "__notebook__.ipynb",
   "output_path": "__notebook__.ipynb",
   "parameters": {},
   "start_time": "2023-12-07T09:51:43.744014",
   "version": "2.4.0"
  },
  "widgets": {
   "application/vnd.jupyter.widget-state+json": {
    "state": {
     "00fd76fd3fa64f7594667b33fd7af0cf": {
      "model_module": "@jupyter-widgets/controls",
      "model_module_version": "1.5.0",
      "model_name": "HTMLModel",
      "state": {
       "_dom_classes": [],
       "_model_module": "@jupyter-widgets/controls",
       "_model_module_version": "1.5.0",
       "_model_name": "HTMLModel",
       "_view_count": null,
       "_view_module": "@jupyter-widgets/controls",
       "_view_module_version": "1.5.0",
       "_view_name": "HTMLView",
       "description": "",
       "description_tooltip": null,
       "layout": "IPY_MODEL_3a5fe3bd49934576a66c52c7223da273",
       "placeholder": "​",
       "style": "IPY_MODEL_e6be63abec0541a98966d7e7c84010c3",
       "value": " 213k/213k [00:00&lt;00:00, 550kB/s]"
      }
     },
     "040f0dc20ce5452ea0ba8adb76659543": {
      "model_module": "@jupyter-widgets/controls",
      "model_module_version": "1.5.0",
      "model_name": "HTMLModel",
      "state": {
       "_dom_classes": [],
       "_model_module": "@jupyter-widgets/controls",
       "_model_module_version": "1.5.0",
       "_model_name": "HTMLModel",
       "_view_count": null,
       "_view_module": "@jupyter-widgets/controls",
       "_view_module_version": "1.5.0",
       "_view_name": "HTMLView",
       "description": "",
       "description_tooltip": null,
       "layout": "IPY_MODEL_d8d92fabdf1040019b2510bf5c8c52e2",
       "placeholder": "​",
       "style": "IPY_MODEL_b0d1f56f011f44928ac4227799991806",
       "value": "Downloading config.json: 100%"
      }
     },
     "04e0579a6e214d5a96324af6404e7a51": {
      "model_module": "@jupyter-widgets/base",
      "model_module_version": "1.2.0",
      "model_name": "LayoutModel",
      "state": {
       "_model_module": "@jupyter-widgets/base",
       "_model_module_version": "1.2.0",
       "_model_name": "LayoutModel",
       "_view_count": null,
       "_view_module": "@jupyter-widgets/base",
       "_view_module_version": "1.2.0",
       "_view_name": "LayoutView",
       "align_content": null,
       "align_items": null,
       "align_self": null,
       "border": null,
       "bottom": null,
       "display": null,
       "flex": null,
       "flex_flow": null,
       "grid_area": null,
       "grid_auto_columns": null,
       "grid_auto_flow": null,
       "grid_auto_rows": null,
       "grid_column": null,
       "grid_gap": null,
       "grid_row": null,
       "grid_template_areas": null,
       "grid_template_columns": null,
       "grid_template_rows": null,
       "height": null,
       "justify_content": null,
       "justify_items": null,
       "left": null,
       "margin": null,
       "max_height": null,
       "max_width": null,
       "min_height": null,
       "min_width": null,
       "object_fit": null,
       "object_position": null,
       "order": null,
       "overflow": null,
       "overflow_x": null,
       "overflow_y": null,
       "padding": null,
       "right": null,
       "top": null,
       "visibility": null,
       "width": null
      }
     },
     "086de6f28bd3454a9764838d44165da6": {
      "model_module": "@jupyter-widgets/controls",
      "model_module_version": "1.5.0",
      "model_name": "HBoxModel",
      "state": {
       "_dom_classes": [],
       "_model_module": "@jupyter-widgets/controls",
       "_model_module_version": "1.5.0",
       "_model_name": "HBoxModel",
       "_view_count": null,
       "_view_module": "@jupyter-widgets/controls",
       "_view_module_version": "1.5.0",
       "_view_name": "HBoxView",
       "box_style": "",
       "children": [
        "IPY_MODEL_e38de6f6bc71495fa3d7ceb401826e05",
        "IPY_MODEL_c75aba4b56b24607ba06e75f683d4be7",
        "IPY_MODEL_c758ebbd903245d183f0bd8d54ed7992"
       ],
       "layout": "IPY_MODEL_894710f32625434fbd86aeb624dc2d60"
      }
     },
     "09e55d47ac0c44d78f213df5c5d191ce": {
      "model_module": "@jupyter-widgets/base",
      "model_module_version": "1.2.0",
      "model_name": "LayoutModel",
      "state": {
       "_model_module": "@jupyter-widgets/base",
       "_model_module_version": "1.2.0",
       "_model_name": "LayoutModel",
       "_view_count": null,
       "_view_module": "@jupyter-widgets/base",
       "_view_module_version": "1.2.0",
       "_view_name": "LayoutView",
       "align_content": null,
       "align_items": null,
       "align_self": null,
       "border": null,
       "bottom": null,
       "display": null,
       "flex": null,
       "flex_flow": null,
       "grid_area": null,
       "grid_auto_columns": null,
       "grid_auto_flow": null,
       "grid_auto_rows": null,
       "grid_column": null,
       "grid_gap": null,
       "grid_row": null,
       "grid_template_areas": null,
       "grid_template_columns": null,
       "grid_template_rows": null,
       "height": null,
       "justify_content": null,
       "justify_items": null,
       "left": null,
       "margin": null,
       "max_height": null,
       "max_width": null,
       "min_height": null,
       "min_width": null,
       "object_fit": null,
       "object_position": null,
       "order": null,
       "overflow": null,
       "overflow_x": null,
       "overflow_y": null,
       "padding": null,
       "right": null,
       "top": null,
       "visibility": null,
       "width": null
      }
     },
     "0d862df152e343cab32a3b4ce8030e03": {
      "model_module": "@jupyter-widgets/controls",
      "model_module_version": "1.5.0",
      "model_name": "ProgressStyleModel",
      "state": {
       "_model_module": "@jupyter-widgets/controls",
       "_model_module_version": "1.5.0",
       "_model_name": "ProgressStyleModel",
       "_view_count": null,
       "_view_module": "@jupyter-widgets/base",
       "_view_module_version": "1.2.0",
       "_view_name": "StyleView",
       "bar_color": null,
       "description_width": ""
      }
     },
     "1281810541c749d9aebea8a60200634a": {
      "model_module": "@jupyter-widgets/controls",
      "model_module_version": "1.5.0",
      "model_name": "DescriptionStyleModel",
      "state": {
       "_model_module": "@jupyter-widgets/controls",
       "_model_module_version": "1.5.0",
       "_model_name": "DescriptionStyleModel",
       "_view_count": null,
       "_view_module": "@jupyter-widgets/base",
       "_view_module_version": "1.2.0",
       "_view_name": "StyleView",
       "description_width": ""
      }
     },
     "1681b3f86b5c4b478e746eaa9f519470": {
      "model_module": "@jupyter-widgets/controls",
      "model_module_version": "1.5.0",
      "model_name": "ProgressStyleModel",
      "state": {
       "_model_module": "@jupyter-widgets/controls",
       "_model_module_version": "1.5.0",
       "_model_name": "ProgressStyleModel",
       "_view_count": null,
       "_view_module": "@jupyter-widgets/base",
       "_view_module_version": "1.2.0",
       "_view_name": "StyleView",
       "bar_color": null,
       "description_width": ""
      }
     },
     "174c0ec49e6941aa8e2f64e9102e1728": {
      "model_module": "@jupyter-widgets/controls",
      "model_module_version": "1.5.0",
      "model_name": "DescriptionStyleModel",
      "state": {
       "_model_module": "@jupyter-widgets/controls",
       "_model_module_version": "1.5.0",
       "_model_name": "DescriptionStyleModel",
       "_view_count": null,
       "_view_module": "@jupyter-widgets/base",
       "_view_module_version": "1.2.0",
       "_view_name": "StyleView",
       "description_width": ""
      }
     },
     "1c351ebd6ed1431b954618e749f275a0": {
      "model_module": "@jupyter-widgets/controls",
      "model_module_version": "1.5.0",
      "model_name": "DescriptionStyleModel",
      "state": {
       "_model_module": "@jupyter-widgets/controls",
       "_model_module_version": "1.5.0",
       "_model_name": "DescriptionStyleModel",
       "_view_count": null,
       "_view_module": "@jupyter-widgets/base",
       "_view_module_version": "1.2.0",
       "_view_name": "StyleView",
       "description_width": ""
      }
     },
     "2cc08ca7fda242ecb6025920f8ccda12": {
      "model_module": "@jupyter-widgets/controls",
      "model_module_version": "1.5.0",
      "model_name": "HTMLModel",
      "state": {
       "_dom_classes": [],
       "_model_module": "@jupyter-widgets/controls",
       "_model_module_version": "1.5.0",
       "_model_name": "HTMLModel",
       "_view_count": null,
       "_view_module": "@jupyter-widgets/controls",
       "_view_module_version": "1.5.0",
       "_view_name": "HTMLView",
       "description": "",
       "description_tooltip": null,
       "layout": "IPY_MODEL_6cd562b6415f4866a149dcdee31dea6f",
       "placeholder": "​",
       "style": "IPY_MODEL_9d69e11a92d94698a961c21d8c5456fb",
       "value": "Downloading vocab.txt: 100%"
      }
     },
     "315c57040a3b4d56b37cda60b9f166b4": {
      "model_module": "@jupyter-widgets/controls",
      "model_module_version": "1.5.0",
      "model_name": "DescriptionStyleModel",
      "state": {
       "_model_module": "@jupyter-widgets/controls",
       "_model_module_version": "1.5.0",
       "_model_name": "DescriptionStyleModel",
       "_view_count": null,
       "_view_module": "@jupyter-widgets/base",
       "_view_module_version": "1.2.0",
       "_view_name": "StyleView",
       "description_width": ""
      }
     },
     "3a5fe3bd49934576a66c52c7223da273": {
      "model_module": "@jupyter-widgets/base",
      "model_module_version": "1.2.0",
      "model_name": "LayoutModel",
      "state": {
       "_model_module": "@jupyter-widgets/base",
       "_model_module_version": "1.2.0",
       "_model_name": "LayoutModel",
       "_view_count": null,
       "_view_module": "@jupyter-widgets/base",
       "_view_module_version": "1.2.0",
       "_view_name": "LayoutView",
       "align_content": null,
       "align_items": null,
       "align_self": null,
       "border": null,
       "bottom": null,
       "display": null,
       "flex": null,
       "flex_flow": null,
       "grid_area": null,
       "grid_auto_columns": null,
       "grid_auto_flow": null,
       "grid_auto_rows": null,
       "grid_column": null,
       "grid_gap": null,
       "grid_row": null,
       "grid_template_areas": null,
       "grid_template_columns": null,
       "grid_template_rows": null,
       "height": null,
       "justify_content": null,
       "justify_items": null,
       "left": null,
       "margin": null,
       "max_height": null,
       "max_width": null,
       "min_height": null,
       "min_width": null,
       "object_fit": null,
       "object_position": null,
       "order": null,
       "overflow": null,
       "overflow_x": null,
       "overflow_y": null,
       "padding": null,
       "right": null,
       "top": null,
       "visibility": null,
       "width": null
      }
     },
     "3bbb0d2e9d5b448480fcd93145c74b14": {
      "model_module": "@jupyter-widgets/controls",
      "model_module_version": "1.5.0",
      "model_name": "DescriptionStyleModel",
      "state": {
       "_model_module": "@jupyter-widgets/controls",
       "_model_module_version": "1.5.0",
       "_model_name": "DescriptionStyleModel",
       "_view_count": null,
       "_view_module": "@jupyter-widgets/base",
       "_view_module_version": "1.2.0",
       "_view_name": "StyleView",
       "description_width": ""
      }
     },
     "4134c99b8dc4478e8d8d302e02d3f3c6": {
      "model_module": "@jupyter-widgets/controls",
      "model_module_version": "1.5.0",
      "model_name": "HBoxModel",
      "state": {
       "_dom_classes": [],
       "_model_module": "@jupyter-widgets/controls",
       "_model_module_version": "1.5.0",
       "_model_name": "HBoxModel",
       "_view_count": null,
       "_view_module": "@jupyter-widgets/controls",
       "_view_module_version": "1.5.0",
       "_view_name": "HBoxView",
       "box_style": "",
       "children": [
        "IPY_MODEL_040f0dc20ce5452ea0ba8adb76659543",
        "IPY_MODEL_a340dabda5164ee5a3275978b6f42e01",
        "IPY_MODEL_933554b1e23c43739843802208079b4d"
       ],
       "layout": "IPY_MODEL_6bc4be0a12704cac88000108ebcfb328"
      }
     },
     "45ebac42275d4c15995ae8da65740628": {
      "model_module": "@jupyter-widgets/controls",
      "model_module_version": "1.5.0",
      "model_name": "HTMLModel",
      "state": {
       "_dom_classes": [],
       "_model_module": "@jupyter-widgets/controls",
       "_model_module_version": "1.5.0",
       "_model_name": "HTMLModel",
       "_view_count": null,
       "_view_module": "@jupyter-widgets/controls",
       "_view_module_version": "1.5.0",
       "_view_name": "HTMLView",
       "description": "",
       "description_tooltip": null,
       "layout": "IPY_MODEL_b27613a46bc54acc902735ef894ebe30",
       "placeholder": "​",
       "style": "IPY_MODEL_d47d81e65f7c4269b87ac50bdb8b4372",
       "value": " 112/112 [00:00&lt;00:00, 9.43kB/s]"
      }
     },
     "6bc4be0a12704cac88000108ebcfb328": {
      "model_module": "@jupyter-widgets/base",
      "model_module_version": "1.2.0",
      "model_name": "LayoutModel",
      "state": {
       "_model_module": "@jupyter-widgets/base",
       "_model_module_version": "1.2.0",
       "_model_name": "LayoutModel",
       "_view_count": null,
       "_view_module": "@jupyter-widgets/base",
       "_view_module_version": "1.2.0",
       "_view_name": "LayoutView",
       "align_content": null,
       "align_items": null,
       "align_self": null,
       "border": null,
       "bottom": null,
       "display": null,
       "flex": null,
       "flex_flow": null,
       "grid_area": null,
       "grid_auto_columns": null,
       "grid_auto_flow": null,
       "grid_auto_rows": null,
       "grid_column": null,
       "grid_gap": null,
       "grid_row": null,
       "grid_template_areas": null,
       "grid_template_columns": null,
       "grid_template_rows": null,
       "height": null,
       "justify_content": null,
       "justify_items": null,
       "left": null,
       "margin": null,
       "max_height": null,
       "max_width": null,
       "min_height": null,
       "min_width": null,
       "object_fit": null,
       "object_position": null,
       "order": null,
       "overflow": null,
       "overflow_x": null,
       "overflow_y": null,
       "padding": null,
       "right": null,
       "top": null,
       "visibility": null,
       "width": null
      }
     },
     "6cd562b6415f4866a149dcdee31dea6f": {
      "model_module": "@jupyter-widgets/base",
      "model_module_version": "1.2.0",
      "model_name": "LayoutModel",
      "state": {
       "_model_module": "@jupyter-widgets/base",
       "_model_module_version": "1.2.0",
       "_model_name": "LayoutModel",
       "_view_count": null,
       "_view_module": "@jupyter-widgets/base",
       "_view_module_version": "1.2.0",
       "_view_name": "LayoutView",
       "align_content": null,
       "align_items": null,
       "align_self": null,
       "border": null,
       "bottom": null,
       "display": null,
       "flex": null,
       "flex_flow": null,
       "grid_area": null,
       "grid_auto_columns": null,
       "grid_auto_flow": null,
       "grid_auto_rows": null,
       "grid_column": null,
       "grid_gap": null,
       "grid_row": null,
       "grid_template_areas": null,
       "grid_template_columns": null,
       "grid_template_rows": null,
       "height": null,
       "justify_content": null,
       "justify_items": null,
       "left": null,
       "margin": null,
       "max_height": null,
       "max_width": null,
       "min_height": null,
       "min_width": null,
       "object_fit": null,
       "object_position": null,
       "order": null,
       "overflow": null,
       "overflow_x": null,
       "overflow_y": null,
       "padding": null,
       "right": null,
       "top": null,
       "visibility": null,
       "width": null
      }
     },
     "6ecf7d08d9b64515b58063d661013a20": {
      "model_module": "@jupyter-widgets/base",
      "model_module_version": "1.2.0",
      "model_name": "LayoutModel",
      "state": {
       "_model_module": "@jupyter-widgets/base",
       "_model_module_version": "1.2.0",
       "_model_name": "LayoutModel",
       "_view_count": null,
       "_view_module": "@jupyter-widgets/base",
       "_view_module_version": "1.2.0",
       "_view_name": "LayoutView",
       "align_content": null,
       "align_items": null,
       "align_self": null,
       "border": null,
       "bottom": null,
       "display": null,
       "flex": null,
       "flex_flow": null,
       "grid_area": null,
       "grid_auto_columns": null,
       "grid_auto_flow": null,
       "grid_auto_rows": null,
       "grid_column": null,
       "grid_gap": null,
       "grid_row": null,
       "grid_template_areas": null,
       "grid_template_columns": null,
       "grid_template_rows": null,
       "height": null,
       "justify_content": null,
       "justify_items": null,
       "left": null,
       "margin": null,
       "max_height": null,
       "max_width": null,
       "min_height": null,
       "min_width": null,
       "object_fit": null,
       "object_position": null,
       "order": null,
       "overflow": null,
       "overflow_x": null,
       "overflow_y": null,
       "padding": null,
       "right": null,
       "top": null,
       "visibility": null,
       "width": null
      }
     },
     "6fce888843c14f05beaf8370dbd2fac6": {
      "model_module": "@jupyter-widgets/base",
      "model_module_version": "1.2.0",
      "model_name": "LayoutModel",
      "state": {
       "_model_module": "@jupyter-widgets/base",
       "_model_module_version": "1.2.0",
       "_model_name": "LayoutModel",
       "_view_count": null,
       "_view_module": "@jupyter-widgets/base",
       "_view_module_version": "1.2.0",
       "_view_name": "LayoutView",
       "align_content": null,
       "align_items": null,
       "align_self": null,
       "border": null,
       "bottom": null,
       "display": null,
       "flex": null,
       "flex_flow": null,
       "grid_area": null,
       "grid_auto_columns": null,
       "grid_auto_flow": null,
       "grid_auto_rows": null,
       "grid_column": null,
       "grid_gap": null,
       "grid_row": null,
       "grid_template_areas": null,
       "grid_template_columns": null,
       "grid_template_rows": null,
       "height": null,
       "justify_content": null,
       "justify_items": null,
       "left": null,
       "margin": null,
       "max_height": null,
       "max_width": null,
       "min_height": null,
       "min_width": null,
       "object_fit": null,
       "object_position": null,
       "order": null,
       "overflow": null,
       "overflow_x": null,
       "overflow_y": null,
       "padding": null,
       "right": null,
       "top": null,
       "visibility": null,
       "width": null
      }
     },
     "723e3f3eef5b4078aafbadcbbec50261": {
      "model_module": "@jupyter-widgets/base",
      "model_module_version": "1.2.0",
      "model_name": "LayoutModel",
      "state": {
       "_model_module": "@jupyter-widgets/base",
       "_model_module_version": "1.2.0",
       "_model_name": "LayoutModel",
       "_view_count": null,
       "_view_module": "@jupyter-widgets/base",
       "_view_module_version": "1.2.0",
       "_view_name": "LayoutView",
       "align_content": null,
       "align_items": null,
       "align_self": null,
       "border": null,
       "bottom": null,
       "display": null,
       "flex": null,
       "flex_flow": null,
       "grid_area": null,
       "grid_auto_columns": null,
       "grid_auto_flow": null,
       "grid_auto_rows": null,
       "grid_column": null,
       "grid_gap": null,
       "grid_row": null,
       "grid_template_areas": null,
       "grid_template_columns": null,
       "grid_template_rows": null,
       "height": null,
       "justify_content": null,
       "justify_items": null,
       "left": null,
       "margin": null,
       "max_height": null,
       "max_width": null,
       "min_height": null,
       "min_width": null,
       "object_fit": null,
       "object_position": null,
       "order": null,
       "overflow": null,
       "overflow_x": null,
       "overflow_y": null,
       "padding": null,
       "right": null,
       "top": null,
       "visibility": null,
       "width": null
      }
     },
     "729e2731ef7b41b080257d6706a5c116": {
      "model_module": "@jupyter-widgets/controls",
      "model_module_version": "1.5.0",
      "model_name": "ProgressStyleModel",
      "state": {
       "_model_module": "@jupyter-widgets/controls",
       "_model_module_version": "1.5.0",
       "_model_name": "ProgressStyleModel",
       "_view_count": null,
       "_view_module": "@jupyter-widgets/base",
       "_view_module_version": "1.2.0",
       "_view_name": "StyleView",
       "bar_color": null,
       "description_width": ""
      }
     },
     "7829299f9bed4ac2aa2da9f08abcf110": {
      "model_module": "@jupyter-widgets/base",
      "model_module_version": "1.2.0",
      "model_name": "LayoutModel",
      "state": {
       "_model_module": "@jupyter-widgets/base",
       "_model_module_version": "1.2.0",
       "_model_name": "LayoutModel",
       "_view_count": null,
       "_view_module": "@jupyter-widgets/base",
       "_view_module_version": "1.2.0",
       "_view_name": "LayoutView",
       "align_content": null,
       "align_items": null,
       "align_self": null,
       "border": null,
       "bottom": null,
       "display": null,
       "flex": null,
       "flex_flow": null,
       "grid_area": null,
       "grid_auto_columns": null,
       "grid_auto_flow": null,
       "grid_auto_rows": null,
       "grid_column": null,
       "grid_gap": null,
       "grid_row": null,
       "grid_template_areas": null,
       "grid_template_columns": null,
       "grid_template_rows": null,
       "height": null,
       "justify_content": null,
       "justify_items": null,
       "left": null,
       "margin": null,
       "max_height": null,
       "max_width": null,
       "min_height": null,
       "min_width": null,
       "object_fit": null,
       "object_position": null,
       "order": null,
       "overflow": null,
       "overflow_x": null,
       "overflow_y": null,
       "padding": null,
       "right": null,
       "top": null,
       "visibility": null,
       "width": null
      }
     },
     "7feb31721a2041b1827756e9fe179025": {
      "model_module": "@jupyter-widgets/controls",
      "model_module_version": "1.5.0",
      "model_name": "DescriptionStyleModel",
      "state": {
       "_model_module": "@jupyter-widgets/controls",
       "_model_module_version": "1.5.0",
       "_model_name": "DescriptionStyleModel",
       "_view_count": null,
       "_view_module": "@jupyter-widgets/base",
       "_view_module_version": "1.2.0",
       "_view_name": "StyleView",
       "description_width": ""
      }
     },
     "8577159abafa4b7aa8c9ebf2ddab8c8b": {
      "model_module": "@jupyter-widgets/base",
      "model_module_version": "1.2.0",
      "model_name": "LayoutModel",
      "state": {
       "_model_module": "@jupyter-widgets/base",
       "_model_module_version": "1.2.0",
       "_model_name": "LayoutModel",
       "_view_count": null,
       "_view_module": "@jupyter-widgets/base",
       "_view_module_version": "1.2.0",
       "_view_name": "LayoutView",
       "align_content": null,
       "align_items": null,
       "align_self": null,
       "border": null,
       "bottom": null,
       "display": null,
       "flex": null,
       "flex_flow": null,
       "grid_area": null,
       "grid_auto_columns": null,
       "grid_auto_flow": null,
       "grid_auto_rows": null,
       "grid_column": null,
       "grid_gap": null,
       "grid_row": null,
       "grid_template_areas": null,
       "grid_template_columns": null,
       "grid_template_rows": null,
       "height": null,
       "justify_content": null,
       "justify_items": null,
       "left": null,
       "margin": null,
       "max_height": null,
       "max_width": null,
       "min_height": null,
       "min_width": null,
       "object_fit": null,
       "object_position": null,
       "order": null,
       "overflow": null,
       "overflow_x": null,
       "overflow_y": null,
       "padding": null,
       "right": null,
       "top": null,
       "visibility": null,
       "width": null
      }
     },
     "8938b927481c45b392e885f10a5b7fb6": {
      "model_module": "@jupyter-widgets/controls",
      "model_module_version": "1.5.0",
      "model_name": "FloatProgressModel",
      "state": {
       "_dom_classes": [],
       "_model_module": "@jupyter-widgets/controls",
       "_model_module_version": "1.5.0",
       "_model_name": "FloatProgressModel",
       "_view_count": null,
       "_view_module": "@jupyter-widgets/controls",
       "_view_module_version": "1.5.0",
       "_view_name": "ProgressView",
       "bar_style": "success",
       "description": "",
       "description_tooltip": null,
       "layout": "IPY_MODEL_6fce888843c14f05beaf8370dbd2fac6",
       "max": 112.0,
       "min": 0.0,
       "orientation": "horizontal",
       "style": "IPY_MODEL_f87cbad6d6e947afa1fce97c9daae415",
       "value": 112.0
      }
     },
     "894710f32625434fbd86aeb624dc2d60": {
      "model_module": "@jupyter-widgets/base",
      "model_module_version": "1.2.0",
      "model_name": "LayoutModel",
      "state": {
       "_model_module": "@jupyter-widgets/base",
       "_model_module_version": "1.2.0",
       "_model_name": "LayoutModel",
       "_view_count": null,
       "_view_module": "@jupyter-widgets/base",
       "_view_module_version": "1.2.0",
       "_view_name": "LayoutView",
       "align_content": null,
       "align_items": null,
       "align_self": null,
       "border": null,
       "bottom": null,
       "display": null,
       "flex": null,
       "flex_flow": null,
       "grid_area": null,
       "grid_auto_columns": null,
       "grid_auto_flow": null,
       "grid_auto_rows": null,
       "grid_column": null,
       "grid_gap": null,
       "grid_row": null,
       "grid_template_areas": null,
       "grid_template_columns": null,
       "grid_template_rows": null,
       "height": null,
       "justify_content": null,
       "justify_items": null,
       "left": null,
       "margin": null,
       "max_height": null,
       "max_width": null,
       "min_height": null,
       "min_width": null,
       "object_fit": null,
       "object_position": null,
       "order": null,
       "overflow": null,
       "overflow_x": null,
       "overflow_y": null,
       "padding": null,
       "right": null,
       "top": null,
       "visibility": null,
       "width": null
      }
     },
     "8db43842f87f42b59b76f79cbe23c2d5": {
      "model_module": "@jupyter-widgets/controls",
      "model_module_version": "1.5.0",
      "model_name": "FloatProgressModel",
      "state": {
       "_dom_classes": [],
       "_model_module": "@jupyter-widgets/controls",
       "_model_module_version": "1.5.0",
       "_model_name": "FloatProgressModel",
       "_view_count": null,
       "_view_module": "@jupyter-widgets/controls",
       "_view_module_version": "1.5.0",
       "_view_name": "ProgressView",
       "bar_style": "success",
       "description": "",
       "description_tooltip": null,
       "layout": "IPY_MODEL_af74634890144ed19e626d4bf40afde3",
       "max": 213450.0,
       "min": 0.0,
       "orientation": "horizontal",
       "style": "IPY_MODEL_c677a8d907cd4c39930c2196659f4477",
       "value": 213450.0
      }
     },
     "933554b1e23c43739843802208079b4d": {
      "model_module": "@jupyter-widgets/controls",
      "model_module_version": "1.5.0",
      "model_name": "HTMLModel",
      "state": {
       "_dom_classes": [],
       "_model_module": "@jupyter-widgets/controls",
       "_model_module_version": "1.5.0",
       "_model_name": "HTMLModel",
       "_view_count": null,
       "_view_module": "@jupyter-widgets/controls",
       "_view_module_version": "1.5.0",
       "_view_name": "HTMLView",
       "description": "",
       "description_tooltip": null,
       "layout": "IPY_MODEL_9fe760af825a4908b64004c5b02a9c46",
       "placeholder": "​",
       "style": "IPY_MODEL_3bbb0d2e9d5b448480fcd93145c74b14",
       "value": " 746/746 [00:00&lt;00:00, 63.2kB/s]"
      }
     },
     "967250bf08914c1ea0f82fd13c75de4b": {
      "model_module": "@jupyter-widgets/base",
      "model_module_version": "1.2.0",
      "model_name": "LayoutModel",
      "state": {
       "_model_module": "@jupyter-widgets/base",
       "_model_module_version": "1.2.0",
       "_model_name": "LayoutModel",
       "_view_count": null,
       "_view_module": "@jupyter-widgets/base",
       "_view_module_version": "1.2.0",
       "_view_name": "LayoutView",
       "align_content": null,
       "align_items": null,
       "align_self": null,
       "border": null,
       "bottom": null,
       "display": null,
       "flex": null,
       "flex_flow": null,
       "grid_area": null,
       "grid_auto_columns": null,
       "grid_auto_flow": null,
       "grid_auto_rows": null,
       "grid_column": null,
       "grid_gap": null,
       "grid_row": null,
       "grid_template_areas": null,
       "grid_template_columns": null,
       "grid_template_rows": null,
       "height": null,
       "justify_content": null,
       "justify_items": null,
       "left": null,
       "margin": null,
       "max_height": null,
       "max_width": null,
       "min_height": null,
       "min_width": null,
       "object_fit": null,
       "object_position": null,
       "order": null,
       "overflow": null,
       "overflow_x": null,
       "overflow_y": null,
       "padding": null,
       "right": null,
       "top": null,
       "visibility": null,
       "width": null
      }
     },
     "9899c905a17249fd807b167d61721178": {
      "model_module": "@jupyter-widgets/controls",
      "model_module_version": "1.5.0",
      "model_name": "HBoxModel",
      "state": {
       "_dom_classes": [],
       "_model_module": "@jupyter-widgets/controls",
       "_model_module_version": "1.5.0",
       "_model_name": "HBoxModel",
       "_view_count": null,
       "_view_module": "@jupyter-widgets/controls",
       "_view_module_version": "1.5.0",
       "_view_name": "HBoxView",
       "box_style": "",
       "children": [
        "IPY_MODEL_b78736e44874455b9d6fb6b744ec51f7",
        "IPY_MODEL_8938b927481c45b392e885f10a5b7fb6",
        "IPY_MODEL_45ebac42275d4c15995ae8da65740628"
       ],
       "layout": "IPY_MODEL_8577159abafa4b7aa8c9ebf2ddab8c8b"
      }
     },
     "9d69e11a92d94698a961c21d8c5456fb": {
      "model_module": "@jupyter-widgets/controls",
      "model_module_version": "1.5.0",
      "model_name": "DescriptionStyleModel",
      "state": {
       "_model_module": "@jupyter-widgets/controls",
       "_model_module_version": "1.5.0",
       "_model_name": "DescriptionStyleModel",
       "_view_count": null,
       "_view_module": "@jupyter-widgets/base",
       "_view_module_version": "1.2.0",
       "_view_name": "StyleView",
       "description_width": ""
      }
     },
     "9fe760af825a4908b64004c5b02a9c46": {
      "model_module": "@jupyter-widgets/base",
      "model_module_version": "1.2.0",
      "model_name": "LayoutModel",
      "state": {
       "_model_module": "@jupyter-widgets/base",
       "_model_module_version": "1.2.0",
       "_model_name": "LayoutModel",
       "_view_count": null,
       "_view_module": "@jupyter-widgets/base",
       "_view_module_version": "1.2.0",
       "_view_name": "LayoutView",
       "align_content": null,
       "align_items": null,
       "align_self": null,
       "border": null,
       "bottom": null,
       "display": null,
       "flex": null,
       "flex_flow": null,
       "grid_area": null,
       "grid_auto_columns": null,
       "grid_auto_flow": null,
       "grid_auto_rows": null,
       "grid_column": null,
       "grid_gap": null,
       "grid_row": null,
       "grid_template_areas": null,
       "grid_template_columns": null,
       "grid_template_rows": null,
       "height": null,
       "justify_content": null,
       "justify_items": null,
       "left": null,
       "margin": null,
       "max_height": null,
       "max_width": null,
       "min_height": null,
       "min_width": null,
       "object_fit": null,
       "object_position": null,
       "order": null,
       "overflow": null,
       "overflow_x": null,
       "overflow_y": null,
       "padding": null,
       "right": null,
       "top": null,
       "visibility": null,
       "width": null
      }
     },
     "a340dabda5164ee5a3275978b6f42e01": {
      "model_module": "@jupyter-widgets/controls",
      "model_module_version": "1.5.0",
      "model_name": "FloatProgressModel",
      "state": {
       "_dom_classes": [],
       "_model_module": "@jupyter-widgets/controls",
       "_model_module_version": "1.5.0",
       "_model_name": "FloatProgressModel",
       "_view_count": null,
       "_view_module": "@jupyter-widgets/controls",
       "_view_module_version": "1.5.0",
       "_view_name": "ProgressView",
       "bar_style": "success",
       "description": "",
       "description_tooltip": null,
       "layout": "IPY_MODEL_7829299f9bed4ac2aa2da9f08abcf110",
       "max": 746.0,
       "min": 0.0,
       "orientation": "horizontal",
       "style": "IPY_MODEL_0d862df152e343cab32a3b4ce8030e03",
       "value": 746.0
      }
     },
     "a6306f9f72114a50b99b31edf5b54311": {
      "model_module": "@jupyter-widgets/controls",
      "model_module_version": "1.5.0",
      "model_name": "FloatProgressModel",
      "state": {
       "_dom_classes": [],
       "_model_module": "@jupyter-widgets/controls",
       "_model_module_version": "1.5.0",
       "_model_name": "FloatProgressModel",
       "_view_count": null,
       "_view_module": "@jupyter-widgets/controls",
       "_view_module_version": "1.5.0",
       "_view_name": "ProgressView",
       "bar_style": "success",
       "description": "",
       "description_tooltip": null,
       "layout": "IPY_MODEL_6ecf7d08d9b64515b58063d661013a20",
       "max": 430926282.0,
       "min": 0.0,
       "orientation": "horizontal",
       "style": "IPY_MODEL_1681b3f86b5c4b478e746eaa9f519470",
       "value": 430926282.0
      }
     },
     "af74634890144ed19e626d4bf40afde3": {
      "model_module": "@jupyter-widgets/base",
      "model_module_version": "1.2.0",
      "model_name": "LayoutModel",
      "state": {
       "_model_module": "@jupyter-widgets/base",
       "_model_module_version": "1.2.0",
       "_model_name": "LayoutModel",
       "_view_count": null,
       "_view_module": "@jupyter-widgets/base",
       "_view_module_version": "1.2.0",
       "_view_name": "LayoutView",
       "align_content": null,
       "align_items": null,
       "align_self": null,
       "border": null,
       "bottom": null,
       "display": null,
       "flex": null,
       "flex_flow": null,
       "grid_area": null,
       "grid_auto_columns": null,
       "grid_auto_flow": null,
       "grid_auto_rows": null,
       "grid_column": null,
       "grid_gap": null,
       "grid_row": null,
       "grid_template_areas": null,
       "grid_template_columns": null,
       "grid_template_rows": null,
       "height": null,
       "justify_content": null,
       "justify_items": null,
       "left": null,
       "margin": null,
       "max_height": null,
       "max_width": null,
       "min_height": null,
       "min_width": null,
       "object_fit": null,
       "object_position": null,
       "order": null,
       "overflow": null,
       "overflow_x": null,
       "overflow_y": null,
       "padding": null,
       "right": null,
       "top": null,
       "visibility": null,
       "width": null
      }
     },
     "afb37ca1ea3d47e4be24537a67b90808": {
      "model_module": "@jupyter-widgets/base",
      "model_module_version": "1.2.0",
      "model_name": "LayoutModel",
      "state": {
       "_model_module": "@jupyter-widgets/base",
       "_model_module_version": "1.2.0",
       "_model_name": "LayoutModel",
       "_view_count": null,
       "_view_module": "@jupyter-widgets/base",
       "_view_module_version": "1.2.0",
       "_view_name": "LayoutView",
       "align_content": null,
       "align_items": null,
       "align_self": null,
       "border": null,
       "bottom": null,
       "display": null,
       "flex": null,
       "flex_flow": null,
       "grid_area": null,
       "grid_auto_columns": null,
       "grid_auto_flow": null,
       "grid_auto_rows": null,
       "grid_column": null,
       "grid_gap": null,
       "grid_row": null,
       "grid_template_areas": null,
       "grid_template_columns": null,
       "grid_template_rows": null,
       "height": null,
       "justify_content": null,
       "justify_items": null,
       "left": null,
       "margin": null,
       "max_height": null,
       "max_width": null,
       "min_height": null,
       "min_width": null,
       "object_fit": null,
       "object_position": null,
       "order": null,
       "overflow": null,
       "overflow_x": null,
       "overflow_y": null,
       "padding": null,
       "right": null,
       "top": null,
       "visibility": null,
       "width": null
      }
     },
     "b0d1f56f011f44928ac4227799991806": {
      "model_module": "@jupyter-widgets/controls",
      "model_module_version": "1.5.0",
      "model_name": "DescriptionStyleModel",
      "state": {
       "_model_module": "@jupyter-widgets/controls",
       "_model_module_version": "1.5.0",
       "_model_name": "DescriptionStyleModel",
       "_view_count": null,
       "_view_module": "@jupyter-widgets/base",
       "_view_module_version": "1.2.0",
       "_view_name": "StyleView",
       "description_width": ""
      }
     },
     "b27613a46bc54acc902735ef894ebe30": {
      "model_module": "@jupyter-widgets/base",
      "model_module_version": "1.2.0",
      "model_name": "LayoutModel",
      "state": {
       "_model_module": "@jupyter-widgets/base",
       "_model_module_version": "1.2.0",
       "_model_name": "LayoutModel",
       "_view_count": null,
       "_view_module": "@jupyter-widgets/base",
       "_view_module_version": "1.2.0",
       "_view_name": "LayoutView",
       "align_content": null,
       "align_items": null,
       "align_self": null,
       "border": null,
       "bottom": null,
       "display": null,
       "flex": null,
       "flex_flow": null,
       "grid_area": null,
       "grid_auto_columns": null,
       "grid_auto_flow": null,
       "grid_auto_rows": null,
       "grid_column": null,
       "grid_gap": null,
       "grid_row": null,
       "grid_template_areas": null,
       "grid_template_columns": null,
       "grid_template_rows": null,
       "height": null,
       "justify_content": null,
       "justify_items": null,
       "left": null,
       "margin": null,
       "max_height": null,
       "max_width": null,
       "min_height": null,
       "min_width": null,
       "object_fit": null,
       "object_position": null,
       "order": null,
       "overflow": null,
       "overflow_x": null,
       "overflow_y": null,
       "padding": null,
       "right": null,
       "top": null,
       "visibility": null,
       "width": null
      }
     },
     "b78736e44874455b9d6fb6b744ec51f7": {
      "model_module": "@jupyter-widgets/controls",
      "model_module_version": "1.5.0",
      "model_name": "HTMLModel",
      "state": {
       "_dom_classes": [],
       "_model_module": "@jupyter-widgets/controls",
       "_model_module_version": "1.5.0",
       "_model_name": "HTMLModel",
       "_view_count": null,
       "_view_module": "@jupyter-widgets/controls",
       "_view_module_version": "1.5.0",
       "_view_name": "HTMLView",
       "description": "",
       "description_tooltip": null,
       "layout": "IPY_MODEL_723e3f3eef5b4078aafbadcbbec50261",
       "placeholder": "​",
       "style": "IPY_MODEL_1c351ebd6ed1431b954618e749f275a0",
       "value": "Downloading (…)cial_tokens_map.json: 100%"
      }
     },
     "c2b614883365489eb1d52be4086e17bf": {
      "model_module": "@jupyter-widgets/controls",
      "model_module_version": "1.5.0",
      "model_name": "HTMLModel",
      "state": {
       "_dom_classes": [],
       "_model_module": "@jupyter-widgets/controls",
       "_model_module_version": "1.5.0",
       "_model_name": "HTMLModel",
       "_view_count": null,
       "_view_module": "@jupyter-widgets/controls",
       "_view_module_version": "1.5.0",
       "_view_name": "HTMLView",
       "description": "",
       "description_tooltip": null,
       "layout": "IPY_MODEL_d02ec99e81ae48c8ac591b9441f3dd17",
       "placeholder": "​",
       "style": "IPY_MODEL_174c0ec49e6941aa8e2f64e9102e1728",
       "value": "Downloading pytorch_model.bin: 100%"
      }
     },
     "c677a8d907cd4c39930c2196659f4477": {
      "model_module": "@jupyter-widgets/controls",
      "model_module_version": "1.5.0",
      "model_name": "ProgressStyleModel",
      "state": {
       "_model_module": "@jupyter-widgets/controls",
       "_model_module_version": "1.5.0",
       "_model_name": "ProgressStyleModel",
       "_view_count": null,
       "_view_module": "@jupyter-widgets/base",
       "_view_module_version": "1.2.0",
       "_view_name": "StyleView",
       "bar_color": null,
       "description_width": ""
      }
     },
     "c758ebbd903245d183f0bd8d54ed7992": {
      "model_module": "@jupyter-widgets/controls",
      "model_module_version": "1.5.0",
      "model_name": "HTMLModel",
      "state": {
       "_dom_classes": [],
       "_model_module": "@jupyter-widgets/controls",
       "_model_module_version": "1.5.0",
       "_model_name": "HTMLModel",
       "_view_count": null,
       "_view_module": "@jupyter-widgets/controls",
       "_view_module_version": "1.5.0",
       "_view_name": "HTMLView",
       "description": "",
       "description_tooltip": null,
       "layout": "IPY_MODEL_e7c87779547b400a8483cc3363567653",
       "placeholder": "​",
       "style": "IPY_MODEL_315c57040a3b4d56b37cda60b9f166b4",
       "value": " 59.0/59.0 [00:00&lt;00:00, 5.15kB/s]"
      }
     },
     "c75aba4b56b24607ba06e75f683d4be7": {
      "model_module": "@jupyter-widgets/controls",
      "model_module_version": "1.5.0",
      "model_name": "FloatProgressModel",
      "state": {
       "_dom_classes": [],
       "_model_module": "@jupyter-widgets/controls",
       "_model_module_version": "1.5.0",
       "_model_name": "FloatProgressModel",
       "_view_count": null,
       "_view_module": "@jupyter-widgets/controls",
       "_view_module_version": "1.5.0",
       "_view_name": "ProgressView",
       "bar_style": "success",
       "description": "",
       "description_tooltip": null,
       "layout": "IPY_MODEL_afb37ca1ea3d47e4be24537a67b90808",
       "max": 59.0,
       "min": 0.0,
       "orientation": "horizontal",
       "style": "IPY_MODEL_729e2731ef7b41b080257d6706a5c116",
       "value": 59.0
      }
     },
     "c8023a9891f5409caec962d9d49c163d": {
      "model_module": "@jupyter-widgets/controls",
      "model_module_version": "1.5.0",
      "model_name": "HBoxModel",
      "state": {
       "_dom_classes": [],
       "_model_module": "@jupyter-widgets/controls",
       "_model_module_version": "1.5.0",
       "_model_name": "HBoxModel",
       "_view_count": null,
       "_view_module": "@jupyter-widgets/controls",
       "_view_module_version": "1.5.0",
       "_view_name": "HBoxView",
       "box_style": "",
       "children": [
        "IPY_MODEL_c2b614883365489eb1d52be4086e17bf",
        "IPY_MODEL_a6306f9f72114a50b99b31edf5b54311",
        "IPY_MODEL_cef34f5e925143518af5b82e67109403"
       ],
       "layout": "IPY_MODEL_09e55d47ac0c44d78f213df5c5d191ce"
      }
     },
     "cef34f5e925143518af5b82e67109403": {
      "model_module": "@jupyter-widgets/controls",
      "model_module_version": "1.5.0",
      "model_name": "HTMLModel",
      "state": {
       "_dom_classes": [],
       "_model_module": "@jupyter-widgets/controls",
       "_model_module_version": "1.5.0",
       "_model_name": "HTMLModel",
       "_view_count": null,
       "_view_module": "@jupyter-widgets/controls",
       "_view_module_version": "1.5.0",
       "_view_name": "HTMLView",
       "description": "",
       "description_tooltip": null,
       "layout": "IPY_MODEL_04e0579a6e214d5a96324af6404e7a51",
       "placeholder": "​",
       "style": "IPY_MODEL_7feb31721a2041b1827756e9fe179025",
       "value": " 431M/431M [00:22&lt;00:00, 19.1MB/s]"
      }
     },
     "d02ec99e81ae48c8ac591b9441f3dd17": {
      "model_module": "@jupyter-widgets/base",
      "model_module_version": "1.2.0",
      "model_name": "LayoutModel",
      "state": {
       "_model_module": "@jupyter-widgets/base",
       "_model_module_version": "1.2.0",
       "_model_name": "LayoutModel",
       "_view_count": null,
       "_view_module": "@jupyter-widgets/base",
       "_view_module_version": "1.2.0",
       "_view_name": "LayoutView",
       "align_content": null,
       "align_items": null,
       "align_self": null,
       "border": null,
       "bottom": null,
       "display": null,
       "flex": null,
       "flex_flow": null,
       "grid_area": null,
       "grid_auto_columns": null,
       "grid_auto_flow": null,
       "grid_auto_rows": null,
       "grid_column": null,
       "grid_gap": null,
       "grid_row": null,
       "grid_template_areas": null,
       "grid_template_columns": null,
       "grid_template_rows": null,
       "height": null,
       "justify_content": null,
       "justify_items": null,
       "left": null,
       "margin": null,
       "max_height": null,
       "max_width": null,
       "min_height": null,
       "min_width": null,
       "object_fit": null,
       "object_position": null,
       "order": null,
       "overflow": null,
       "overflow_x": null,
       "overflow_y": null,
       "padding": null,
       "right": null,
       "top": null,
       "visibility": null,
       "width": null
      }
     },
     "d47d81e65f7c4269b87ac50bdb8b4372": {
      "model_module": "@jupyter-widgets/controls",
      "model_module_version": "1.5.0",
      "model_name": "DescriptionStyleModel",
      "state": {
       "_model_module": "@jupyter-widgets/controls",
       "_model_module_version": "1.5.0",
       "_model_name": "DescriptionStyleModel",
       "_view_count": null,
       "_view_module": "@jupyter-widgets/base",
       "_view_module_version": "1.2.0",
       "_view_name": "StyleView",
       "description_width": ""
      }
     },
     "d63e9cb1e03d44c69b7f56983aa1c71d": {
      "model_module": "@jupyter-widgets/controls",
      "model_module_version": "1.5.0",
      "model_name": "HBoxModel",
      "state": {
       "_dom_classes": [],
       "_model_module": "@jupyter-widgets/controls",
       "_model_module_version": "1.5.0",
       "_model_name": "HBoxModel",
       "_view_count": null,
       "_view_module": "@jupyter-widgets/controls",
       "_view_module_version": "1.5.0",
       "_view_name": "HBoxView",
       "box_style": "",
       "children": [
        "IPY_MODEL_2cc08ca7fda242ecb6025920f8ccda12",
        "IPY_MODEL_8db43842f87f42b59b76f79cbe23c2d5",
        "IPY_MODEL_00fd76fd3fa64f7594667b33fd7af0cf"
       ],
       "layout": "IPY_MODEL_967250bf08914c1ea0f82fd13c75de4b"
      }
     },
     "d8d92fabdf1040019b2510bf5c8c52e2": {
      "model_module": "@jupyter-widgets/base",
      "model_module_version": "1.2.0",
      "model_name": "LayoutModel",
      "state": {
       "_model_module": "@jupyter-widgets/base",
       "_model_module_version": "1.2.0",
       "_model_name": "LayoutModel",
       "_view_count": null,
       "_view_module": "@jupyter-widgets/base",
       "_view_module_version": "1.2.0",
       "_view_name": "LayoutView",
       "align_content": null,
       "align_items": null,
       "align_self": null,
       "border": null,
       "bottom": null,
       "display": null,
       "flex": null,
       "flex_flow": null,
       "grid_area": null,
       "grid_auto_columns": null,
       "grid_auto_flow": null,
       "grid_auto_rows": null,
       "grid_column": null,
       "grid_gap": null,
       "grid_row": null,
       "grid_template_areas": null,
       "grid_template_columns": null,
       "grid_template_rows": null,
       "height": null,
       "justify_content": null,
       "justify_items": null,
       "left": null,
       "margin": null,
       "max_height": null,
       "max_width": null,
       "min_height": null,
       "min_width": null,
       "object_fit": null,
       "object_position": null,
       "order": null,
       "overflow": null,
       "overflow_x": null,
       "overflow_y": null,
       "padding": null,
       "right": null,
       "top": null,
       "visibility": null,
       "width": null
      }
     },
     "e38de6f6bc71495fa3d7ceb401826e05": {
      "model_module": "@jupyter-widgets/controls",
      "model_module_version": "1.5.0",
      "model_name": "HTMLModel",
      "state": {
       "_dom_classes": [],
       "_model_module": "@jupyter-widgets/controls",
       "_model_module_version": "1.5.0",
       "_model_name": "HTMLModel",
       "_view_count": null,
       "_view_module": "@jupyter-widgets/controls",
       "_view_module_version": "1.5.0",
       "_view_name": "HTMLView",
       "description": "",
       "description_tooltip": null,
       "layout": "IPY_MODEL_eaa6a40728bd4569a20963eb7c358044",
       "placeholder": "​",
       "style": "IPY_MODEL_1281810541c749d9aebea8a60200634a",
       "value": "Downloading tokenizer_config.json: 100%"
      }
     },
     "e6be63abec0541a98966d7e7c84010c3": {
      "model_module": "@jupyter-widgets/controls",
      "model_module_version": "1.5.0",
      "model_name": "DescriptionStyleModel",
      "state": {
       "_model_module": "@jupyter-widgets/controls",
       "_model_module_version": "1.5.0",
       "_model_name": "DescriptionStyleModel",
       "_view_count": null,
       "_view_module": "@jupyter-widgets/base",
       "_view_module_version": "1.2.0",
       "_view_name": "StyleView",
       "description_width": ""
      }
     },
     "e7c87779547b400a8483cc3363567653": {
      "model_module": "@jupyter-widgets/base",
      "model_module_version": "1.2.0",
      "model_name": "LayoutModel",
      "state": {
       "_model_module": "@jupyter-widgets/base",
       "_model_module_version": "1.2.0",
       "_model_name": "LayoutModel",
       "_view_count": null,
       "_view_module": "@jupyter-widgets/base",
       "_view_module_version": "1.2.0",
       "_view_name": "LayoutView",
       "align_content": null,
       "align_items": null,
       "align_self": null,
       "border": null,
       "bottom": null,
       "display": null,
       "flex": null,
       "flex_flow": null,
       "grid_area": null,
       "grid_auto_columns": null,
       "grid_auto_flow": null,
       "grid_auto_rows": null,
       "grid_column": null,
       "grid_gap": null,
       "grid_row": null,
       "grid_template_areas": null,
       "grid_template_columns": null,
       "grid_template_rows": null,
       "height": null,
       "justify_content": null,
       "justify_items": null,
       "left": null,
       "margin": null,
       "max_height": null,
       "max_width": null,
       "min_height": null,
       "min_width": null,
       "object_fit": null,
       "object_position": null,
       "order": null,
       "overflow": null,
       "overflow_x": null,
       "overflow_y": null,
       "padding": null,
       "right": null,
       "top": null,
       "visibility": null,
       "width": null
      }
     },
     "eaa6a40728bd4569a20963eb7c358044": {
      "model_module": "@jupyter-widgets/base",
      "model_module_version": "1.2.0",
      "model_name": "LayoutModel",
      "state": {
       "_model_module": "@jupyter-widgets/base",
       "_model_module_version": "1.2.0",
       "_model_name": "LayoutModel",
       "_view_count": null,
       "_view_module": "@jupyter-widgets/base",
       "_view_module_version": "1.2.0",
       "_view_name": "LayoutView",
       "align_content": null,
       "align_items": null,
       "align_self": null,
       "border": null,
       "bottom": null,
       "display": null,
       "flex": null,
       "flex_flow": null,
       "grid_area": null,
       "grid_auto_columns": null,
       "grid_auto_flow": null,
       "grid_auto_rows": null,
       "grid_column": null,
       "grid_gap": null,
       "grid_row": null,
       "grid_template_areas": null,
       "grid_template_columns": null,
       "grid_template_rows": null,
       "height": null,
       "justify_content": null,
       "justify_items": null,
       "left": null,
       "margin": null,
       "max_height": null,
       "max_width": null,
       "min_height": null,
       "min_width": null,
       "object_fit": null,
       "object_position": null,
       "order": null,
       "overflow": null,
       "overflow_x": null,
       "overflow_y": null,
       "padding": null,
       "right": null,
       "top": null,
       "visibility": null,
       "width": null
      }
     },
     "f87cbad6d6e947afa1fce97c9daae415": {
      "model_module": "@jupyter-widgets/controls",
      "model_module_version": "1.5.0",
      "model_name": "ProgressStyleModel",
      "state": {
       "_model_module": "@jupyter-widgets/controls",
       "_model_module_version": "1.5.0",
       "_model_name": "ProgressStyleModel",
       "_view_count": null,
       "_view_module": "@jupyter-widgets/base",
       "_view_module_version": "1.2.0",
       "_view_name": "StyleView",
       "bar_color": null,
       "description_width": ""
      }
     }
    },
    "version_major": 2,
    "version_minor": 0
   }
  }
 },
 "nbformat": 4,
 "nbformat_minor": 5
}
